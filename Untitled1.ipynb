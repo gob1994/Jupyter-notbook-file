{
 "cells": [
  {
   "cell_type": "markdown",
   "id": "5d45b52a-89bb-4ca0-90ef-b759ca0ae1df",
   "metadata": {},
   "source": [
    "# 8888"
   ]
  },
  {
   "cell_type": "markdown",
   "id": "12069f28-0599-473b-b80d-8cf6c05980c0",
   "metadata": {},
   "source": [
    "## 666  \n",
    "* aaa\n",
    "* bbb\n",
    "* ccc\n",
    "\n",
    "1. ddd\n",
    "2. eee"
   ]
  }
 ],
 "metadata": {
  "kernelspec": {
   "display_name": "Python 3 (ipykernel)",
   "language": "python",
   "name": "python3"
  },
  "language_info": {
   "codemirror_mode": {
    "name": "ipython",
    "version": 3
   },
   "file_extension": ".py",
   "mimetype": "text/x-python",
   "name": "python",
   "nbconvert_exporter": "python",
   "pygments_lexer": "ipython3",
   "version": "3.11.5"
  }
 },
 "nbformat": 4,
 "nbformat_minor": 5
}
