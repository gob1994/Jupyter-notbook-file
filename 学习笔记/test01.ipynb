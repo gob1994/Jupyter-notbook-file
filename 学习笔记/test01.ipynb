{
 "cells": [
  {
   "cell_type": "markdown",
   "id": "ec9adc36-a35f-40b8-8084-77eb50907ff0",
   "metadata": {},
   "source": [
    "<div align='center'>\n",
    "    <img src='abc.jpeg' width=200px height=200px>\n",
    "</div>"
   ]
  },
  {
   "cell_type": "markdown",
   "id": "26d8559c-dac4-4042-826e-bc2f3ee29b82",
   "metadata": {},
   "source": [
    "<div align='center' style='color:red; background:green; width:200px; height:200px'>\n",
    "    中国\n",
    "</div>"
   ]
  },
  {
   "cell_type": "markdown",
   "id": "145e4bd1",
   "metadata": {},
   "source": [
    "![Alt text](image.png)"
   ]
  }
 ],
 "metadata": {
  "kernelspec": {
   "display_name": "Python 3 (ipykernel)",
   "language": "python",
   "name": "python3"
  },
  "language_info": {
   "codemirror_mode": {
    "name": "ipython",
    "version": 3
   },
   "file_extension": ".py",
   "mimetype": "text/x-python",
   "name": "python",
   "nbconvert_exporter": "python",
   "pygments_lexer": "ipython3",
   "version": "3.11.5"
  }
 },
 "nbformat": 4,
 "nbformat_minor": 5
}
