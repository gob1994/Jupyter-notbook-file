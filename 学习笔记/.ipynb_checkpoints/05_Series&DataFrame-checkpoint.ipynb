{
 "cells": [
  {
   "cell_type": "code",
   "execution_count": 1,
   "id": "3eba5076-fe20-4d57-b654-64f382b4c57e",
   "metadata": {},
   "outputs": [
    {
     "name": "stderr",
     "output_type": "stream",
     "text": [
      "Matplotlib is building the font cache; this may take a moment.\n"
     ]
    },
    {
     "data": {
      "text/plain": [
       "语文    150\n",
       "数学    150\n",
       "英语    150\n",
       "理综    300\n",
       "dtype: int64"
      ]
     },
     "execution_count": 1,
     "metadata": {},
     "output_type": "execute_result"
    }
   ],
   "source": [
    "import pandas as pd\n",
    "import numpy as np\n",
    "import matplotlib.pyplot as plt\n",
    "from pandas import Series,DataFrame\n",
    "import seaborn as sns\n",
    "%matplotlib inline\n",
    "index=['语文','数学','英语','理综']\n",
    "data1=[150,150,150,300]\n",
    "s=Series(data=data1,index=index)\n",
    "s"
   ]
  },
  {
   "cell_type": "markdown",
   "id": "41bae57e-6abe-4433-9aa3-f74f351d27a2",
   "metadata": {},
   "source": [
    "**Series基本概念**  \n",
    "1、它是一个定长的有序字典  \n",
    "2、它有shape、size、index、values等属性  \n",
    "3、功能方法：head()、tail()分别查看前n个和后n个值  \n",
    "4、当索引对应的值，可能出现缺失数据显示NaN  \n",
    "5、pd.isnull()、pd.notnull()或者自带isnull()、notnull()函数都可检测缺失数据  \n",
    "6、使用bool型的列表访问数组对象  \n",
    "7、Series对象本身及其实例都有一个name属性  "
   ]
  },
  {
   "cell_type": "code",
   "execution_count": 2,
   "id": "e7c7fef2-c673-4e0c-954f-94a89c9e282d",
   "metadata": {},
   "outputs": [
    {
     "data": {
      "text/plain": [
       "(4,)"
      ]
     },
     "metadata": {},
     "output_type": "display_data"
    },
    {
     "data": {
      "text/plain": [
       "4"
      ]
     },
     "metadata": {},
     "output_type": "display_data"
    }
   ],
   "source": [
    "display(s.shape,s.size)"
   ]
  },
  {
   "cell_type": "code",
   "execution_count": 3,
   "id": "a24f5417-38a3-4694-a6eb-a458bc6f5405",
   "metadata": {},
   "outputs": [
    {
     "data": {
      "text/plain": [
       "array([150, 150, 150, 300], dtype=int64)"
      ]
     },
     "execution_count": 3,
     "metadata": {},
     "output_type": "execute_result"
    }
   ],
   "source": [
    "s.values"
   ]
  },
  {
   "cell_type": "code",
   "execution_count": 4,
   "id": "df05f8a9-ee07-40a7-a3ba-fd7fc87b1017",
   "metadata": {},
   "outputs": [
    {
     "data": {
      "text/plain": [
       "Index(['语文', '数学', '英语', '理综'], dtype='object')"
      ]
     },
     "execution_count": 4,
     "metadata": {},
     "output_type": "execute_result"
    }
   ],
   "source": [
    "s.index"
   ]
  },
  {
   "cell_type": "code",
   "execution_count": 5,
   "id": "83339ca9-6199-44fd-bfaa-7d579854b725",
   "metadata": {},
   "outputs": [
    {
     "data": {
      "text/plain": [
       "语文    150\n",
       "数学    150\n",
       "dtype: int64"
      ]
     },
     "execution_count": 5,
     "metadata": {},
     "output_type": "execute_result"
    }
   ],
   "source": [
    "s.head(2)"
   ]
  },
  {
   "cell_type": "code",
   "execution_count": 6,
   "id": "886d3637-ffab-4201-8a5b-fb06b0ffd09c",
   "metadata": {},
   "outputs": [],
   "source": [
    "dic={\n",
    "    '语文':150,\n",
    "    '数学':150,\n",
    "    '英语':150,\n",
    "    '理综':300\n",
    "}"
   ]
  },
  {
   "cell_type": "code",
   "execution_count": 7,
   "id": "e4e2774d-aa3f-4d90-903b-1023721228e2",
   "metadata": {},
   "outputs": [
    {
     "data": {
      "text/plain": [
       "语文    150\n",
       "物理    150\n",
       "数学    150\n",
       "化学    300\n",
       "dtype: int64"
      ]
     },
     "execution_count": 7,
     "metadata": {},
     "output_type": "execute_result"
    }
   ],
   "source": [
    "s=Series(data=data1,index=['语文','物理','数学','化学'])  #如果数据来源类型为list时，index与data两者没有强对应的关系；所以超出了范围也不会提示出错\n",
    "s"
   ]
  },
  {
   "cell_type": "code",
   "execution_count": 8,
   "id": "8a2c2644-6c94-4a94-a2e6-9e622f9d211c",
   "metadata": {},
   "outputs": [
    {
     "data": {
      "text/plain": [
       "语文    150.0\n",
       "物理      NaN\n",
       "数学    150.0\n",
       "化学      NaN\n",
       "dtype: float64"
      ]
     },
     "execution_count": 8,
     "metadata": {},
     "output_type": "execute_result"
    }
   ],
   "source": [
    "s=Series(data=dic,index=['语文','物理','数学','化学']) #如果data的数据类型为dict字典时，index与data就是强对应的关系，一旦索引超出范围就会提示出错\n",
    "s"
   ]
  },
  {
   "cell_type": "code",
   "execution_count": 9,
   "id": "8e3c8e21-2a64-4c1b-ade2-f9deeae304f7",
   "metadata": {},
   "outputs": [
    {
     "data": {
      "text/plain": [
       "语文    False\n",
       "物理     True\n",
       "数学    False\n",
       "化学     True\n",
       "dtype: bool"
      ]
     },
     "execution_count": 9,
     "metadata": {},
     "output_type": "execute_result"
    }
   ],
   "source": [
    "s.isnull()"
   ]
  },
  {
   "cell_type": "code",
   "execution_count": 10,
   "id": "fc7a82f1-bf78-4dc9-884e-8c06423d5822",
   "metadata": {},
   "outputs": [
    {
     "data": {
      "text/plain": [
       "物理   NaN\n",
       "化学   NaN\n",
       "dtype: float64"
      ]
     },
     "execution_count": 10,
     "metadata": {},
     "output_type": "execute_result"
    }
   ],
   "source": [
    "s[s.isnull()]"
   ]
  },
  {
   "cell_type": "code",
   "execution_count": 11,
   "id": "c619e4f8-75c1-4973-a489-0991c5180f41",
   "metadata": {},
   "outputs": [
    {
     "data": {
      "text/plain": [
       "语文     True\n",
       "物理    False\n",
       "数学     True\n",
       "化学    False\n",
       "dtype: bool"
      ]
     },
     "execution_count": 11,
     "metadata": {},
     "output_type": "execute_result"
    }
   ],
   "source": [
    "s.notnull()"
   ]
  },
  {
   "cell_type": "code",
   "execution_count": 12,
   "id": "e603ccde-8007-478f-a00f-bbf147691170",
   "metadata": {},
   "outputs": [
    {
     "data": {
      "text/plain": [
       "语文    150.0\n",
       "数学    150.0\n",
       "dtype: float64"
      ]
     },
     "execution_count": 12,
     "metadata": {},
     "output_type": "execute_result"
    }
   ],
   "source": [
    "s[s.notnull()]"
   ]
  },
  {
   "cell_type": "code",
   "execution_count": 13,
   "id": "566598dd-2ce2-4eb6-8175-ac4a9a87f790",
   "metadata": {},
   "outputs": [
    {
     "data": {
      "text/plain": [
       "True"
      ]
     },
     "execution_count": 13,
     "metadata": {},
     "output_type": "execute_result"
    }
   ],
   "source": [
    "#检查是否存在空值\n",
    "s.isnull().any()"
   ]
  },
  {
   "cell_type": "code",
   "execution_count": 14,
   "id": "454a8847-06b3-4aab-ad83-c8b62dedc455",
   "metadata": {},
   "outputs": [
    {
     "data": {
      "text/plain": [
       "语文    150.0\n",
       "物理      NaN\n",
       "数学    150.0\n",
       "化学      NaN\n",
       "Name: Score, dtype: float64"
      ]
     },
     "execution_count": 14,
     "metadata": {},
     "output_type": "execute_result"
    }
   ],
   "source": [
    "#为此series设置名称（在DataFrame中充当列名称）\n",
    "s.name='Score'\n",
    "s"
   ]
  },
  {
   "cell_type": "code",
   "execution_count": 15,
   "id": "1441d6c8-8c33-4e8e-abf2-00d97c1533e3",
   "metadata": {},
   "outputs": [
    {
     "data": {
      "text/plain": [
       "语文    150.0\n",
       "数学    150.0\n",
       "物理      NaN\n",
       "化学      NaN\n",
       "Name: Score, dtype: float64"
      ]
     },
     "execution_count": 15,
     "metadata": {},
     "output_type": "execute_result"
    }
   ],
   "source": [
    "#根据值来排序\n",
    "s.sort_values(ascending=True)"
   ]
  },
  {
   "cell_type": "code",
   "execution_count": 16,
   "id": "731ca033-40b8-4e38-9c1e-e4b71156e259",
   "metadata": {},
   "outputs": [
    {
     "data": {
      "text/plain": [
       "化学      NaN\n",
       "数学    150.0\n",
       "物理      NaN\n",
       "语文    150.0\n",
       "Name: Score, dtype: float64"
      ]
     },
     "execution_count": 16,
     "metadata": {},
     "output_type": "execute_result"
    }
   ],
   "source": [
    "#根据索引来排序\n",
    "s.sort_index()"
   ]
  },
  {
   "cell_type": "code",
   "execution_count": 17,
   "id": "331539dc-98b0-4742-ba88-d3c306132131",
   "metadata": {},
   "outputs": [
    {
     "data": {
      "text/plain": [
       "0     8\n",
       "1     1\n",
       "2     7\n",
       "3     7\n",
       "4     2\n",
       "5     8\n",
       "6     9\n",
       "7     3\n",
       "8     2\n",
       "9     4\n",
       "10    0\n",
       "11    3\n",
       "12    1\n",
       "13    5\n",
       "14    6\n",
       "15    4\n",
       "16    7\n",
       "17    6\n",
       "18    7\n",
       "19    4\n",
       "20    8\n",
       "21    9\n",
       "22    1\n",
       "23    5\n",
       "24    4\n",
       "25    1\n",
       "26    8\n",
       "27    2\n",
       "28    4\n",
       "29    6\n",
       "30    1\n",
       "31    2\n",
       "32    1\n",
       "33    1\n",
       "34    7\n",
       "35    6\n",
       "36    6\n",
       "37    2\n",
       "38    4\n",
       "39    1\n",
       "40    8\n",
       "41    4\n",
       "42    2\n",
       "43    7\n",
       "44    0\n",
       "45    7\n",
       "46    5\n",
       "47    7\n",
       "48    9\n",
       "49    6\n",
       "dtype: int32"
      ]
     },
     "execution_count": 17,
     "metadata": {},
     "output_type": "execute_result"
    }
   ],
   "source": [
    "#统计值出现的次数\n",
    "s3=Series(data=np.random.randint(0,10,size=50))\n",
    "s3"
   ]
  },
  {
   "cell_type": "code",
   "execution_count": 18,
   "id": "eec16717-64fe-4f07-bbe5-1f4cdd0c45cb",
   "metadata": {},
   "outputs": [
    {
     "data": {
      "text/plain": [
       "1    8\n",
       "7    8\n",
       "4    7\n",
       "2    6\n",
       "6    6\n",
       "8    5\n",
       "9    3\n",
       "5    3\n",
       "3    2\n",
       "0    2\n",
       "Name: count, dtype: int64"
      ]
     },
     "execution_count": 18,
     "metadata": {},
     "output_type": "execute_result"
    }
   ],
   "source": [
    "s3.value_counts()"
   ]
  },
  {
   "cell_type": "code",
   "execution_count": 19,
   "id": "0c7a0884-edf0-4296-9c6d-d02925adecb3",
   "metadata": {},
   "outputs": [
    {
     "data": {
      "text/plain": [
       "A    58\n",
       "B    37\n",
       "C    78\n",
       "D    51\n",
       "E    10\n",
       "dtype: int32"
      ]
     },
     "metadata": {},
     "output_type": "display_data"
    },
    {
     "data": {
      "text/plain": [
       "A    10\n",
       "B    17\n",
       "C    16\n",
       "D    33\n",
       "E    34\n",
       "dtype: int32"
      ]
     },
     "metadata": {},
     "output_type": "display_data"
    }
   ],
   "source": [
    "s1=Series(data=np.random.randint(0,100,size=5),index=list('ABCDE'))\n",
    "s2=Series(data=np.random.randint(0,100,size=5),index=list('ABCDE'))\n",
    "display(s1,s2)"
   ]
  },
  {
   "cell_type": "markdown",
   "id": "618790b1-66ab-4fe7-8133-cc1f98a21461",
   "metadata": {},
   "source": [
    "**Series运算**  \n",
    "1、numpy数组的运算也同样适用于Series  \n",
    "2、Series之间的运算  \n",
    "在运算中自动对齐不同索引的数据  \n",
    "如果索引不对应，则应补NaN  \n",
    "注意：要想保留所有的index，则需要使用  \n",
    "add()加  \n",
    "sub()减  \n",
    "mul()乘  \n",
    "div()除  \n",
    "3、"
   ]
  },
  {
   "cell_type": "code",
   "execution_count": 20,
   "id": "d933bf1b-be00-4d6d-b0df-40e903d30307",
   "metadata": {},
   "outputs": [
    {
     "data": {
      "text/plain": [
       "A    59\n",
       "B    38\n",
       "C    79\n",
       "D    52\n",
       "E    11\n",
       "dtype: int32"
      ]
     },
     "execution_count": 20,
     "metadata": {},
     "output_type": "execute_result"
    }
   ],
   "source": [
    "#与一个数运算，广播机制运算\n",
    "s1+1"
   ]
  },
  {
   "cell_type": "code",
   "execution_count": 21,
   "id": "a5d17529-7d73-4bb0-9c92-c4fac6dc0867",
   "metadata": {},
   "outputs": [
    {
     "data": {
      "text/plain": [
       "A    68\n",
       "B    54\n",
       "C    94\n",
       "D    84\n",
       "E    44\n",
       "dtype: int32"
      ]
     },
     "execution_count": 21,
     "metadata": {},
     "output_type": "execute_result"
    }
   ],
   "source": [
    "#Series之间的运算（索引对齐）\n",
    "s1+s2"
   ]
  },
  {
   "cell_type": "code",
   "execution_count": 22,
   "id": "dcef6764-0d37-459d-a2e4-1cc1c49f7633",
   "metadata": {},
   "outputs": [
    {
     "data": {
      "text/plain": [
       "B    27\n",
       "C    44\n",
       "D    80\n",
       "E    38\n",
       "F    64\n",
       "dtype: int32"
      ]
     },
     "execution_count": 22,
     "metadata": {},
     "output_type": "execute_result"
    }
   ],
   "source": [
    "s3=Series(data=np.random.randint(0,100,size=5),index=list('BCDEF'))\n",
    "s3"
   ]
  },
  {
   "cell_type": "code",
   "execution_count": 23,
   "id": "73a1cdd7-bcb2-4c7a-b8c9-768aae59582b",
   "metadata": {},
   "outputs": [
    {
     "data": {
      "text/plain": [
       "A      NaN\n",
       "B     64.0\n",
       "C    122.0\n",
       "D    131.0\n",
       "E     48.0\n",
       "F      NaN\n",
       "dtype: float64"
      ]
     },
     "execution_count": 23,
     "metadata": {},
     "output_type": "execute_result"
    }
   ],
   "source": [
    "#因为索引对齐，所以两个Series对象中，索引只在某一个对象出现，而另外一个对象没有的话，就会出现NaN\n",
    "s1+s3"
   ]
  },
  {
   "cell_type": "code",
   "execution_count": 24,
   "id": "730b5316-0848-4b02-99d0-5dbfe2749a29",
   "metadata": {},
   "outputs": [
    {
     "data": {
      "text/plain": [
       "A     58.0\n",
       "B     64.0\n",
       "C    122.0\n",
       "D    131.0\n",
       "E     48.0\n",
       "F     64.0\n",
       "dtype: float64"
      ]
     },
     "execution_count": 24,
     "metadata": {},
     "output_type": "execute_result"
    }
   ],
   "source": [
    "#如果要不出现上面的NaN的话，应该使用加、减、乘、除的运算函数中的fill_value= 来处理(0或1要看情况而定)\n",
    "s1.add(s3,fill_value=0)"
   ]
  },
  {
   "cell_type": "code",
   "execution_count": 25,
   "id": "e465eabc-a76c-4166-ade9-588a37d367c6",
   "metadata": {},
   "outputs": [
    {
     "data": {
      "text/plain": [
       "A    58\n",
       "B    37\n",
       "C    78\n",
       "D    51\n",
       "E    10\n",
       "dtype: int32"
      ]
     },
     "execution_count": 25,
     "metadata": {},
     "output_type": "execute_result"
    }
   ],
   "source": [
    "#Series和numpy.array运算\n",
    "s1"
   ]
  },
  {
   "cell_type": "code",
   "execution_count": 26,
   "id": "f7f2b133-1629-4f2b-99d7-66f7ae7d428d",
   "metadata": {},
   "outputs": [
    {
     "data": {
      "text/plain": [
       "array([8, 0, 8, 8, 7])"
      ]
     },
     "execution_count": 26,
     "metadata": {},
     "output_type": "execute_result"
    }
   ],
   "source": [
    "n1=np.random.randint(0,10,size=5)\n",
    "n1"
   ]
  },
  {
   "cell_type": "code",
   "execution_count": 27,
   "id": "21323a3a-0390-478e-8b54-97ca58f9fc86",
   "metadata": {},
   "outputs": [
    {
     "data": {
      "text/plain": [
       "A    66\n",
       "B    37\n",
       "C    86\n",
       "D    59\n",
       "E    17\n",
       "dtype: int32"
      ]
     },
     "execution_count": 27,
     "metadata": {},
     "output_type": "execute_result"
    }
   ],
   "source": [
    "#属于广播运算\n",
    "s1+n1"
   ]
  },
  {
   "cell_type": "code",
   "execution_count": 28,
   "id": "2cff1ed5-7350-4a00-b743-537f517afd80",
   "metadata": {},
   "outputs": [
    {
     "data": {
      "text/plain": [
       "array([[3, 9, 4, 4, 1],\n",
       "       [2, 0, 3, 9, 0]])"
      ]
     },
     "execution_count": 28,
     "metadata": {},
     "output_type": "execute_result"
    }
   ],
   "source": [
    "n2=np.random.randint(0,10,size=(2,5))\n",
    "n2"
   ]
  },
  {
   "cell_type": "code",
   "execution_count": 29,
   "id": "582aaf49-e616-477f-ae06-dadbceaf97a9",
   "metadata": {},
   "outputs": [
    {
     "data": {
      "text/plain": [
       "A    58\n",
       "B    37\n",
       "C    78\n",
       "D    51\n",
       "E    10\n",
       "dtype: int32"
      ]
     },
     "execution_count": 29,
     "metadata": {},
     "output_type": "execute_result"
    }
   ],
   "source": [
    "s1"
   ]
  },
  {
   "cell_type": "code",
   "execution_count": 30,
   "id": "12078a5c-a90e-4a7d-bc8a-785803e4b78a",
   "metadata": {},
   "outputs": [
    {
     "ename": "ValueError",
     "evalue": "Length of values (2) does not match length of index (5)",
     "output_type": "error",
     "traceback": [
      "\u001b[1;31m---------------------------------------------------------------------------\u001b[0m",
      "\u001b[1;31mValueError\u001b[0m                                Traceback (most recent call last)",
      "Cell \u001b[1;32mIn[30], line 2\u001b[0m\n\u001b[0;32m      1\u001b[0m \u001b[38;5;66;03m#Series不能直接与numpy的二维数组运算，因为两者的类型不一致\u001b[39;00m\n\u001b[1;32m----> 2\u001b[0m \u001b[43ms1\u001b[49m\u001b[38;5;241;43m+\u001b[39;49m\u001b[43mn2\u001b[49m\n",
      "File \u001b[1;32m~\\AppData\\Local\\Programs\\Python\\Python311\\Lib\\site-packages\\pandas\\core\\ops\\common.py:76\u001b[0m, in \u001b[0;36m_unpack_zerodim_and_defer.<locals>.new_method\u001b[1;34m(self, other)\u001b[0m\n\u001b[0;32m     72\u001b[0m             \u001b[38;5;28;01mreturn\u001b[39;00m \u001b[38;5;28mNotImplemented\u001b[39m\n\u001b[0;32m     74\u001b[0m other \u001b[38;5;241m=\u001b[39m item_from_zerodim(other)\n\u001b[1;32m---> 76\u001b[0m \u001b[38;5;28;01mreturn\u001b[39;00m \u001b[43mmethod\u001b[49m\u001b[43m(\u001b[49m\u001b[38;5;28;43mself\u001b[39;49m\u001b[43m,\u001b[49m\u001b[43m \u001b[49m\u001b[43mother\u001b[49m\u001b[43m)\u001b[49m\n",
      "File \u001b[1;32m~\\AppData\\Local\\Programs\\Python\\Python311\\Lib\\site-packages\\pandas\\core\\arraylike.py:186\u001b[0m, in \u001b[0;36mOpsMixin.__add__\u001b[1;34m(self, other)\u001b[0m\n\u001b[0;32m     98\u001b[0m \u001b[38;5;129m@unpack_zerodim_and_defer\u001b[39m(\u001b[38;5;124m\"\u001b[39m\u001b[38;5;124m__add__\u001b[39m\u001b[38;5;124m\"\u001b[39m)\n\u001b[0;32m     99\u001b[0m \u001b[38;5;28;01mdef\u001b[39;00m \u001b[38;5;21m__add__\u001b[39m(\u001b[38;5;28mself\u001b[39m, other):\n\u001b[0;32m    100\u001b[0m \u001b[38;5;250m    \u001b[39m\u001b[38;5;124;03m\"\"\"\u001b[39;00m\n\u001b[0;32m    101\u001b[0m \u001b[38;5;124;03m    Get Addition of DataFrame and other, column-wise.\u001b[39;00m\n\u001b[0;32m    102\u001b[0m \n\u001b[1;32m   (...)\u001b[0m\n\u001b[0;32m    184\u001b[0m \u001b[38;5;124;03m    moose     3.0     NaN\u001b[39;00m\n\u001b[0;32m    185\u001b[0m \u001b[38;5;124;03m    \"\"\"\u001b[39;00m\n\u001b[1;32m--> 186\u001b[0m     \u001b[38;5;28;01mreturn\u001b[39;00m \u001b[38;5;28;43mself\u001b[39;49m\u001b[38;5;241;43m.\u001b[39;49m\u001b[43m_arith_method\u001b[49m\u001b[43m(\u001b[49m\u001b[43mother\u001b[49m\u001b[43m,\u001b[49m\u001b[43m \u001b[49m\u001b[43moperator\u001b[49m\u001b[38;5;241;43m.\u001b[39;49m\u001b[43madd\u001b[49m\u001b[43m)\u001b[49m\n",
      "File \u001b[1;32m~\\AppData\\Local\\Programs\\Python\\Python311\\Lib\\site-packages\\pandas\\core\\series.py:5820\u001b[0m, in \u001b[0;36mSeries._arith_method\u001b[1;34m(self, other, op)\u001b[0m\n\u001b[0;32m   5818\u001b[0m \u001b[38;5;28;01mdef\u001b[39;00m \u001b[38;5;21m_arith_method\u001b[39m(\u001b[38;5;28mself\u001b[39m, other, op):\n\u001b[0;32m   5819\u001b[0m     \u001b[38;5;28mself\u001b[39m, other \u001b[38;5;241m=\u001b[39m \u001b[38;5;28mself\u001b[39m\u001b[38;5;241m.\u001b[39m_align_for_op(other)\n\u001b[1;32m-> 5820\u001b[0m     \u001b[38;5;28;01mreturn\u001b[39;00m \u001b[43mbase\u001b[49m\u001b[38;5;241;43m.\u001b[39;49m\u001b[43mIndexOpsMixin\u001b[49m\u001b[38;5;241;43m.\u001b[39;49m\u001b[43m_arith_method\u001b[49m\u001b[43m(\u001b[49m\u001b[38;5;28;43mself\u001b[39;49m\u001b[43m,\u001b[49m\u001b[43m \u001b[49m\u001b[43mother\u001b[49m\u001b[43m,\u001b[49m\u001b[43m \u001b[49m\u001b[43mop\u001b[49m\u001b[43m)\u001b[49m\n",
      "File \u001b[1;32m~\\AppData\\Local\\Programs\\Python\\Python311\\Lib\\site-packages\\pandas\\core\\base.py:1383\u001b[0m, in \u001b[0;36mIndexOpsMixin._arith_method\u001b[1;34m(self, other, op)\u001b[0m\n\u001b[0;32m   1380\u001b[0m \u001b[38;5;28;01mwith\u001b[39;00m np\u001b[38;5;241m.\u001b[39merrstate(\u001b[38;5;28mall\u001b[39m\u001b[38;5;241m=\u001b[39m\u001b[38;5;124m\"\u001b[39m\u001b[38;5;124mignore\u001b[39m\u001b[38;5;124m\"\u001b[39m):\n\u001b[0;32m   1381\u001b[0m     result \u001b[38;5;241m=\u001b[39m ops\u001b[38;5;241m.\u001b[39marithmetic_op(lvalues, rvalues, op)\n\u001b[1;32m-> 1383\u001b[0m \u001b[38;5;28;01mreturn\u001b[39;00m \u001b[38;5;28;43mself\u001b[39;49m\u001b[38;5;241;43m.\u001b[39;49m\u001b[43m_construct_result\u001b[49m\u001b[43m(\u001b[49m\u001b[43mresult\u001b[49m\u001b[43m,\u001b[49m\u001b[43m \u001b[49m\u001b[43mname\u001b[49m\u001b[38;5;241;43m=\u001b[39;49m\u001b[43mres_name\u001b[49m\u001b[43m)\u001b[49m\n",
      "File \u001b[1;32m~\\AppData\\Local\\Programs\\Python\\Python311\\Lib\\site-packages\\pandas\\core\\series.py:5916\u001b[0m, in \u001b[0;36mSeries._construct_result\u001b[1;34m(self, result, name)\u001b[0m\n\u001b[0;32m   5913\u001b[0m \u001b[38;5;66;03m# TODO: result should always be ArrayLike, but this fails for some\u001b[39;00m\n\u001b[0;32m   5914\u001b[0m \u001b[38;5;66;03m#  JSONArray tests\u001b[39;00m\n\u001b[0;32m   5915\u001b[0m dtype \u001b[38;5;241m=\u001b[39m \u001b[38;5;28mgetattr\u001b[39m(result, \u001b[38;5;124m\"\u001b[39m\u001b[38;5;124mdtype\u001b[39m\u001b[38;5;124m\"\u001b[39m, \u001b[38;5;28;01mNone\u001b[39;00m)\n\u001b[1;32m-> 5916\u001b[0m out \u001b[38;5;241m=\u001b[39m \u001b[38;5;28;43mself\u001b[39;49m\u001b[38;5;241;43m.\u001b[39;49m\u001b[43m_constructor\u001b[49m\u001b[43m(\u001b[49m\u001b[43mresult\u001b[49m\u001b[43m,\u001b[49m\u001b[43m \u001b[49m\u001b[43mindex\u001b[49m\u001b[38;5;241;43m=\u001b[39;49m\u001b[38;5;28;43mself\u001b[39;49m\u001b[38;5;241;43m.\u001b[39;49m\u001b[43mindex\u001b[49m\u001b[43m,\u001b[49m\u001b[43m \u001b[49m\u001b[43mdtype\u001b[49m\u001b[38;5;241;43m=\u001b[39;49m\u001b[43mdtype\u001b[49m\u001b[43m,\u001b[49m\u001b[43m \u001b[49m\u001b[43mcopy\u001b[49m\u001b[38;5;241;43m=\u001b[39;49m\u001b[38;5;28;43;01mFalse\u001b[39;49;00m\u001b[43m)\u001b[49m\n\u001b[0;32m   5917\u001b[0m out \u001b[38;5;241m=\u001b[39m out\u001b[38;5;241m.\u001b[39m__finalize__(\u001b[38;5;28mself\u001b[39m)\n\u001b[0;32m   5919\u001b[0m \u001b[38;5;66;03m# Set the result's name after __finalize__ is called because __finalize__\u001b[39;00m\n\u001b[0;32m   5920\u001b[0m \u001b[38;5;66;03m#  would set it back to self.name\u001b[39;00m\n",
      "File \u001b[1;32m~\\AppData\\Local\\Programs\\Python\\Python311\\Lib\\site-packages\\pandas\\core\\series.py:503\u001b[0m, in \u001b[0;36mSeries.__init__\u001b[1;34m(self, data, index, dtype, name, copy, fastpath)\u001b[0m\n\u001b[0;32m    501\u001b[0m     index \u001b[38;5;241m=\u001b[39m default_index(\u001b[38;5;28mlen\u001b[39m(data))\n\u001b[0;32m    502\u001b[0m \u001b[38;5;28;01melif\u001b[39;00m is_list_like(data):\n\u001b[1;32m--> 503\u001b[0m     \u001b[43mcom\u001b[49m\u001b[38;5;241;43m.\u001b[39;49m\u001b[43mrequire_length_match\u001b[49m\u001b[43m(\u001b[49m\u001b[43mdata\u001b[49m\u001b[43m,\u001b[49m\u001b[43m \u001b[49m\u001b[43mindex\u001b[49m\u001b[43m)\u001b[49m\n\u001b[0;32m    505\u001b[0m \u001b[38;5;66;03m# create/copy the manager\u001b[39;00m\n\u001b[0;32m    506\u001b[0m \u001b[38;5;28;01mif\u001b[39;00m \u001b[38;5;28misinstance\u001b[39m(data, (SingleBlockManager, SingleArrayManager)):\n",
      "File \u001b[1;32m~\\AppData\\Local\\Programs\\Python\\Python311\\Lib\\site-packages\\pandas\\core\\common.py:561\u001b[0m, in \u001b[0;36mrequire_length_match\u001b[1;34m(data, index)\u001b[0m\n\u001b[0;32m    557\u001b[0m \u001b[38;5;250m\u001b[39m\u001b[38;5;124;03m\"\"\"\u001b[39;00m\n\u001b[0;32m    558\u001b[0m \u001b[38;5;124;03mCheck the length of data matches the length of the index.\u001b[39;00m\n\u001b[0;32m    559\u001b[0m \u001b[38;5;124;03m\"\"\"\u001b[39;00m\n\u001b[0;32m    560\u001b[0m \u001b[38;5;28;01mif\u001b[39;00m \u001b[38;5;28mlen\u001b[39m(data) \u001b[38;5;241m!=\u001b[39m \u001b[38;5;28mlen\u001b[39m(index):\n\u001b[1;32m--> 561\u001b[0m     \u001b[38;5;28;01mraise\u001b[39;00m \u001b[38;5;167;01mValueError\u001b[39;00m(\n\u001b[0;32m    562\u001b[0m         \u001b[38;5;124m\"\u001b[39m\u001b[38;5;124mLength of values \u001b[39m\u001b[38;5;124m\"\u001b[39m\n\u001b[0;32m    563\u001b[0m         \u001b[38;5;124mf\u001b[39m\u001b[38;5;124m\"\u001b[39m\u001b[38;5;124m(\u001b[39m\u001b[38;5;132;01m{\u001b[39;00m\u001b[38;5;28mlen\u001b[39m(data)\u001b[38;5;132;01m}\u001b[39;00m\u001b[38;5;124m) \u001b[39m\u001b[38;5;124m\"\u001b[39m\n\u001b[0;32m    564\u001b[0m         \u001b[38;5;124m\"\u001b[39m\u001b[38;5;124mdoes not match length of index \u001b[39m\u001b[38;5;124m\"\u001b[39m\n\u001b[0;32m    565\u001b[0m         \u001b[38;5;124mf\u001b[39m\u001b[38;5;124m\"\u001b[39m\u001b[38;5;124m(\u001b[39m\u001b[38;5;132;01m{\u001b[39;00m\u001b[38;5;28mlen\u001b[39m(index)\u001b[38;5;132;01m}\u001b[39;00m\u001b[38;5;124m)\u001b[39m\u001b[38;5;124m\"\u001b[39m\n\u001b[0;32m    566\u001b[0m     )\n",
      "\u001b[1;31mValueError\u001b[0m: Length of values (2) does not match length of index (5)"
     ]
    }
   ],
   "source": [
    "#Series不能直接与numpy的二维数组运算，因为两者的类型不一致\n",
    "s1+n2"
   ]
  },
  {
   "cell_type": "code",
   "execution_count": null,
   "id": "49fba371-64a9-48d3-83c8-7507a163b507",
   "metadata": {},
   "outputs": [],
   "source": [
    "#可用s1.values先提取出Series对象中的所有值，而这些值会自动变成一个array数组的对象，这样就可以与numpy中的数组对象，类型上相一致，也就可以运算\n",
    "#运算原理：不同维度间的数组运算，python编译器会自动进行数组维度的对齐扩展（广播运算）\n",
    "s1.values+n2"
   ]
  },
  {
   "cell_type": "markdown",
   "id": "bf58a5dd-570a-4677-8a67-18696ad5e17f",
   "metadata": {},
   "source": [
    "**（2）DataFrame**  \n",
    "*1、它是一个表格型的数据结构，可以看作是“由Series组成的字典”（共同使用一个索引）。它由按一定顺序排列的多列数据组成。既有行索引，也有列索引。*    \n",
    "行索引：index  \n",
    "列索引：columns    \n",
    "值：values(numpy的二维数组)  \n"
   ]
  },
  {
   "cell_type": "code",
   "execution_count": null,
   "id": "ebcdcb81-62ff-49cd-8b52-76a4310c78e3",
   "metadata": {},
   "outputs": [],
   "source": [
    "            python             java\n",
    "index       python             java      列标签\n",
    "lucy        15                 36\n",
    "mery        65                 77\n",
    "tom         85                 55\n",
    "jack        14                 8\n",
    "tony        2                  25\n",
    "ironman     90                 65       data/values\n",
    "\n",
    "行标签"
   ]
  },
  {
   "cell_type": "markdown",
   "id": "aa28201e-2d3a-4e73-a868-b1fdfcb5d385",
   "metadata": {},
   "source": [
    "*2、DataFrame创建*  \n",
    "DataFrame(data=,columns=,index=)  \n",
    "data：数据numpy.array  \n",
    "columns：列索引  \n",
    "index：行索引  \n"
   ]
  },
  {
   "cell_type": "code",
   "execution_count": 31,
   "id": "878897e1-b6be-4666-8eeb-bfb26ffe3b1b",
   "metadata": {},
   "outputs": [
    {
     "data": {
      "text/html": [
       "<div>\n",
       "<style scoped>\n",
       "    .dataframe tbody tr th:only-of-type {\n",
       "        vertical-align: middle;\n",
       "    }\n",
       "\n",
       "    .dataframe tbody tr th {\n",
       "        vertical-align: top;\n",
       "    }\n",
       "\n",
       "    .dataframe thead th {\n",
       "        text-align: right;\n",
       "    }\n",
       "</style>\n",
       "<table border=\"1\" class=\"dataframe\">\n",
       "  <thead>\n",
       "    <tr style=\"text-align: right;\">\n",
       "      <th></th>\n",
       "      <th>python</th>\n",
       "      <th>java</th>\n",
       "    </tr>\n",
       "  </thead>\n",
       "  <tbody>\n",
       "    <tr>\n",
       "      <th>lucy</th>\n",
       "      <td>78</td>\n",
       "      <td>93</td>\n",
       "    </tr>\n",
       "    <tr>\n",
       "      <th>mery</th>\n",
       "      <td>80</td>\n",
       "      <td>97</td>\n",
       "    </tr>\n",
       "    <tr>\n",
       "      <th>tom</th>\n",
       "      <td>85</td>\n",
       "      <td>80</td>\n",
       "    </tr>\n",
       "    <tr>\n",
       "      <th>jack</th>\n",
       "      <td>70</td>\n",
       "      <td>93</td>\n",
       "    </tr>\n",
       "    <tr>\n",
       "      <th>rose</th>\n",
       "      <td>88</td>\n",
       "      <td>78</td>\n",
       "    </tr>\n",
       "    <tr>\n",
       "      <th>tony</th>\n",
       "      <td>95</td>\n",
       "      <td>82</td>\n",
       "    </tr>\n",
       "  </tbody>\n",
       "</table>\n",
       "</div>"
      ],
      "text/plain": [
       "      python  java\n",
       "lucy      78    93\n",
       "mery      80    97\n",
       "tom       85    80\n",
       "jack      70    93\n",
       "rose      88    78\n",
       "tony      95    82"
      ]
     },
     "execution_count": 31,
     "metadata": {},
     "output_type": "execute_result"
    }
   ],
   "source": [
    "#方法1：用numpy.array来创建DataFrame\n",
    "index=['lucy','mery','tom','jack','rose','tony']\n",
    "columns=['python','java']\n",
    "data=np.random.randint(50,100,size=(6,2))\n",
    "df=DataFrame(data=data,columns=columns,index=index)\n",
    "df"
   ]
  },
  {
   "cell_type": "code",
   "execution_count": 32,
   "id": "0a8ada8f-a5fa-4668-9d1f-3a768f73c5f8",
   "metadata": {},
   "outputs": [
    {
     "data": {
      "text/html": [
       "<div>\n",
       "<style scoped>\n",
       "    .dataframe tbody tr th:only-of-type {\n",
       "        vertical-align: middle;\n",
       "    }\n",
       "\n",
       "    .dataframe tbody tr th {\n",
       "        vertical-align: top;\n",
       "    }\n",
       "\n",
       "    .dataframe thead th {\n",
       "        text-align: right;\n",
       "    }\n",
       "</style>\n",
       "<table border=\"1\" class=\"dataframe\">\n",
       "  <thead>\n",
       "    <tr style=\"text-align: right;\">\n",
       "      <th></th>\n",
       "      <th>python</th>\n",
       "      <th>java</th>\n",
       "    </tr>\n",
       "  </thead>\n",
       "  <tbody>\n",
       "    <tr>\n",
       "      <th>lucy</th>\n",
       "      <td>66</td>\n",
       "      <td>0.105179</td>\n",
       "    </tr>\n",
       "    <tr>\n",
       "      <th>mery</th>\n",
       "      <td>94</td>\n",
       "      <td>0.699887</td>\n",
       "    </tr>\n",
       "    <tr>\n",
       "      <th>tom</th>\n",
       "      <td>12</td>\n",
       "      <td>0.160102</td>\n",
       "    </tr>\n",
       "    <tr>\n",
       "      <th>jack</th>\n",
       "      <td>98</td>\n",
       "      <td>0.679718</td>\n",
       "    </tr>\n",
       "    <tr>\n",
       "      <th>rose</th>\n",
       "      <td>40</td>\n",
       "      <td>0.720668</td>\n",
       "    </tr>\n",
       "    <tr>\n",
       "      <th>tony</th>\n",
       "      <td>77</td>\n",
       "      <td>0.466669</td>\n",
       "    </tr>\n",
       "  </tbody>\n",
       "</table>\n",
       "</div>"
      ],
      "text/plain": [
       "      python      java\n",
       "lucy      66  0.105179\n",
       "mery      94  0.699887\n",
       "tom       12  0.160102\n",
       "jack      98  0.679718\n",
       "rose      40  0.720668\n",
       "tony      77  0.466669"
      ]
     },
     "execution_count": 32,
     "metadata": {},
     "output_type": "execute_result"
    }
   ],
   "source": [
    "#方法2：用dict字典来创建\n",
    "dic={\n",
    "    'python':np.random.randint(0,100,size=6),\n",
    "    'java':np.random.random(size=6)\n",
    "}\n",
    "index=['lucy','mery','tom','jack','rose','tony']\n",
    "df2=DataFrame(data=dic,index=index)\n",
    "df2"
   ]
  },
  {
   "cell_type": "code",
   "execution_count": null,
   "id": "5100b074-2dec-4f63-ad15-09c8fdcdc9eb",
   "metadata": {},
   "outputs": [],
   "source": [
    "#说明每列中的数据类型可以不一致\n",
    "df2.dtypes"
   ]
  },
  {
   "cell_type": "code",
   "execution_count": 33,
   "id": "9decac8b-89b2-4ad5-9f96-a5e726f0e071",
   "metadata": {},
   "outputs": [
    {
     "data": {
      "text/html": [
       "<div>\n",
       "<style scoped>\n",
       "    .dataframe tbody tr th:only-of-type {\n",
       "        vertical-align: middle;\n",
       "    }\n",
       "\n",
       "    .dataframe tbody tr th {\n",
       "        vertical-align: top;\n",
       "    }\n",
       "\n",
       "    .dataframe thead th {\n",
       "        text-align: right;\n",
       "    }\n",
       "</style>\n",
       "<table border=\"1\" class=\"dataframe\">\n",
       "  <thead>\n",
       "    <tr style=\"text-align: right;\">\n",
       "      <th></th>\n",
       "      <th>python</th>\n",
       "      <th>java</th>\n",
       "      <th>name</th>\n",
       "    </tr>\n",
       "  </thead>\n",
       "  <tbody>\n",
       "    <tr>\n",
       "      <th>0</th>\n",
       "      <td>52</td>\n",
       "      <td>0.416998</td>\n",
       "      <td>lucy</td>\n",
       "    </tr>\n",
       "    <tr>\n",
       "      <th>1</th>\n",
       "      <td>40</td>\n",
       "      <td>0.515373</td>\n",
       "      <td>mery</td>\n",
       "    </tr>\n",
       "    <tr>\n",
       "      <th>2</th>\n",
       "      <td>43</td>\n",
       "      <td>0.652054</td>\n",
       "      <td>tom</td>\n",
       "    </tr>\n",
       "    <tr>\n",
       "      <th>3</th>\n",
       "      <td>23</td>\n",
       "      <td>0.582977</td>\n",
       "      <td>jack</td>\n",
       "    </tr>\n",
       "    <tr>\n",
       "      <th>4</th>\n",
       "      <td>77</td>\n",
       "      <td>0.296344</td>\n",
       "      <td>rose</td>\n",
       "    </tr>\n",
       "    <tr>\n",
       "      <th>5</th>\n",
       "      <td>49</td>\n",
       "      <td>0.081051</td>\n",
       "      <td>tony</td>\n",
       "    </tr>\n",
       "  </tbody>\n",
       "</table>\n",
       "</div>"
      ],
      "text/plain": [
       "   python      java  name\n",
       "0      52  0.416998  lucy\n",
       "1      40  0.515373  mery\n",
       "2      43  0.652054   tom\n",
       "3      23  0.582977  jack\n",
       "4      77  0.296344  rose\n",
       "5      49  0.081051  tony"
      ]
     },
     "execution_count": 33,
     "metadata": {},
     "output_type": "execute_result"
    }
   ],
   "source": [
    "#方法2：无索引名称，直接把姓名放入到列中\n",
    "dic={\n",
    "    'python':np.random.randint(0,100,size=6),\n",
    "    'java':np.random.random(size=6),\n",
    "    'name':['lucy','mery','tom','jack','rose','tony']\n",
    "}\n",
    "df2=DataFrame(data=dic)\n",
    "df2"
   ]
  },
  {
   "cell_type": "code",
   "execution_count": 35,
   "id": "2cb3f12b-5571-4d9d-b00b-145649de72ae",
   "metadata": {},
   "outputs": [
    {
     "data": {
      "text/html": [
       "<div>\n",
       "<style scoped>\n",
       "    .dataframe tbody tr th:only-of-type {\n",
       "        vertical-align: middle;\n",
       "    }\n",
       "\n",
       "    .dataframe tbody tr th {\n",
       "        vertical-align: top;\n",
       "    }\n",
       "\n",
       "    .dataframe thead th {\n",
       "        text-align: right;\n",
       "    }\n",
       "</style>\n",
       "<table border=\"1\" class=\"dataframe\">\n",
       "  <thead>\n",
       "    <tr style=\"text-align: right;\">\n",
       "      <th></th>\n",
       "      <th></th>\n",
       "      <th>注册资本</th>\n",
       "      <th>客户类别</th>\n",
       "      <th>客户地址</th>\n",
       "      <th>省份</th>\n",
       "      <th>区域</th>\n",
       "    </tr>\n",
       "    <tr>\n",
       "      <th>客户代码</th>\n",
       "      <th>客户</th>\n",
       "      <th></th>\n",
       "      <th></th>\n",
       "      <th></th>\n",
       "      <th></th>\n",
       "      <th></th>\n",
       "    </tr>\n",
       "  </thead>\n",
       "  <tbody>\n",
       "    <tr>\n",
       "      <th>100012</th>\n",
       "      <th>长城公司</th>\n",
       "      <td>280000</td>\n",
       "      <td>一般客户</td>\n",
       "      <td>河北省保定市高阳县</td>\n",
       "      <td>河北</td>\n",
       "      <td>北区</td>\n",
       "    </tr>\n",
       "    <tr>\n",
       "      <th>100026</th>\n",
       "      <th>长江公司</th>\n",
       "      <td>3610000</td>\n",
       "      <td>大客户</td>\n",
       "      <td>湖北省黄石市石灰窑区</td>\n",
       "      <td>湖北</td>\n",
       "      <td>南区</td>\n",
       "    </tr>\n",
       "    <tr>\n",
       "      <th>100086</th>\n",
       "      <th>黄河公司</th>\n",
       "      <td>42610000</td>\n",
       "      <td>大客户</td>\n",
       "      <td>河南省南阳市新野县</td>\n",
       "      <td>河南</td>\n",
       "      <td>南区</td>\n",
       "    </tr>\n",
       "    <tr>\n",
       "      <th>100118</th>\n",
       "      <th>黄山公司</th>\n",
       "      <td>2810000</td>\n",
       "      <td>大客户</td>\n",
       "      <td>安徽省芜湖市鸠江区</td>\n",
       "      <td>安徽</td>\n",
       "      <td>东区</td>\n",
       "    </tr>\n",
       "    <tr>\n",
       "      <th>100133</th>\n",
       "      <th>嵩山公司</th>\n",
       "      <td>8810000</td>\n",
       "      <td>一般客户</td>\n",
       "      <td>河南省平顶山市鲁山县</td>\n",
       "      <td>河南</td>\n",
       "      <td>南区</td>\n",
       "    </tr>\n",
       "    <tr>\n",
       "      <th>100607</th>\n",
       "      <th>庐山公司</th>\n",
       "      <td>15750000</td>\n",
       "      <td>一般客户</td>\n",
       "      <td>江西省赣州市</td>\n",
       "      <td>江西</td>\n",
       "      <td>南区</td>\n",
       "    </tr>\n",
       "    <tr>\n",
       "      <th>100671</th>\n",
       "      <th>峨眉山公司</th>\n",
       "      <td>390000</td>\n",
       "      <td>一般客户</td>\n",
       "      <td>四川省阿坝藏族羌族自治州理县</td>\n",
       "      <td>四川</td>\n",
       "      <td>北区</td>\n",
       "    </tr>\n",
       "    <tr>\n",
       "      <th>100865</th>\n",
       "      <th>泰山公司</th>\n",
       "      <td>220000</td>\n",
       "      <td>一般客户</td>\n",
       "      <td>山东省泰安市</td>\n",
       "      <td>山东</td>\n",
       "      <td>北区</td>\n",
       "    </tr>\n",
       "    <tr>\n",
       "      <th>101047</th>\n",
       "      <th>衡山公司</th>\n",
       "      <td>1190000</td>\n",
       "      <td>大客户</td>\n",
       "      <td>湖南省常德市武陵区</td>\n",
       "      <td>湖南</td>\n",
       "      <td>南区</td>\n",
       "    </tr>\n",
       "    <tr>\n",
       "      <th>101375</th>\n",
       "      <th>华山公司</th>\n",
       "      <td>240000</td>\n",
       "      <td>一般客户</td>\n",
       "      <td>陕西省宝鸡市岐山县</td>\n",
       "      <td>陕西</td>\n",
       "      <td>北区</td>\n",
       "    </tr>\n",
       "    <tr>\n",
       "      <th>101579</th>\n",
       "      <th>武夷山公司</th>\n",
       "      <td>10240000</td>\n",
       "      <td>大客户</td>\n",
       "      <td>福建省泉州市金门县</td>\n",
       "      <td>福建</td>\n",
       "      <td>南区</td>\n",
       "    </tr>\n",
       "    <tr>\n",
       "      <th>101723</th>\n",
       "      <th>长白山公司</th>\n",
       "      <td>500000</td>\n",
       "      <td>一般客户</td>\n",
       "      <td>吉林省延边朝鲜族自治州汪清县</td>\n",
       "      <td>吉林</td>\n",
       "      <td>北区</td>\n",
       "    </tr>\n",
       "    <tr>\n",
       "      <th>102458</th>\n",
       "      <th>雁荡山公司</th>\n",
       "      <td>20370000</td>\n",
       "      <td>一般客户</td>\n",
       "      <td>浙江省台州市路桥区</td>\n",
       "      <td>浙江</td>\n",
       "      <td>东区</td>\n",
       "    </tr>\n",
       "    <tr>\n",
       "      <th>102759</th>\n",
       "      <th>齐云山公司</th>\n",
       "      <td>20060000</td>\n",
       "      <td>一般客户</td>\n",
       "      <td>安徽省铜陵市狮子山区</td>\n",
       "      <td>安徽</td>\n",
       "      <td>东区</td>\n",
       "    </tr>\n",
       "    <tr>\n",
       "      <th>102849</th>\n",
       "      <th>昆仑山公司</th>\n",
       "      <td>150000</td>\n",
       "      <td>大客户</td>\n",
       "      <td>新疆维吾尔族自治区塔城地区沙湾县</td>\n",
       "      <td>新疆</td>\n",
       "      <td>北区</td>\n",
       "    </tr>\n",
       "    <tr>\n",
       "      <th>103082</th>\n",
       "      <th>九华山公司</th>\n",
       "      <td>33030000</td>\n",
       "      <td>一般客户</td>\n",
       "      <td>安徽省铜陵市狮子山区</td>\n",
       "      <td>安徽</td>\n",
       "      <td>东区</td>\n",
       "    </tr>\n",
       "    <tr>\n",
       "      <th>103103</th>\n",
       "      <th>恒山公司</th>\n",
       "      <td>440000</td>\n",
       "      <td>一般客户</td>\n",
       "      <td>山西省忻州地区</td>\n",
       "      <td>山西</td>\n",
       "      <td>北区</td>\n",
       "    </tr>\n",
       "  </tbody>\n",
       "</table>\n",
       "</div>"
      ],
      "text/plain": [
       "                  注册资本  客户类别              客户地址  省份  区域\n",
       "客户代码   客户                                             \n",
       "100012 长城公司     280000  一般客户         河北省保定市高阳县  河北  北区\n",
       "100026 长江公司    3610000   大客户        湖北省黄石市石灰窑区  湖北  南区\n",
       "100086 黄河公司   42610000   大客户         河南省南阳市新野县  河南  南区\n",
       "100118 黄山公司    2810000   大客户         安徽省芜湖市鸠江区  安徽  东区\n",
       "100133 嵩山公司    8810000  一般客户        河南省平顶山市鲁山县  河南  南区\n",
       "100607 庐山公司   15750000  一般客户            江西省赣州市  江西  南区\n",
       "100671 峨眉山公司    390000  一般客户    四川省阿坝藏族羌族自治州理县  四川  北区\n",
       "100865 泰山公司     220000  一般客户            山东省泰安市  山东  北区\n",
       "101047 衡山公司    1190000   大客户         湖南省常德市武陵区  湖南  南区\n",
       "101375 华山公司     240000  一般客户         陕西省宝鸡市岐山县  陕西  北区\n",
       "101579 武夷山公司  10240000   大客户         福建省泉州市金门县  福建  南区\n",
       "101723 长白山公司    500000  一般客户    吉林省延边朝鲜族自治州汪清县  吉林  北区\n",
       "102458 雁荡山公司  20370000  一般客户         浙江省台州市路桥区  浙江  东区\n",
       "102759 齐云山公司  20060000  一般客户        安徽省铜陵市狮子山区  安徽  东区\n",
       "102849 昆仑山公司    150000   大客户  新疆维吾尔族自治区塔城地区沙湾县  新疆  北区\n",
       "103082 九华山公司  33030000  一般客户        安徽省铜陵市狮子山区  安徽  东区\n",
       "103103 恒山公司     440000  一般客户           山西省忻州地区  山西  北区"
      ]
     },
     "execution_count": 35,
     "metadata": {},
     "output_type": "execute_result"
    }
   ],
   "source": [
    "#方法3：从文件中读取数据来创建DataFrame\n",
    "#前提条件：需要安装openpyxl库才行\n",
    "#header  指定哪些行作为列标签，None为无\n",
    "#index_col  指定哪些列作为行标签，None为无\n",
    "pd.read_excel('rl.xlsx',sheet_name='客户信息',header=0,index_col=[0,1])\n"
   ]
  },
  {
   "cell_type": "code",
   "execution_count": 34,
   "id": "196f77e4-559e-47f0-a7a6-fcbdfabd1303",
   "metadata": {},
   "outputs": [
    {
     "data": {
      "text/plain": [
       "lucy    44\n",
       "mery    13\n",
       "tom     18\n",
       "jack    47\n",
       "rose    39\n",
       "Name: python, dtype: int32"
      ]
     },
     "execution_count": 34,
     "metadata": {},
     "output_type": "execute_result"
    }
   ],
   "source": [
    "#方法4：用Series数据来创建DataFrame\n",
    "python=Series(data=np.random.randint(0,100,size=5),index=['lucy','mery','tom','jack','rose'],name='python')\n",
    "python"
   ]
  },
  {
   "cell_type": "code",
   "execution_count": null,
   "id": "c6ebe2de-2b62-4334-970f-6734a8732859",
   "metadata": {},
   "outputs": [],
   "source": [
    "#注意：Series中的name是作为DataFrame列中的字段名称\n",
    "df=DataFrame(data=python)\n",
    "df"
   ]
  },
  {
   "cell_type": "code",
   "execution_count": null,
   "id": "6814b3e8-ccbf-4b77-afe7-19139aa3b94a",
   "metadata": {},
   "outputs": [],
   "source": [
    "#python2=Series(data=np.random.randint(50,100,size=5),index=['lucy','mery','tom','jack','rose'],name='C++')"
   ]
  },
  {
   "cell_type": "code",
   "execution_count": 37,
   "id": "6bd1d60a-1ebf-4f6d-90b7-4c2ed78a627c",
   "metadata": {},
   "outputs": [
    {
     "data": {
      "text/html": [
       "<div>\n",
       "<style scoped>\n",
       "    .dataframe tbody tr th:only-of-type {\n",
       "        vertical-align: middle;\n",
       "    }\n",
       "\n",
       "    .dataframe tbody tr th {\n",
       "        vertical-align: top;\n",
       "    }\n",
       "\n",
       "    .dataframe thead th {\n",
       "        text-align: right;\n",
       "    }\n",
       "</style>\n",
       "<table border=\"1\" class=\"dataframe\">\n",
       "  <thead>\n",
       "    <tr style=\"text-align: right;\">\n",
       "      <th></th>\n",
       "      <th>python</th>\n",
       "    </tr>\n",
       "  </thead>\n",
       "  <tbody>\n",
       "    <tr>\n",
       "      <th>0</th>\n",
       "      <td>1</td>\n",
       "    </tr>\n",
       "    <tr>\n",
       "      <th>1</th>\n",
       "      <td>2</td>\n",
       "    </tr>\n",
       "    <tr>\n",
       "      <th>2</th>\n",
       "      <td>3</td>\n",
       "    </tr>\n",
       "  </tbody>\n",
       "</table>\n",
       "</div>"
      ],
      "text/plain": [
       "   python\n",
       "0       1\n",
       "1       2\n",
       "2       3"
      ]
     },
     "execution_count": 37,
     "metadata": {},
     "output_type": "execute_result"
    }
   ],
   "source": [
    "#DataFrame和Series都支持拓展添加\n",
    "df2=DataFrame()\n",
    "df2['python']=[1,2,3]\n",
    "df2"
   ]
  },
  {
   "cell_type": "code",
   "execution_count": 36,
   "id": "c29ea555-1055-4364-a6f3-e7bc6c2357bf",
   "metadata": {},
   "outputs": [
    {
     "data": {
      "text/html": [
       "<div>\n",
       "<style scoped>\n",
       "    .dataframe tbody tr th:only-of-type {\n",
       "        vertical-align: middle;\n",
       "    }\n",
       "\n",
       "    .dataframe tbody tr th {\n",
       "        vertical-align: top;\n",
       "    }\n",
       "\n",
       "    .dataframe thead th {\n",
       "        text-align: right;\n",
       "    }\n",
       "</style>\n",
       "<table border=\"1\" class=\"dataframe\">\n",
       "  <thead>\n",
       "    <tr style=\"text-align: right;\">\n",
       "      <th></th>\n",
       "      <th>mojo</th>\n",
       "      <th>c++</th>\n",
       "    </tr>\n",
       "  </thead>\n",
       "  <tbody>\n",
       "    <tr>\n",
       "      <th>lucy</th>\n",
       "      <td>94</td>\n",
       "      <td>80</td>\n",
       "    </tr>\n",
       "    <tr>\n",
       "      <th>mery</th>\n",
       "      <td>82</td>\n",
       "      <td>80</td>\n",
       "    </tr>\n",
       "    <tr>\n",
       "      <th>tom</th>\n",
       "      <td>61</td>\n",
       "      <td>55</td>\n",
       "    </tr>\n",
       "    <tr>\n",
       "      <th>jack</th>\n",
       "      <td>67</td>\n",
       "      <td>77</td>\n",
       "    </tr>\n",
       "    <tr>\n",
       "      <th>rose</th>\n",
       "      <td>68</td>\n",
       "      <td>76</td>\n",
       "    </tr>\n",
       "    <tr>\n",
       "      <th>tony</th>\n",
       "      <td>58</td>\n",
       "      <td>97</td>\n",
       "    </tr>\n",
       "  </tbody>\n",
       "</table>\n",
       "</div>"
      ],
      "text/plain": [
       "      mojo  c++\n",
       "lucy    94   80\n",
       "mery    82   80\n",
       "tom     61   55\n",
       "jack    67   77\n",
       "rose    68   76\n",
       "tony    58   97"
      ]
     },
     "execution_count": 36,
     "metadata": {},
     "output_type": "execute_result"
    }
   ],
   "source": [
    "#DataFrame支持拓展添加【此法灵活实用】\n",
    "name1=['mojo','c++']\n",
    "sizes=len(df.index)\n",
    "df3=DataFrame(index=df.index)\n",
    "df3[name1[0]]=np.random.randint(50,100,size=sizes)\n",
    "df3[name1[1]]=np.random.randint(50,100,size=sizes)\n",
    "df3"
   ]
  },
  {
   "cell_type": "code",
   "execution_count": null,
   "id": "16a4f18d-4e3b-44a6-8b47-a3eb62611377",
   "metadata": {},
   "outputs": [],
   "source": [
    "len(df.index)"
   ]
  },
  {
   "cell_type": "code",
   "execution_count": null,
   "id": "51fb554a-5555-4de7-829f-49a6704c8ba7",
   "metadata": {},
   "outputs": [],
   "source": [
    "df2['C++']=[11,22,33]\n",
    "df2"
   ]
  },
  {
   "cell_type": "code",
   "execution_count": null,
   "id": "6042127d-870f-417f-ab68-619cd363b7be",
   "metadata": {},
   "outputs": [],
   "source": [
    "#Series支持拓展\n",
    "python"
   ]
  },
  {
   "cell_type": "code",
   "execution_count": null,
   "id": "f2db3137-4221-4ca0-88d5-8dff209e3dea",
   "metadata": {},
   "outputs": [],
   "source": [
    "#给不存在的索引赋值就可以实现拓展添加\n",
    "python['eric']=99\n",
    "python"
   ]
  },
  {
   "cell_type": "code",
   "execution_count": null,
   "id": "f4054ac4-7d94-41fd-bb6e-224c4a6ae8db",
   "metadata": {},
   "outputs": [],
   "source": [
    "#给不存在的索引赋值就可以实现拓展添加\n",
    "python.loc['aaa']=88\n",
    "python"
   ]
  },
  {
   "cell_type": "markdown",
   "id": "ef4bb816-797f-4978-a4e5-9c627605bf95",
   "metadata": {},
   "source": [
    "*3、DataFrame访问*  \n",
    "DataFrame是Series的容器，可以看成是Series的字典，键就是列标签，值就是每一列的数据  \n",
    "<1>对列进行索引访问（显式访问）  \n",
    "\n",
    "<2>对行进行索引访问（隐式访问）  "
   ]
  },
  {
   "cell_type": "code",
   "execution_count": 38,
   "id": "24b8fdd3-ac8c-43c6-9e58-40ac0a9e3a23",
   "metadata": {},
   "outputs": [
    {
     "data": {
      "text/html": [
       "<div>\n",
       "<style scoped>\n",
       "    .dataframe tbody tr th:only-of-type {\n",
       "        vertical-align: middle;\n",
       "    }\n",
       "\n",
       "    .dataframe tbody tr th {\n",
       "        vertical-align: top;\n",
       "    }\n",
       "\n",
       "    .dataframe thead th {\n",
       "        text-align: right;\n",
       "    }\n",
       "</style>\n",
       "<table border=\"1\" class=\"dataframe\">\n",
       "  <thead>\n",
       "    <tr style=\"text-align: right;\">\n",
       "      <th></th>\n",
       "      <th>python</th>\n",
       "      <th>java</th>\n",
       "      <th>name</th>\n",
       "    </tr>\n",
       "  </thead>\n",
       "  <tbody>\n",
       "    <tr>\n",
       "      <th>0</th>\n",
       "      <td>90</td>\n",
       "      <td>0.075235</td>\n",
       "      <td>lucy</td>\n",
       "    </tr>\n",
       "    <tr>\n",
       "      <th>1</th>\n",
       "      <td>87</td>\n",
       "      <td>0.867389</td>\n",
       "      <td>mery</td>\n",
       "    </tr>\n",
       "    <tr>\n",
       "      <th>2</th>\n",
       "      <td>15</td>\n",
       "      <td>0.262574</td>\n",
       "      <td>tom</td>\n",
       "    </tr>\n",
       "    <tr>\n",
       "      <th>3</th>\n",
       "      <td>64</td>\n",
       "      <td>0.326944</td>\n",
       "      <td>jack</td>\n",
       "    </tr>\n",
       "    <tr>\n",
       "      <th>4</th>\n",
       "      <td>32</td>\n",
       "      <td>0.075373</td>\n",
       "      <td>rose</td>\n",
       "    </tr>\n",
       "    <tr>\n",
       "      <th>5</th>\n",
       "      <td>59</td>\n",
       "      <td>0.458364</td>\n",
       "      <td>tony</td>\n",
       "    </tr>\n",
       "  </tbody>\n",
       "</table>\n",
       "</div>"
      ],
      "text/plain": [
       "   python      java  name\n",
       "0      90  0.075235  lucy\n",
       "1      87  0.867389  mery\n",
       "2      15  0.262574   tom\n",
       "3      64  0.326944  jack\n",
       "4      32  0.075373  rose\n",
       "5      59  0.458364  tony"
      ]
     },
     "execution_count": 38,
     "metadata": {},
     "output_type": "execute_result"
    }
   ],
   "source": [
    "#列索引访问01\n",
    "dic={\n",
    "    'python':np.random.randint(0,100,size=6),\n",
    "    'java':np.random.random(size=6),\n",
    "    'name':['lucy','mery','tom','jack','rose','tony']\n",
    "}\n",
    "df3=DataFrame(data=dic)\n",
    "df3"
   ]
  },
  {
   "cell_type": "code",
   "execution_count": 39,
   "id": "4a5e8470-4ca8-4653-8d78-8b0cdda61697",
   "metadata": {},
   "outputs": [
    {
     "data": {
      "text/plain": [
       "0    0.075235\n",
       "1    0.867389\n",
       "2    0.262574\n",
       "3    0.326944\n",
       "4    0.075373\n",
       "5    0.458364\n",
       "Name: java, dtype: float64"
      ]
     },
     "execution_count": 39,
     "metadata": {},
     "output_type": "execute_result"
    }
   ],
   "source": [
    "#读取整列值,字典访问02\n",
    "df3['java']"
   ]
  },
  {
   "cell_type": "code",
   "execution_count": 40,
   "id": "65a69c2f-7d8d-48f4-8224-bb67c00068e3",
   "metadata": {},
   "outputs": [
    {
     "data": {
      "text/html": [
       "<div>\n",
       "<style scoped>\n",
       "    .dataframe tbody tr th:only-of-type {\n",
       "        vertical-align: middle;\n",
       "    }\n",
       "\n",
       "    .dataframe tbody tr th {\n",
       "        vertical-align: top;\n",
       "    }\n",
       "\n",
       "    .dataframe thead th {\n",
       "        text-align: right;\n",
       "    }\n",
       "</style>\n",
       "<table border=\"1\" class=\"dataframe\">\n",
       "  <thead>\n",
       "    <tr style=\"text-align: right;\">\n",
       "      <th></th>\n",
       "      <th>java</th>\n",
       "      <th>python</th>\n",
       "    </tr>\n",
       "  </thead>\n",
       "  <tbody>\n",
       "    <tr>\n",
       "      <th>0</th>\n",
       "      <td>0.075235</td>\n",
       "      <td>90</td>\n",
       "    </tr>\n",
       "    <tr>\n",
       "      <th>1</th>\n",
       "      <td>0.867389</td>\n",
       "      <td>87</td>\n",
       "    </tr>\n",
       "    <tr>\n",
       "      <th>2</th>\n",
       "      <td>0.262574</td>\n",
       "      <td>15</td>\n",
       "    </tr>\n",
       "    <tr>\n",
       "      <th>3</th>\n",
       "      <td>0.326944</td>\n",
       "      <td>64</td>\n",
       "    </tr>\n",
       "    <tr>\n",
       "      <th>4</th>\n",
       "      <td>0.075373</td>\n",
       "      <td>32</td>\n",
       "    </tr>\n",
       "    <tr>\n",
       "      <th>5</th>\n",
       "      <td>0.458364</td>\n",
       "      <td>59</td>\n",
       "    </tr>\n",
       "  </tbody>\n",
       "</table>\n",
       "</div>"
      ],
      "text/plain": [
       "       java  python\n",
       "0  0.075235      90\n",
       "1  0.867389      87\n",
       "2  0.262574      15\n",
       "3  0.326944      64\n",
       "4  0.075373      32\n",
       "5  0.458364      59"
      ]
     },
     "execution_count": 40,
     "metadata": {},
     "output_type": "execute_result"
    }
   ],
   "source": [
    "#读取多条整列值,字典访问03\n",
    "df3[['java','python']]"
   ]
  },
  {
   "cell_type": "code",
   "execution_count": 41,
   "id": "11d310d2-aec5-4509-a026-4ff97ee5d609",
   "metadata": {},
   "outputs": [
    {
     "data": {
      "text/plain": [
       "0    90\n",
       "1    87\n",
       "2    15\n",
       "3    64\n",
       "4    32\n",
       "5    59\n",
       "Name: python, dtype: int32"
      ]
     },
     "execution_count": 41,
     "metadata": {},
     "output_type": "execute_result"
    }
   ],
   "source": [
    "#读取整列值,属性访问04\n",
    "df3.python"
   ]
  },
  {
   "cell_type": "code",
   "execution_count": 42,
   "id": "82c8d358-1ea8-4538-85f0-5737ee4c0990",
   "metadata": {},
   "outputs": [
    {
     "data": {
      "text/plain": [
       "python          90\n",
       "java      0.075235\n",
       "name          lucy\n",
       "Name: 0, dtype: object"
      ]
     },
     "execution_count": 42,
     "metadata": {},
     "output_type": "execute_result"
    }
   ],
   "source": [
    "#隐式访问，数组方式。使用iloc访问的是行05\n",
    "#注意：隐式访问的原理，是把DataFrame当作普通的二维数组，所以访问逻辑与二维数组相同\n",
    "df3.iloc[0]  #读取的是一行"
   ]
  },
  {
   "cell_type": "code",
   "execution_count": 43,
   "id": "f37ca5e4-918b-4ac0-9c3e-bffb966725a3",
   "metadata": {},
   "outputs": [
    {
     "data": {
      "text/html": [
       "<div>\n",
       "<style scoped>\n",
       "    .dataframe tbody tr th:only-of-type {\n",
       "        vertical-align: middle;\n",
       "    }\n",
       "\n",
       "    .dataframe tbody tr th {\n",
       "        vertical-align: top;\n",
       "    }\n",
       "\n",
       "    .dataframe thead th {\n",
       "        text-align: right;\n",
       "    }\n",
       "</style>\n",
       "<table border=\"1\" class=\"dataframe\">\n",
       "  <thead>\n",
       "    <tr style=\"text-align: right;\">\n",
       "      <th></th>\n",
       "      <th>python</th>\n",
       "      <th>java</th>\n",
       "    </tr>\n",
       "  </thead>\n",
       "  <tbody>\n",
       "    <tr>\n",
       "      <th>0</th>\n",
       "      <td>90</td>\n",
       "      <td>0.075235</td>\n",
       "    </tr>\n",
       "    <tr>\n",
       "      <th>1</th>\n",
       "      <td>87</td>\n",
       "      <td>0.867389</td>\n",
       "    </tr>\n",
       "    <tr>\n",
       "      <th>2</th>\n",
       "      <td>15</td>\n",
       "      <td>0.262574</td>\n",
       "    </tr>\n",
       "    <tr>\n",
       "      <th>3</th>\n",
       "      <td>64</td>\n",
       "      <td>0.326944</td>\n",
       "    </tr>\n",
       "    <tr>\n",
       "      <th>4</th>\n",
       "      <td>32</td>\n",
       "      <td>0.075373</td>\n",
       "    </tr>\n",
       "    <tr>\n",
       "      <th>5</th>\n",
       "      <td>59</td>\n",
       "      <td>0.458364</td>\n",
       "    </tr>\n",
       "  </tbody>\n",
       "</table>\n",
       "</div>"
      ],
      "text/plain": [
       "   python      java\n",
       "0      90  0.075235\n",
       "1      87  0.867389\n",
       "2      15  0.262574\n",
       "3      64  0.326944\n",
       "4      32  0.075373\n",
       "5      59  0.458364"
      ]
     },
     "execution_count": 43,
     "metadata": {},
     "output_type": "execute_result"
    }
   ],
   "source": [
    "#隐式访问，数组方式。要读取列06\n",
    "df3.iloc[:,[0,1]]  #读取的是一行"
   ]
  },
  {
   "cell_type": "code",
   "execution_count": 44,
   "id": "ed01eb88-2f29-4cfb-ac88-3550072d87fc",
   "metadata": {},
   "outputs": [
    {
     "data": {
      "text/html": [
       "<div>\n",
       "<style scoped>\n",
       "    .dataframe tbody tr th:only-of-type {\n",
       "        vertical-align: middle;\n",
       "    }\n",
       "\n",
       "    .dataframe tbody tr th {\n",
       "        vertical-align: top;\n",
       "    }\n",
       "\n",
       "    .dataframe thead th {\n",
       "        text-align: right;\n",
       "    }\n",
       "</style>\n",
       "<table border=\"1\" class=\"dataframe\">\n",
       "  <thead>\n",
       "    <tr style=\"text-align: right;\">\n",
       "      <th></th>\n",
       "      <th>name</th>\n",
       "      <th>java</th>\n",
       "    </tr>\n",
       "  </thead>\n",
       "  <tbody>\n",
       "    <tr>\n",
       "      <th>0</th>\n",
       "      <td>lucy</td>\n",
       "      <td>0.075235</td>\n",
       "    </tr>\n",
       "    <tr>\n",
       "      <th>1</th>\n",
       "      <td>mery</td>\n",
       "      <td>0.867389</td>\n",
       "    </tr>\n",
       "    <tr>\n",
       "      <th>2</th>\n",
       "      <td>tom</td>\n",
       "      <td>0.262574</td>\n",
       "    </tr>\n",
       "    <tr>\n",
       "      <th>3</th>\n",
       "      <td>jack</td>\n",
       "      <td>0.326944</td>\n",
       "    </tr>\n",
       "    <tr>\n",
       "      <th>4</th>\n",
       "      <td>rose</td>\n",
       "      <td>0.075373</td>\n",
       "    </tr>\n",
       "    <tr>\n",
       "      <th>5</th>\n",
       "      <td>tony</td>\n",
       "      <td>0.458364</td>\n",
       "    </tr>\n",
       "  </tbody>\n",
       "</table>\n",
       "</div>"
      ],
      "text/plain": [
       "   name      java\n",
       "0  lucy  0.075235\n",
       "1  mery  0.867389\n",
       "2   tom  0.262574\n",
       "3  jack  0.326944\n",
       "4  rose  0.075373\n",
       "5  tony  0.458364"
      ]
     },
     "execution_count": 44,
     "metadata": {},
     "output_type": "execute_result"
    }
   ],
   "source": [
    "#显式索引访问07，读取列（loc），一般用来访问读取行\n",
    "df3.loc[:,['name','java']]"
   ]
  },
  {
   "cell_type": "code",
   "execution_count": 45,
   "id": "d4bdf52e-6e25-4ab2-a0da-834e3dbce1cb",
   "metadata": {},
   "outputs": [
    {
     "data": {
      "text/plain": [
       "'tom'"
      ]
     },
     "execution_count": 45,
     "metadata": {},
     "output_type": "execute_result"
    }
   ],
   "source": [
    "name=df3.name\n",
    "name.loc[2]"
   ]
  },
  {
   "cell_type": "markdown",
   "id": "73de40be-4315-481a-83c4-cdd90ea97665",
   "metadata": {},
   "source": [
    "#### 总结  \n",
    "1. 访问行，使用loc[row_index]\n",
    "2. 访问列，使用[col_index]"
   ]
  },
  {
   "cell_type": "code",
   "execution_count": 48,
   "id": "73541f23-e700-4e73-a064-3692bceccfb6",
   "metadata": {},
   "outputs": [
    {
     "data": {
      "text/plain": [
       "0    0.075235\n",
       "1    0.867389\n",
       "2    0.262574\n",
       "3    0.326944\n",
       "4    0.075373\n",
       "5    0.458364\n",
       "Name: java, dtype: float64"
      ]
     },
     "execution_count": 48,
     "metadata": {},
     "output_type": "execute_result"
    }
   ],
   "source": [
    "#访问整列方法\n",
    "df3['java']"
   ]
  },
  {
   "cell_type": "code",
   "execution_count": 52,
   "id": "b3ab943e-dd53-4d74-a25f-d3bb2235e098",
   "metadata": {},
   "outputs": [
    {
     "data": {
      "text/html": [
       "<div>\n",
       "<style scoped>\n",
       "    .dataframe tbody tr th:only-of-type {\n",
       "        vertical-align: middle;\n",
       "    }\n",
       "\n",
       "    .dataframe tbody tr th {\n",
       "        vertical-align: top;\n",
       "    }\n",
       "\n",
       "    .dataframe thead th {\n",
       "        text-align: right;\n",
       "    }\n",
       "</style>\n",
       "<table border=\"1\" class=\"dataframe\">\n",
       "  <thead>\n",
       "    <tr style=\"text-align: right;\">\n",
       "      <th></th>\n",
       "      <th>python</th>\n",
       "      <th>java</th>\n",
       "      <th>name</th>\n",
       "    </tr>\n",
       "  </thead>\n",
       "  <tbody>\n",
       "    <tr>\n",
       "      <th>1</th>\n",
       "      <td>87</td>\n",
       "      <td>0.867389</td>\n",
       "      <td>mery</td>\n",
       "    </tr>\n",
       "    <tr>\n",
       "      <th>2</th>\n",
       "      <td>15</td>\n",
       "      <td>0.262574</td>\n",
       "      <td>tom</td>\n",
       "    </tr>\n",
       "  </tbody>\n",
       "</table>\n",
       "</div>"
      ],
      "text/plain": [
       "   python      java  name\n",
       "1      87  0.867389  mery\n",
       "2      15  0.262574   tom"
      ]
     },
     "execution_count": 52,
     "metadata": {},
     "output_type": "execute_result"
    }
   ],
   "source": [
    "#访问整行方法\n",
    "df3.loc[[1,2]]"
   ]
  },
  {
   "cell_type": "markdown",
   "id": "8966d8f9-9ccd-4da4-abb2-26cdf32636a5",
   "metadata": {},
   "source": [
    "#### 访问元素  \n",
    "访问元素是先行后列（二维数组的逻辑）"
   ]
  },
  {
   "cell_type": "code",
   "execution_count": 53,
   "id": "cff57c5e-53c4-4ca9-af88-53548a8031b8",
   "metadata": {},
   "outputs": [
    {
     "data": {
      "text/html": [
       "<div>\n",
       "<style scoped>\n",
       "    .dataframe tbody tr th:only-of-type {\n",
       "        vertical-align: middle;\n",
       "    }\n",
       "\n",
       "    .dataframe tbody tr th {\n",
       "        vertical-align: top;\n",
       "    }\n",
       "\n",
       "    .dataframe thead th {\n",
       "        text-align: right;\n",
       "    }\n",
       "</style>\n",
       "<table border=\"1\" class=\"dataframe\">\n",
       "  <thead>\n",
       "    <tr style=\"text-align: right;\">\n",
       "      <th></th>\n",
       "      <th>python</th>\n",
       "      <th>java</th>\n",
       "      <th>name</th>\n",
       "    </tr>\n",
       "  </thead>\n",
       "  <tbody>\n",
       "    <tr>\n",
       "      <th>0</th>\n",
       "      <td>90</td>\n",
       "      <td>0.075235</td>\n",
       "      <td>lucy</td>\n",
       "    </tr>\n",
       "    <tr>\n",
       "      <th>1</th>\n",
       "      <td>87</td>\n",
       "      <td>0.867389</td>\n",
       "      <td>mery</td>\n",
       "    </tr>\n",
       "    <tr>\n",
       "      <th>2</th>\n",
       "      <td>15</td>\n",
       "      <td>0.262574</td>\n",
       "      <td>tom</td>\n",
       "    </tr>\n",
       "    <tr>\n",
       "      <th>3</th>\n",
       "      <td>64</td>\n",
       "      <td>0.326944</td>\n",
       "      <td>jack</td>\n",
       "    </tr>\n",
       "    <tr>\n",
       "      <th>4</th>\n",
       "      <td>32</td>\n",
       "      <td>0.075373</td>\n",
       "      <td>rose</td>\n",
       "    </tr>\n",
       "    <tr>\n",
       "      <th>5</th>\n",
       "      <td>59</td>\n",
       "      <td>0.458364</td>\n",
       "      <td>tony</td>\n",
       "    </tr>\n",
       "  </tbody>\n",
       "</table>\n",
       "</div>"
      ],
      "text/plain": [
       "   python      java  name\n",
       "0      90  0.075235  lucy\n",
       "1      87  0.867389  mery\n",
       "2      15  0.262574   tom\n",
       "3      64  0.326944  jack\n",
       "4      32  0.075373  rose\n",
       "5      59  0.458364  tony"
      ]
     },
     "execution_count": 53,
     "metadata": {},
     "output_type": "execute_result"
    }
   ],
   "source": [
    "df3"
   ]
  },
  {
   "cell_type": "code",
   "execution_count": 59,
   "id": "24d0f934-6932-4e7a-9ef6-846cdf3fa692",
   "metadata": {},
   "outputs": [
    {
     "data": {
      "text/plain": [
       "'tom'"
      ]
     },
     "execution_count": 59,
     "metadata": {},
     "output_type": "execute_result"
    }
   ],
   "source": [
    "#显式索引，具体一定要与DataFrame创建时所指定的index和columns对象来决定\n",
    "df3.loc[2,'name']"
   ]
  },
  {
   "cell_type": "code",
   "execution_count": 62,
   "id": "329b0b44-aaf0-42e1-99a6-9b510b2aac92",
   "metadata": {},
   "outputs": [
    {
     "data": {
      "text/plain": [
       "64"
      ]
     },
     "execution_count": 62,
     "metadata": {},
     "output_type": "execute_result"
    }
   ],
   "source": [
    "#隐式索引，无论是行、列都是默认只能用数字下标访问\n",
    "df3.iloc[3,0]"
   ]
  },
  {
   "cell_type": "markdown",
   "id": "7718034f-cc51-405e-aa57-02a432e1e61e",
   "metadata": {},
   "source": [
    "### DataFrame切片  \n",
    "【注意】直接用中括号时  \n",
    "* 索引表示的是列索引\n",
    "* 切片表示的是行切片\n",
    "\n",
    "（1）显式切片（标签切片，闭区间）"
   ]
  },
  {
   "cell_type": "code",
   "execution_count": 64,
   "id": "b45db62e-afd5-4ff3-aacb-470a3a0e3dfb",
   "metadata": {},
   "outputs": [
    {
     "data": {
      "text/html": [
       "<div>\n",
       "<style scoped>\n",
       "    .dataframe tbody tr th:only-of-type {\n",
       "        vertical-align: middle;\n",
       "    }\n",
       "\n",
       "    .dataframe tbody tr th {\n",
       "        vertical-align: top;\n",
       "    }\n",
       "\n",
       "    .dataframe thead th {\n",
       "        text-align: right;\n",
       "    }\n",
       "</style>\n",
       "<table border=\"1\" class=\"dataframe\">\n",
       "  <thead>\n",
       "    <tr style=\"text-align: right;\">\n",
       "      <th></th>\n",
       "      <th>python</th>\n",
       "      <th>java</th>\n",
       "      <th>name</th>\n",
       "    </tr>\n",
       "  </thead>\n",
       "  <tbody>\n",
       "    <tr>\n",
       "      <th>0</th>\n",
       "      <td>90</td>\n",
       "      <td>0.075235</td>\n",
       "      <td>lucy</td>\n",
       "    </tr>\n",
       "    <tr>\n",
       "      <th>1</th>\n",
       "      <td>87</td>\n",
       "      <td>0.867389</td>\n",
       "      <td>mery</td>\n",
       "    </tr>\n",
       "  </tbody>\n",
       "</table>\n",
       "</div>"
      ],
      "text/plain": [
       "   python      java  name\n",
       "0      90  0.075235  lucy\n",
       "1      87  0.867389  mery"
      ]
     },
     "execution_count": 64,
     "metadata": {},
     "output_type": "execute_result"
    }
   ],
   "source": [
    "#显式索引行切片\n",
    "df3[0:2]"
   ]
  },
  {
   "cell_type": "code",
   "execution_count": 65,
   "id": "3f59d9f0-eb10-4f0d-bf98-13e2c88bcf89",
   "metadata": {},
   "outputs": [
    {
     "data": {
      "text/html": [
       "<div>\n",
       "<style scoped>\n",
       "    .dataframe tbody tr th:only-of-type {\n",
       "        vertical-align: middle;\n",
       "    }\n",
       "\n",
       "    .dataframe tbody tr th {\n",
       "        vertical-align: top;\n",
       "    }\n",
       "\n",
       "    .dataframe thead th {\n",
       "        text-align: right;\n",
       "    }\n",
       "</style>\n",
       "<table border=\"1\" class=\"dataframe\">\n",
       "  <thead>\n",
       "    <tr style=\"text-align: right;\">\n",
       "      <th></th>\n",
       "      <th>python</th>\n",
       "      <th>java</th>\n",
       "      <th>name</th>\n",
       "    </tr>\n",
       "  </thead>\n",
       "  <tbody>\n",
       "    <tr>\n",
       "      <th>1</th>\n",
       "      <td>87</td>\n",
       "      <td>0.867389</td>\n",
       "      <td>mery</td>\n",
       "    </tr>\n",
       "    <tr>\n",
       "      <th>2</th>\n",
       "      <td>15</td>\n",
       "      <td>0.262574</td>\n",
       "      <td>tom</td>\n",
       "    </tr>\n",
       "    <tr>\n",
       "      <th>3</th>\n",
       "      <td>64</td>\n",
       "      <td>0.326944</td>\n",
       "      <td>jack</td>\n",
       "    </tr>\n",
       "  </tbody>\n",
       "</table>\n",
       "</div>"
      ],
      "text/plain": [
       "   python      java  name\n",
       "1      87  0.867389  mery\n",
       "2      15  0.262574   tom\n",
       "3      64  0.326944  jack"
      ]
     },
     "execution_count": 65,
     "metadata": {},
     "output_type": "execute_result"
    }
   ],
   "source": [
    "#显式索引行切片\n",
    "df3.loc[1:3]"
   ]
  },
  {
   "cell_type": "code",
   "execution_count": 71,
   "id": "213f6eff-fabc-4913-bb11-1fa1dcaf1c87",
   "metadata": {},
   "outputs": [
    {
     "data": {
      "text/html": [
       "<div>\n",
       "<style scoped>\n",
       "    .dataframe tbody tr th:only-of-type {\n",
       "        vertical-align: middle;\n",
       "    }\n",
       "\n",
       "    .dataframe tbody tr th {\n",
       "        vertical-align: top;\n",
       "    }\n",
       "\n",
       "    .dataframe thead th {\n",
       "        text-align: right;\n",
       "    }\n",
       "</style>\n",
       "<table border=\"1\" class=\"dataframe\">\n",
       "  <thead>\n",
       "    <tr style=\"text-align: right;\">\n",
       "      <th></th>\n",
       "      <th>python</th>\n",
       "      <th>java</th>\n",
       "    </tr>\n",
       "  </thead>\n",
       "  <tbody>\n",
       "    <tr>\n",
       "      <th>0</th>\n",
       "      <td>90</td>\n",
       "      <td>0.075235</td>\n",
       "    </tr>\n",
       "    <tr>\n",
       "      <th>1</th>\n",
       "      <td>87</td>\n",
       "      <td>0.867389</td>\n",
       "    </tr>\n",
       "    <tr>\n",
       "      <th>2</th>\n",
       "      <td>15</td>\n",
       "      <td>0.262574</td>\n",
       "    </tr>\n",
       "    <tr>\n",
       "      <th>3</th>\n",
       "      <td>64</td>\n",
       "      <td>0.326944</td>\n",
       "    </tr>\n",
       "    <tr>\n",
       "      <th>4</th>\n",
       "      <td>32</td>\n",
       "      <td>0.075373</td>\n",
       "    </tr>\n",
       "    <tr>\n",
       "      <th>5</th>\n",
       "      <td>59</td>\n",
       "      <td>0.458364</td>\n",
       "    </tr>\n",
       "  </tbody>\n",
       "</table>\n",
       "</div>"
      ],
      "text/plain": [
       "   python      java\n",
       "0      90  0.075235\n",
       "1      87  0.867389\n",
       "2      15  0.262574\n",
       "3      64  0.326944\n",
       "4      32  0.075373\n",
       "5      59  0.458364"
      ]
     },
     "execution_count": 71,
     "metadata": {},
     "output_type": "execute_result"
    }
   ],
   "source": [
    "#显式索引列切片（逻辑与二维数组类似，先行后列）\n",
    "df3.loc[:,'python':'java']  #当列切片有多列时，列名称表达顺序一定有从左至右的顺序来写切片范围，否则会出现空白"
   ]
  },
  {
   "cell_type": "markdown",
   "id": "2b0d6d07-2087-4e4c-a674-1b71b5d03679",
   "metadata": {},
   "source": [
    "（2）隐式切片（索引切片，左闭右开）"
   ]
  },
  {
   "cell_type": "code",
   "execution_count": 66,
   "id": "c8fa0904-8e45-4984-8f23-29f0f792d39a",
   "metadata": {},
   "outputs": [
    {
     "data": {
      "text/html": [
       "<div>\n",
       "<style scoped>\n",
       "    .dataframe tbody tr th:only-of-type {\n",
       "        vertical-align: middle;\n",
       "    }\n",
       "\n",
       "    .dataframe tbody tr th {\n",
       "        vertical-align: top;\n",
       "    }\n",
       "\n",
       "    .dataframe thead th {\n",
       "        text-align: right;\n",
       "    }\n",
       "</style>\n",
       "<table border=\"1\" class=\"dataframe\">\n",
       "  <thead>\n",
       "    <tr style=\"text-align: right;\">\n",
       "      <th></th>\n",
       "      <th>python</th>\n",
       "      <th>java</th>\n",
       "      <th>name</th>\n",
       "    </tr>\n",
       "  </thead>\n",
       "  <tbody>\n",
       "    <tr>\n",
       "      <th>0</th>\n",
       "      <td>90</td>\n",
       "      <td>0.075235</td>\n",
       "      <td>lucy</td>\n",
       "    </tr>\n",
       "    <tr>\n",
       "      <th>1</th>\n",
       "      <td>87</td>\n",
       "      <td>0.867389</td>\n",
       "      <td>mery</td>\n",
       "    </tr>\n",
       "    <tr>\n",
       "      <th>2</th>\n",
       "      <td>15</td>\n",
       "      <td>0.262574</td>\n",
       "      <td>tom</td>\n",
       "    </tr>\n",
       "  </tbody>\n",
       "</table>\n",
       "</div>"
      ],
      "text/plain": [
       "   python      java  name\n",
       "0      90  0.075235  lucy\n",
       "1      87  0.867389  mery\n",
       "2      15  0.262574   tom"
      ]
     },
     "execution_count": 66,
     "metadata": {},
     "output_type": "execute_result"
    }
   ],
   "source": [
    "#隐式索引行切片\n",
    "df3.iloc[0:3]"
   ]
  },
  {
   "cell_type": "code",
   "execution_count": 73,
   "id": "aeaf239f-70fa-47c2-a74b-9b8f322ef9de",
   "metadata": {},
   "outputs": [
    {
     "data": {
      "text/html": [
       "<div>\n",
       "<style scoped>\n",
       "    .dataframe tbody tr th:only-of-type {\n",
       "        vertical-align: middle;\n",
       "    }\n",
       "\n",
       "    .dataframe tbody tr th {\n",
       "        vertical-align: top;\n",
       "    }\n",
       "\n",
       "    .dataframe thead th {\n",
       "        text-align: right;\n",
       "    }\n",
       "</style>\n",
       "<table border=\"1\" class=\"dataframe\">\n",
       "  <thead>\n",
       "    <tr style=\"text-align: right;\">\n",
       "      <th></th>\n",
       "      <th>java</th>\n",
       "      <th>name</th>\n",
       "    </tr>\n",
       "  </thead>\n",
       "  <tbody>\n",
       "    <tr>\n",
       "      <th>0</th>\n",
       "      <td>0.075235</td>\n",
       "      <td>lucy</td>\n",
       "    </tr>\n",
       "    <tr>\n",
       "      <th>1</th>\n",
       "      <td>0.867389</td>\n",
       "      <td>mery</td>\n",
       "    </tr>\n",
       "    <tr>\n",
       "      <th>2</th>\n",
       "      <td>0.262574</td>\n",
       "      <td>tom</td>\n",
       "    </tr>\n",
       "    <tr>\n",
       "      <th>3</th>\n",
       "      <td>0.326944</td>\n",
       "      <td>jack</td>\n",
       "    </tr>\n",
       "    <tr>\n",
       "      <th>4</th>\n",
       "      <td>0.075373</td>\n",
       "      <td>rose</td>\n",
       "    </tr>\n",
       "    <tr>\n",
       "      <th>5</th>\n",
       "      <td>0.458364</td>\n",
       "      <td>tony</td>\n",
       "    </tr>\n",
       "  </tbody>\n",
       "</table>\n",
       "</div>"
      ],
      "text/plain": [
       "       java  name\n",
       "0  0.075235  lucy\n",
       "1  0.867389  mery\n",
       "2  0.262574   tom\n",
       "3  0.326944  jack\n",
       "4  0.075373  rose\n",
       "5  0.458364  tony"
      ]
     },
     "execution_count": 73,
     "metadata": {},
     "output_type": "execute_result"
    }
   ],
   "source": [
    "#隐式索引列切片\n",
    "df3.iloc[:,1:] #注意“ ： ”的用法解析，a:b表示a为起始值，b为结束值；如果a和b都空，则表示全部；如果只有一个有写，则表示从该位置开始或结束"
   ]
  },
  {
   "cell_type": "code",
   "execution_count": 75,
   "id": "b24ef14a-26ae-4556-98a7-230336b64c1e",
   "metadata": {},
   "outputs": [
    {
     "data": {
      "text/html": [
       "<div>\n",
       "<style scoped>\n",
       "    .dataframe tbody tr th:only-of-type {\n",
       "        vertical-align: middle;\n",
       "    }\n",
       "\n",
       "    .dataframe tbody tr th {\n",
       "        vertical-align: top;\n",
       "    }\n",
       "\n",
       "    .dataframe thead th {\n",
       "        text-align: right;\n",
       "    }\n",
       "</style>\n",
       "<table border=\"1\" class=\"dataframe\">\n",
       "  <thead>\n",
       "    <tr style=\"text-align: right;\">\n",
       "      <th></th>\n",
       "      <th>python</th>\n",
       "      <th>java</th>\n",
       "      <th>name</th>\n",
       "    </tr>\n",
       "  </thead>\n",
       "  <tbody>\n",
       "    <tr>\n",
       "      <th>0</th>\n",
       "      <td>90</td>\n",
       "      <td>0.075235</td>\n",
       "      <td>lucy</td>\n",
       "    </tr>\n",
       "    <tr>\n",
       "      <th>3</th>\n",
       "      <td>64</td>\n",
       "      <td>0.326944</td>\n",
       "      <td>jack</td>\n",
       "    </tr>\n",
       "    <tr>\n",
       "      <th>4</th>\n",
       "      <td>32</td>\n",
       "      <td>0.075373</td>\n",
       "      <td>rose</td>\n",
       "    </tr>\n",
       "  </tbody>\n",
       "</table>\n",
       "</div>"
      ],
      "text/plain": [
       "   python      java  name\n",
       "0      90  0.075235  lucy\n",
       "3      64  0.326944  jack\n",
       "4      32  0.075373  rose"
      ]
     },
     "execution_count": 75,
     "metadata": {},
     "output_type": "execute_result"
    }
   ],
   "source": [
    "#bool方法访问\n",
    "bool_list_row=[True,False,False,True,True,False]\n",
    "bool_list_col=[False,True,False]\n",
    "df3.iloc[bool_list_row]"
   ]
  },
  {
   "cell_type": "code",
   "execution_count": 78,
   "id": "3ed97df5-e32b-432f-91b1-f1c55955652c",
   "metadata": {},
   "outputs": [
    {
     "data": {
      "text/html": [
       "<div>\n",
       "<style scoped>\n",
       "    .dataframe tbody tr th:only-of-type {\n",
       "        vertical-align: middle;\n",
       "    }\n",
       "\n",
       "    .dataframe tbody tr th {\n",
       "        vertical-align: top;\n",
       "    }\n",
       "\n",
       "    .dataframe thead th {\n",
       "        text-align: right;\n",
       "    }\n",
       "</style>\n",
       "<table border=\"1\" class=\"dataframe\">\n",
       "  <thead>\n",
       "    <tr style=\"text-align: right;\">\n",
       "      <th></th>\n",
       "      <th>java</th>\n",
       "    </tr>\n",
       "  </thead>\n",
       "  <tbody>\n",
       "    <tr>\n",
       "      <th>0</th>\n",
       "      <td>0.075235</td>\n",
       "    </tr>\n",
       "    <tr>\n",
       "      <th>1</th>\n",
       "      <td>0.867389</td>\n",
       "    </tr>\n",
       "    <tr>\n",
       "      <th>2</th>\n",
       "      <td>0.262574</td>\n",
       "    </tr>\n",
       "    <tr>\n",
       "      <th>3</th>\n",
       "      <td>0.326944</td>\n",
       "    </tr>\n",
       "    <tr>\n",
       "      <th>4</th>\n",
       "      <td>0.075373</td>\n",
       "    </tr>\n",
       "    <tr>\n",
       "      <th>5</th>\n",
       "      <td>0.458364</td>\n",
       "    </tr>\n",
       "  </tbody>\n",
       "</table>\n",
       "</div>"
      ],
      "text/plain": [
       "       java\n",
       "0  0.075235\n",
       "1  0.867389\n",
       "2  0.262574\n",
       "3  0.326944\n",
       "4  0.075373\n",
       "5  0.458364"
      ]
     },
     "execution_count": 78,
     "metadata": {},
     "output_type": "execute_result"
    }
   ],
   "source": [
    "#注意：访问列数据，一定要先行后列的顺序来访问读取\n",
    "df3.loc[:,bool_list_col]"
   ]
  },
  {
   "cell_type": "code",
   "execution_count": 80,
   "id": "558babc1-0b12-49d5-a04c-3b36def3ccb1",
   "metadata": {},
   "outputs": [
    {
     "data": {
      "text/plain": [
       "0    90\n",
       "1    87\n",
       "2    15\n",
       "3    64\n",
       "4    32\n",
       "5    59\n",
       "Name: python, dtype: int32"
      ]
     },
     "execution_count": 80,
     "metadata": {},
     "output_type": "execute_result"
    }
   ],
   "source": [
    "#直接访问DataFrame中的某列数据，返回的时Series对象类型\n",
    "df3.python"
   ]
  },
  {
   "cell_type": "code",
   "execution_count": 82,
   "id": "ca35eae5-d4f5-4f80-a759-ec2ea2c4bd55",
   "metadata": {},
   "outputs": [
    {
     "data": {
      "text/plain": [
       "0     True\n",
       "1     True\n",
       "2    False\n",
       "3     True\n",
       "4    False\n",
       "5    False\n",
       "Name: python, dtype: bool"
      ]
     },
     "execution_count": 82,
     "metadata": {},
     "output_type": "execute_result"
    }
   ],
   "source": [
    "#可以直接用某列值进行关系判断和比较，返回布尔型的Series的对象\n",
    "df3.python>60"
   ]
  },
  {
   "cell_type": "code",
   "execution_count": 83,
   "id": "5c1e9236-65ef-48fc-a598-f614d96e10e0",
   "metadata": {},
   "outputs": [
    {
     "data": {
      "text/html": [
       "<div>\n",
       "<style scoped>\n",
       "    .dataframe tbody tr th:only-of-type {\n",
       "        vertical-align: middle;\n",
       "    }\n",
       "\n",
       "    .dataframe tbody tr th {\n",
       "        vertical-align: top;\n",
       "    }\n",
       "\n",
       "    .dataframe thead th {\n",
       "        text-align: right;\n",
       "    }\n",
       "</style>\n",
       "<table border=\"1\" class=\"dataframe\">\n",
       "  <thead>\n",
       "    <tr style=\"text-align: right;\">\n",
       "      <th></th>\n",
       "      <th>python</th>\n",
       "      <th>java</th>\n",
       "      <th>name</th>\n",
       "    </tr>\n",
       "  </thead>\n",
       "  <tbody>\n",
       "    <tr>\n",
       "      <th>0</th>\n",
       "      <td>90</td>\n",
       "      <td>0.075235</td>\n",
       "      <td>lucy</td>\n",
       "    </tr>\n",
       "    <tr>\n",
       "      <th>1</th>\n",
       "      <td>87</td>\n",
       "      <td>0.867389</td>\n",
       "      <td>mery</td>\n",
       "    </tr>\n",
       "    <tr>\n",
       "      <th>3</th>\n",
       "      <td>64</td>\n",
       "      <td>0.326944</td>\n",
       "      <td>jack</td>\n",
       "    </tr>\n",
       "  </tbody>\n",
       "</table>\n",
       "</div>"
      ],
      "text/plain": [
       "   python      java  name\n",
       "0      90  0.075235  lucy\n",
       "1      87  0.867389  mery\n",
       "3      64  0.326944  jack"
      ]
     },
     "execution_count": 83,
     "metadata": {},
     "output_type": "execute_result"
    }
   ],
   "source": [
    "#实现查找出python大于60的所有数据，返回的是子DataFrame类型\n",
    "df3.loc[df3.python>60]"
   ]
  },
  {
   "cell_type": "code",
   "execution_count": 85,
   "id": "8575fb35-013a-4f60-acdd-a43b102e21b0",
   "metadata": {},
   "outputs": [
    {
     "ename": "NotImplementedError",
     "evalue": "iLocation based boolean indexing on an integer type is not available",
     "output_type": "error",
     "traceback": [
      "\u001b[1;31m---------------------------------------------------------------------------\u001b[0m",
      "\u001b[1;31mNotImplementedError\u001b[0m                       Traceback (most recent call last)",
      "Cell \u001b[1;32mIn[85], line 2\u001b[0m\n\u001b[0;32m      1\u001b[0m \u001b[38;5;66;03m#不行，因为df3.python>60判断后返回的值是一个Series类型，而且还隐藏一个隐式数字索引列，所以直接调用的话，其实调用的是隐式索引的数字值，不是布尔值，所以不行\u001b[39;00m\n\u001b[1;32m----> 2\u001b[0m \u001b[43mdf3\u001b[49m\u001b[38;5;241;43m.\u001b[39;49m\u001b[43miloc\u001b[49m\u001b[43m[\u001b[49m\u001b[43mdf3\u001b[49m\u001b[38;5;241;43m.\u001b[39;49m\u001b[43mpython\u001b[49m\u001b[38;5;241;43m>\u001b[39;49m\u001b[38;5;241;43m60\u001b[39;49m\u001b[43m]\u001b[49m\n",
      "File \u001b[1;32m~\\AppData\\Local\\Programs\\Python\\Python311\\Lib\\site-packages\\pandas\\core\\indexing.py:1153\u001b[0m, in \u001b[0;36m_LocationIndexer.__getitem__\u001b[1;34m(self, key)\u001b[0m\n\u001b[0;32m   1150\u001b[0m axis \u001b[38;5;241m=\u001b[39m \u001b[38;5;28mself\u001b[39m\u001b[38;5;241m.\u001b[39maxis \u001b[38;5;129;01mor\u001b[39;00m \u001b[38;5;241m0\u001b[39m\n\u001b[0;32m   1152\u001b[0m maybe_callable \u001b[38;5;241m=\u001b[39m com\u001b[38;5;241m.\u001b[39mapply_if_callable(key, \u001b[38;5;28mself\u001b[39m\u001b[38;5;241m.\u001b[39mobj)\n\u001b[1;32m-> 1153\u001b[0m \u001b[38;5;28;01mreturn\u001b[39;00m \u001b[38;5;28;43mself\u001b[39;49m\u001b[38;5;241;43m.\u001b[39;49m\u001b[43m_getitem_axis\u001b[49m\u001b[43m(\u001b[49m\u001b[43mmaybe_callable\u001b[49m\u001b[43m,\u001b[49m\u001b[43m \u001b[49m\u001b[43maxis\u001b[49m\u001b[38;5;241;43m=\u001b[39;49m\u001b[43maxis\u001b[49m\u001b[43m)\u001b[49m\n",
      "File \u001b[1;32m~\\AppData\\Local\\Programs\\Python\\Python311\\Lib\\site-packages\\pandas\\core\\indexing.py:1700\u001b[0m, in \u001b[0;36m_iLocIndexer._getitem_axis\u001b[1;34m(self, key, axis)\u001b[0m\n\u001b[0;32m   1697\u001b[0m     key \u001b[38;5;241m=\u001b[39m np\u001b[38;5;241m.\u001b[39masarray(key)\n\u001b[0;32m   1699\u001b[0m \u001b[38;5;28;01mif\u001b[39;00m com\u001b[38;5;241m.\u001b[39mis_bool_indexer(key):\n\u001b[1;32m-> 1700\u001b[0m     \u001b[38;5;28;43mself\u001b[39;49m\u001b[38;5;241;43m.\u001b[39;49m\u001b[43m_validate_key\u001b[49m\u001b[43m(\u001b[49m\u001b[43mkey\u001b[49m\u001b[43m,\u001b[49m\u001b[43m \u001b[49m\u001b[43maxis\u001b[49m\u001b[43m)\u001b[49m\n\u001b[0;32m   1701\u001b[0m     \u001b[38;5;28;01mreturn\u001b[39;00m \u001b[38;5;28mself\u001b[39m\u001b[38;5;241m.\u001b[39m_getbool_axis(key, axis\u001b[38;5;241m=\u001b[39maxis)\n\u001b[0;32m   1703\u001b[0m \u001b[38;5;66;03m# a list of integers\u001b[39;00m\n",
      "File \u001b[1;32m~\\AppData\\Local\\Programs\\Python\\Python311\\Lib\\site-packages\\pandas\\core\\indexing.py:1540\u001b[0m, in \u001b[0;36m_iLocIndexer._validate_key\u001b[1;34m(self, key, axis)\u001b[0m\n\u001b[0;32m   1538\u001b[0m \u001b[38;5;28;01mif\u001b[39;00m \u001b[38;5;28mhasattr\u001b[39m(key, \u001b[38;5;124m\"\u001b[39m\u001b[38;5;124mindex\u001b[39m\u001b[38;5;124m\"\u001b[39m) \u001b[38;5;129;01mand\u001b[39;00m \u001b[38;5;28misinstance\u001b[39m(key\u001b[38;5;241m.\u001b[39mindex, Index):\n\u001b[0;32m   1539\u001b[0m     \u001b[38;5;28;01mif\u001b[39;00m key\u001b[38;5;241m.\u001b[39mindex\u001b[38;5;241m.\u001b[39minferred_type \u001b[38;5;241m==\u001b[39m \u001b[38;5;124m\"\u001b[39m\u001b[38;5;124minteger\u001b[39m\u001b[38;5;124m\"\u001b[39m:\n\u001b[1;32m-> 1540\u001b[0m         \u001b[38;5;28;01mraise\u001b[39;00m \u001b[38;5;167;01mNotImplementedError\u001b[39;00m(\n\u001b[0;32m   1541\u001b[0m             \u001b[38;5;124m\"\u001b[39m\u001b[38;5;124miLocation based boolean \u001b[39m\u001b[38;5;124m\"\u001b[39m\n\u001b[0;32m   1542\u001b[0m             \u001b[38;5;124m\"\u001b[39m\u001b[38;5;124mindexing on an integer type \u001b[39m\u001b[38;5;124m\"\u001b[39m\n\u001b[0;32m   1543\u001b[0m             \u001b[38;5;124m\"\u001b[39m\u001b[38;5;124mis not available\u001b[39m\u001b[38;5;124m\"\u001b[39m\n\u001b[0;32m   1544\u001b[0m         )\n\u001b[0;32m   1545\u001b[0m     \u001b[38;5;28;01mraise\u001b[39;00m \u001b[38;5;167;01mValueError\u001b[39;00m(\n\u001b[0;32m   1546\u001b[0m         \u001b[38;5;124m\"\u001b[39m\u001b[38;5;124miLocation based boolean indexing cannot use \u001b[39m\u001b[38;5;124m\"\u001b[39m\n\u001b[0;32m   1547\u001b[0m         \u001b[38;5;124m\"\u001b[39m\u001b[38;5;124man indexable as a mask\u001b[39m\u001b[38;5;124m\"\u001b[39m\n\u001b[0;32m   1548\u001b[0m     )\n\u001b[0;32m   1549\u001b[0m \u001b[38;5;28;01mreturn\u001b[39;00m\n",
      "\u001b[1;31mNotImplementedError\u001b[0m: iLocation based boolean indexing on an integer type is not available"
     ]
    }
   ],
   "source": [
    "#不行，因为df3.python>60判断后返回的值是一个Series类型，而且还隐藏一个隐式数字索引列，所以直接调用的话，其实调用的是隐式索引的数字值，不是布尔值，所以不行\n",
    "df3.iloc[df3.python>60]"
   ]
  },
  {
   "cell_type": "code",
   "execution_count": 85,
   "id": "f1efc881-87e0-43b1-8a8b-596c953d6705",
   "metadata": {
    "scrolled": true
   },
   "outputs": [
    {
     "ename": "NotImplementedError",
     "evalue": "iLocation based boolean indexing on an integer type is not available",
     "output_type": "error",
     "traceback": [
      "\u001b[1;31m---------------------------------------------------------------------------\u001b[0m",
      "\u001b[1;31mNotImplementedError\u001b[0m                       Traceback (most recent call last)",
      "Cell \u001b[1;32mIn[85], line 2\u001b[0m\n\u001b[0;32m      1\u001b[0m \u001b[38;5;66;03m#不行，因为df3.python>60判断后返回的值是一个Series类型，而且还隐藏一个隐式数字索引列，所以直接调用的话，其实调用的是隐式索引的数字值，不是布尔值，所以不行\u001b[39;00m\n\u001b[1;32m----> 2\u001b[0m \u001b[43mdf3\u001b[49m\u001b[38;5;241;43m.\u001b[39;49m\u001b[43miloc\u001b[49m\u001b[43m[\u001b[49m\u001b[43mdf3\u001b[49m\u001b[38;5;241;43m.\u001b[39;49m\u001b[43mpython\u001b[49m\u001b[38;5;241;43m>\u001b[39;49m\u001b[38;5;241;43m60\u001b[39;49m\u001b[43m]\u001b[49m\n",
      "File \u001b[1;32m~\\AppData\\Local\\Programs\\Python\\Python311\\Lib\\site-packages\\pandas\\core\\indexing.py:1153\u001b[0m, in \u001b[0;36m_LocationIndexer.__getitem__\u001b[1;34m(self, key)\u001b[0m\n\u001b[0;32m   1150\u001b[0m axis \u001b[38;5;241m=\u001b[39m \u001b[38;5;28mself\u001b[39m\u001b[38;5;241m.\u001b[39maxis \u001b[38;5;129;01mor\u001b[39;00m \u001b[38;5;241m0\u001b[39m\n\u001b[0;32m   1152\u001b[0m maybe_callable \u001b[38;5;241m=\u001b[39m com\u001b[38;5;241m.\u001b[39mapply_if_callable(key, \u001b[38;5;28mself\u001b[39m\u001b[38;5;241m.\u001b[39mobj)\n\u001b[1;32m-> 1153\u001b[0m \u001b[38;5;28;01mreturn\u001b[39;00m \u001b[38;5;28;43mself\u001b[39;49m\u001b[38;5;241;43m.\u001b[39;49m\u001b[43m_getitem_axis\u001b[49m\u001b[43m(\u001b[49m\u001b[43mmaybe_callable\u001b[49m\u001b[43m,\u001b[49m\u001b[43m \u001b[49m\u001b[43maxis\u001b[49m\u001b[38;5;241;43m=\u001b[39;49m\u001b[43maxis\u001b[49m\u001b[43m)\u001b[49m\n",
      "File \u001b[1;32m~\\AppData\\Local\\Programs\\Python\\Python311\\Lib\\site-packages\\pandas\\core\\indexing.py:1700\u001b[0m, in \u001b[0;36m_iLocIndexer._getitem_axis\u001b[1;34m(self, key, axis)\u001b[0m\n\u001b[0;32m   1697\u001b[0m     key \u001b[38;5;241m=\u001b[39m np\u001b[38;5;241m.\u001b[39masarray(key)\n\u001b[0;32m   1699\u001b[0m \u001b[38;5;28;01mif\u001b[39;00m com\u001b[38;5;241m.\u001b[39mis_bool_indexer(key):\n\u001b[1;32m-> 1700\u001b[0m     \u001b[38;5;28;43mself\u001b[39;49m\u001b[38;5;241;43m.\u001b[39;49m\u001b[43m_validate_key\u001b[49m\u001b[43m(\u001b[49m\u001b[43mkey\u001b[49m\u001b[43m,\u001b[49m\u001b[43m \u001b[49m\u001b[43maxis\u001b[49m\u001b[43m)\u001b[49m\n\u001b[0;32m   1701\u001b[0m     \u001b[38;5;28;01mreturn\u001b[39;00m \u001b[38;5;28mself\u001b[39m\u001b[38;5;241m.\u001b[39m_getbool_axis(key, axis\u001b[38;5;241m=\u001b[39maxis)\n\u001b[0;32m   1703\u001b[0m \u001b[38;5;66;03m# a list of integers\u001b[39;00m\n",
      "File \u001b[1;32m~\\AppData\\Local\\Programs\\Python\\Python311\\Lib\\site-packages\\pandas\\core\\indexing.py:1540\u001b[0m, in \u001b[0;36m_iLocIndexer._validate_key\u001b[1;34m(self, key, axis)\u001b[0m\n\u001b[0;32m   1538\u001b[0m \u001b[38;5;28;01mif\u001b[39;00m \u001b[38;5;28mhasattr\u001b[39m(key, \u001b[38;5;124m\"\u001b[39m\u001b[38;5;124mindex\u001b[39m\u001b[38;5;124m\"\u001b[39m) \u001b[38;5;129;01mand\u001b[39;00m \u001b[38;5;28misinstance\u001b[39m(key\u001b[38;5;241m.\u001b[39mindex, Index):\n\u001b[0;32m   1539\u001b[0m     \u001b[38;5;28;01mif\u001b[39;00m key\u001b[38;5;241m.\u001b[39mindex\u001b[38;5;241m.\u001b[39minferred_type \u001b[38;5;241m==\u001b[39m \u001b[38;5;124m\"\u001b[39m\u001b[38;5;124minteger\u001b[39m\u001b[38;5;124m\"\u001b[39m:\n\u001b[1;32m-> 1540\u001b[0m         \u001b[38;5;28;01mraise\u001b[39;00m \u001b[38;5;167;01mNotImplementedError\u001b[39;00m(\n\u001b[0;32m   1541\u001b[0m             \u001b[38;5;124m\"\u001b[39m\u001b[38;5;124miLocation based boolean \u001b[39m\u001b[38;5;124m\"\u001b[39m\n\u001b[0;32m   1542\u001b[0m             \u001b[38;5;124m\"\u001b[39m\u001b[38;5;124mindexing on an integer type \u001b[39m\u001b[38;5;124m\"\u001b[39m\n\u001b[0;32m   1543\u001b[0m             \u001b[38;5;124m\"\u001b[39m\u001b[38;5;124mis not available\u001b[39m\u001b[38;5;124m\"\u001b[39m\n\u001b[0;32m   1544\u001b[0m         )\n\u001b[0;32m   1545\u001b[0m     \u001b[38;5;28;01mraise\u001b[39;00m \u001b[38;5;167;01mValueError\u001b[39;00m(\n\u001b[0;32m   1546\u001b[0m         \u001b[38;5;124m\"\u001b[39m\u001b[38;5;124miLocation based boolean indexing cannot use \u001b[39m\u001b[38;5;124m\"\u001b[39m\n\u001b[0;32m   1547\u001b[0m         \u001b[38;5;124m\"\u001b[39m\u001b[38;5;124man indexable as a mask\u001b[39m\u001b[38;5;124m\"\u001b[39m\n\u001b[0;32m   1548\u001b[0m     )\n\u001b[0;32m   1549\u001b[0m \u001b[38;5;28;01mreturn\u001b[39;00m\n",
      "\u001b[1;31mNotImplementedError\u001b[0m: iLocation based boolean indexing on an integer type is not available"
     ]
    }
   ],
   "source": [
    "#不行，因为df3.python>60判断后返回的值是一个Series类型，而且还隐藏一个隐式数字索引列，所以直接调用的话，其实调用的是隐式索引的数字值，不是布尔值，所以不行\n",
    "df3.iloc[df3.python>60]"
   ]
  },
  {
   "cell_type": "code",
   "execution_count": 86,
   "id": "cfa5b69a-8b5a-4f32-aaf4-aaec842cc17a",
   "metadata": {},
   "outputs": [
    {
     "data": {
      "text/html": [
       "<div>\n",
       "<style scoped>\n",
       "    .dataframe tbody tr th:only-of-type {\n",
       "        vertical-align: middle;\n",
       "    }\n",
       "\n",
       "    .dataframe tbody tr th {\n",
       "        vertical-align: top;\n",
       "    }\n",
       "\n",
       "    .dataframe thead th {\n",
       "        text-align: right;\n",
       "    }\n",
       "</style>\n",
       "<table border=\"1\" class=\"dataframe\">\n",
       "  <thead>\n",
       "    <tr style=\"text-align: right;\">\n",
       "      <th></th>\n",
       "      <th>python</th>\n",
       "      <th>java</th>\n",
       "      <th>name</th>\n",
       "    </tr>\n",
       "  </thead>\n",
       "  <tbody>\n",
       "    <tr>\n",
       "      <th>0</th>\n",
       "      <td>90</td>\n",
       "      <td>0.075235</td>\n",
       "      <td>lucy</td>\n",
       "    </tr>\n",
       "    <tr>\n",
       "      <th>1</th>\n",
       "      <td>87</td>\n",
       "      <td>0.867389</td>\n",
       "      <td>mery</td>\n",
       "    </tr>\n",
       "    <tr>\n",
       "      <th>3</th>\n",
       "      <td>64</td>\n",
       "      <td>0.326944</td>\n",
       "      <td>jack</td>\n",
       "    </tr>\n",
       "  </tbody>\n",
       "</table>\n",
       "</div>"
      ],
      "text/plain": [
       "   python      java  name\n",
       "0      90  0.075235  lucy\n",
       "1      87  0.867389  mery\n",
       "3      64  0.326944  jack"
      ]
     },
     "execution_count": 86,
     "metadata": {},
     "output_type": "execute_result"
    }
   ],
   "source": [
    "#可以把df3.python>60返回的Series类型的data值部分读取出来即可，因为data部分就只剩下布尔型的值了\n",
    "df3.iloc[(df3.python>60).values]"
   ]
  },
  {
   "cell_type": "markdown",
   "id": "5572596d-0196-4bc5-b5a5-610782ea552d",
   "metadata": {},
   "source": [
    "#### （1）DataFrame访问总结  \n",
    "##### 显式访问：  \n",
    "1. 列访问   直接使用df[col_index]，   多列访问df.[col_index_list]   \n",
    "2. 行访问   使用.loc[row_index]，     多行访问df.loc[row_index_list]，     df.列索引名称  \n",
    "3. 使用布尔列表访问  \n",
    "     列访问：df.loc[:,bool_list]  \n",
    "     行访问：df.loc[bool_list]  \n",
    "5. 元素访问   .loc[row_index,col_index]\n",
    "\n",
    "##### 隐式访问：  \n",
    "1. 列访问   df.iloc[:,col_loc]，   多列访问 df.iloc[:,col_loc_list]\n",
    "2. 行访问   df.iloc[row_loc]，     多行访问 df.iloc[row_loc_list]\n",
    "3. bool列表访问【注意：bool列表不能带索引，也就是应该使用列表类型或者numpy.array类型】  \n",
    "      列访问：df.iloc[:,bool_list]  \n",
    "      行访问：df.iloc[bool_list]  \n",
    "5. 元素访问 df.iloc[row_loc,col_loc]\n",
    "\n",
    "#### （2）DataFrame切片总结  \n",
    "直接使用[]，索引是列索引，切片是行切片  \n",
    "##### 显式访问：  \n",
    "1. 行切片  df.loc[row_loc1:row_loc2]   [row_loc1:row_loc2] (不推荐)\n",
    "2. 列切片（使用二维数组的切片逻辑）  df.loc[:,col_loc1:col_loc2]  \n",
    "\n",
    "##### 显式访问：  \n",
    "1. 行切片  df.iloc[row1:row2]\n",
    "2. 列切片  df.iloc[:,col1:col2]\n"
   ]
  },
  {
   "cell_type": "code",
   "execution_count": 87,
   "id": "b1b95a3a-53c4-4e02-a1e2-68ead2ac40f9",
   "metadata": {},
   "outputs": [
    {
     "data": {
      "text/html": [
       "<div>\n",
       "<style scoped>\n",
       "    .dataframe tbody tr th:only-of-type {\n",
       "        vertical-align: middle;\n",
       "    }\n",
       "\n",
       "    .dataframe tbody tr th {\n",
       "        vertical-align: top;\n",
       "    }\n",
       "\n",
       "    .dataframe thead th {\n",
       "        text-align: right;\n",
       "    }\n",
       "</style>\n",
       "<table border=\"1\" class=\"dataframe\">\n",
       "  <thead>\n",
       "    <tr style=\"text-align: right;\">\n",
       "      <th></th>\n",
       "      <th>python</th>\n",
       "      <th>java</th>\n",
       "      <th>name</th>\n",
       "    </tr>\n",
       "  </thead>\n",
       "  <tbody>\n",
       "    <tr>\n",
       "      <th>0</th>\n",
       "      <td>90</td>\n",
       "      <td>0.075235</td>\n",
       "      <td>lucy</td>\n",
       "    </tr>\n",
       "    <tr>\n",
       "      <th>1</th>\n",
       "      <td>87</td>\n",
       "      <td>0.867389</td>\n",
       "      <td>mery</td>\n",
       "    </tr>\n",
       "    <tr>\n",
       "      <th>2</th>\n",
       "      <td>15</td>\n",
       "      <td>0.262574</td>\n",
       "      <td>tom</td>\n",
       "    </tr>\n",
       "    <tr>\n",
       "      <th>3</th>\n",
       "      <td>64</td>\n",
       "      <td>0.326944</td>\n",
       "      <td>jack</td>\n",
       "    </tr>\n",
       "    <tr>\n",
       "      <th>4</th>\n",
       "      <td>32</td>\n",
       "      <td>0.075373</td>\n",
       "      <td>rose</td>\n",
       "    </tr>\n",
       "    <tr>\n",
       "      <th>5</th>\n",
       "      <td>59</td>\n",
       "      <td>0.458364</td>\n",
       "      <td>tony</td>\n",
       "    </tr>\n",
       "  </tbody>\n",
       "</table>\n",
       "</div>"
      ],
      "text/plain": [
       "   python      java  name\n",
       "0      90  0.075235  lucy\n",
       "1      87  0.867389  mery\n",
       "2      15  0.262574   tom\n",
       "3      64  0.326944  jack\n",
       "4      32  0.075373  rose\n",
       "5      59  0.458364  tony"
      ]
     },
     "execution_count": 87,
     "metadata": {},
     "output_type": "execute_result"
    }
   ],
   "source": [
    "df3"
   ]
  },
  {
   "cell_type": "code",
   "execution_count": 89,
   "id": "3a5bb153-0e1c-4761-9af5-efd847ebf4fb",
   "metadata": {},
   "outputs": [
    {
     "data": {
      "text/html": [
       "<div>\n",
       "<style scoped>\n",
       "    .dataframe tbody tr th:only-of-type {\n",
       "        vertical-align: middle;\n",
       "    }\n",
       "\n",
       "    .dataframe tbody tr th {\n",
       "        vertical-align: top;\n",
       "    }\n",
       "\n",
       "    .dataframe thead th {\n",
       "        text-align: right;\n",
       "    }\n",
       "</style>\n",
       "<table border=\"1\" class=\"dataframe\">\n",
       "  <thead>\n",
       "    <tr style=\"text-align: right;\">\n",
       "      <th></th>\n",
       "      <th>python</th>\n",
       "      <th>java</th>\n",
       "      <th>name</th>\n",
       "    </tr>\n",
       "  </thead>\n",
       "  <tbody>\n",
       "    <tr>\n",
       "      <th>1</th>\n",
       "      <td>87</td>\n",
       "      <td>0.867389</td>\n",
       "      <td>mery</td>\n",
       "    </tr>\n",
       "    <tr>\n",
       "      <th>5</th>\n",
       "      <td>59</td>\n",
       "      <td>0.458364</td>\n",
       "      <td>tony</td>\n",
       "    </tr>\n",
       "  </tbody>\n",
       "</table>\n",
       "</div>"
      ],
      "text/plain": [
       "   python      java  name\n",
       "1      87  0.867389  mery\n",
       "5      59  0.458364  tony"
      ]
     },
     "execution_count": 89,
     "metadata": {},
     "output_type": "execute_result"
    }
   ],
   "source": [
    "#查找java成绩大于0.4的所有信息\n",
    "df3.loc[df3.java>0.4]"
   ]
  },
  {
   "cell_type": "code",
   "execution_count": 92,
   "id": "ccadcd2e-e184-4a4f-a2bf-5338dfb1d4aa",
   "metadata": {},
   "outputs": [
    {
     "data": {
      "text/html": [
       "<div>\n",
       "<style scoped>\n",
       "    .dataframe tbody tr th:only-of-type {\n",
       "        vertical-align: middle;\n",
       "    }\n",
       "\n",
       "    .dataframe tbody tr th {\n",
       "        vertical-align: top;\n",
       "    }\n",
       "\n",
       "    .dataframe thead th {\n",
       "        text-align: right;\n",
       "    }\n",
       "</style>\n",
       "<table border=\"1\" class=\"dataframe\">\n",
       "  <thead>\n",
       "    <tr style=\"text-align: right;\">\n",
       "      <th></th>\n",
       "      <th>python</th>\n",
       "      <th>java</th>\n",
       "      <th>name</th>\n",
       "    </tr>\n",
       "  </thead>\n",
       "  <tbody>\n",
       "    <tr>\n",
       "      <th>0</th>\n",
       "      <td>90</td>\n",
       "      <td>0.075235</td>\n",
       "      <td>lucy</td>\n",
       "    </tr>\n",
       "    <tr>\n",
       "      <th>1</th>\n",
       "      <td>87</td>\n",
       "      <td>0.867389</td>\n",
       "      <td>mery</td>\n",
       "    </tr>\n",
       "    <tr>\n",
       "      <th>3</th>\n",
       "      <td>64</td>\n",
       "      <td>0.326944</td>\n",
       "      <td>jack</td>\n",
       "    </tr>\n",
       "    <tr>\n",
       "      <th>5</th>\n",
       "      <td>59</td>\n",
       "      <td>0.458364</td>\n",
       "      <td>tony</td>\n",
       "    </tr>\n",
       "  </tbody>\n",
       "</table>\n",
       "</div>"
      ],
      "text/plain": [
       "   python      java  name\n",
       "0      90  0.075235  lucy\n",
       "1      87  0.867389  mery\n",
       "3      64  0.326944  jack\n",
       "5      59  0.458364  tony"
      ]
     },
     "execution_count": 92,
     "metadata": {},
     "output_type": "execute_result"
    }
   ],
   "source": [
    "#查找python大于平均值的所有信息\n",
    "df3.loc[df3.python>df3.python.mean()]"
   ]
  },
  {
   "cell_type": "code",
   "execution_count": 127,
   "id": "205b523e-af54-4783-b13a-f24553acd083",
   "metadata": {},
   "outputs": [
    {
     "data": {
      "text/html": [
       "<div>\n",
       "<style scoped>\n",
       "    .dataframe tbody tr th:only-of-type {\n",
       "        vertical-align: middle;\n",
       "    }\n",
       "\n",
       "    .dataframe tbody tr th {\n",
       "        vertical-align: top;\n",
       "    }\n",
       "\n",
       "    .dataframe thead th {\n",
       "        text-align: right;\n",
       "    }\n",
       "</style>\n",
       "<table border=\"1\" class=\"dataframe\">\n",
       "  <thead>\n",
       "    <tr style=\"text-align: right;\">\n",
       "      <th></th>\n",
       "      <th>python</th>\n",
       "      <th>java</th>\n",
       "      <th>name</th>\n",
       "    </tr>\n",
       "  </thead>\n",
       "  <tbody>\n",
       "    <tr>\n",
       "      <th>0</th>\n",
       "      <td>90</td>\n",
       "      <td>0.075235</td>\n",
       "      <td>lucy</td>\n",
       "    </tr>\n",
       "    <tr>\n",
       "      <th>1</th>\n",
       "      <td>87</td>\n",
       "      <td>0.867389</td>\n",
       "      <td>mery</td>\n",
       "    </tr>\n",
       "    <tr>\n",
       "      <th>2</th>\n",
       "      <td>15</td>\n",
       "      <td>0.262574</td>\n",
       "      <td>tom</td>\n",
       "    </tr>\n",
       "    <tr>\n",
       "      <th>3</th>\n",
       "      <td>64</td>\n",
       "      <td>1.826944</td>\n",
       "      <td>jack</td>\n",
       "    </tr>\n",
       "    <tr>\n",
       "      <th>4</th>\n",
       "      <td>32</td>\n",
       "      <td>0.075373</td>\n",
       "      <td>rose</td>\n",
       "    </tr>\n",
       "    <tr>\n",
       "      <th>5</th>\n",
       "      <td>59</td>\n",
       "      <td>0.458364</td>\n",
       "      <td>tony</td>\n",
       "    </tr>\n",
       "  </tbody>\n",
       "</table>\n",
       "</div>"
      ],
      "text/plain": [
       "   python      java  name\n",
       "0      90  0.075235  lucy\n",
       "1      87  0.867389  mery\n",
       "2      15  0.262574   tom\n",
       "3      64  1.826944  jack\n",
       "4      32  0.075373  rose\n",
       "5      59  0.458364  tony"
      ]
     },
     "execution_count": 127,
     "metadata": {},
     "output_type": "execute_result"
    }
   ],
   "source": [
    "#查找jack的java值，加上0.5\n",
    "index3= df3[df3.name=='jack'].index\n",
    "df3.loc[index3,'java'] +=0.5\n",
    "df3"
   ]
  },
  {
   "cell_type": "code",
   "execution_count": 134,
   "id": "be5d9d4d-464e-43fb-8b25-43be0d1789c8",
   "metadata": {},
   "outputs": [
    {
     "data": {
      "text/html": [
       "<div>\n",
       "<style scoped>\n",
       "    .dataframe tbody tr th:only-of-type {\n",
       "        vertical-align: middle;\n",
       "    }\n",
       "\n",
       "    .dataframe tbody tr th {\n",
       "        vertical-align: top;\n",
       "    }\n",
       "\n",
       "    .dataframe thead th {\n",
       "        text-align: right;\n",
       "    }\n",
       "</style>\n",
       "<table border=\"1\" class=\"dataframe\">\n",
       "  <thead>\n",
       "    <tr style=\"text-align: right;\">\n",
       "      <th></th>\n",
       "      <th>name</th>\n",
       "      <th>python</th>\n",
       "    </tr>\n",
       "  </thead>\n",
       "  <tbody>\n",
       "    <tr>\n",
       "      <th>0</th>\n",
       "      <td>lucy</td>\n",
       "      <td>90</td>\n",
       "    </tr>\n",
       "    <tr>\n",
       "      <th>1</th>\n",
       "      <td>mery</td>\n",
       "      <td>87</td>\n",
       "    </tr>\n",
       "    <tr>\n",
       "      <th>2</th>\n",
       "      <td>tom</td>\n",
       "      <td>15</td>\n",
       "    </tr>\n",
       "    <tr>\n",
       "      <th>3</th>\n",
       "      <td>jack</td>\n",
       "      <td>64</td>\n",
       "    </tr>\n",
       "    <tr>\n",
       "      <th>4</th>\n",
       "      <td>rose</td>\n",
       "      <td>32</td>\n",
       "    </tr>\n",
       "    <tr>\n",
       "      <th>5</th>\n",
       "      <td>tony</td>\n",
       "      <td>59</td>\n",
       "    </tr>\n",
       "  </tbody>\n",
       "</table>\n",
       "</div>"
      ],
      "text/plain": [
       "   name  python\n",
       "0  lucy      90\n",
       "1  mery      87\n",
       "2   tom      15\n",
       "3  jack      64\n",
       "4  rose      32\n",
       "5  tony      59"
      ]
     },
     "execution_count": 134,
     "metadata": {},
     "output_type": "execute_result"
    }
   ],
   "source": [
    "#获取只包含name和python列的子DataFrame\n",
    "df3.loc[:,['name','python']]"
   ]
  },
  {
   "cell_type": "code",
   "execution_count": 135,
   "id": "615c9a4d-d900-4b79-b5b2-6697bc830045",
   "metadata": {},
   "outputs": [
    {
     "data": {
      "text/html": [
       "<div>\n",
       "<style scoped>\n",
       "    .dataframe tbody tr th:only-of-type {\n",
       "        vertical-align: middle;\n",
       "    }\n",
       "\n",
       "    .dataframe tbody tr th {\n",
       "        vertical-align: top;\n",
       "    }\n",
       "\n",
       "    .dataframe thead th {\n",
       "        text-align: right;\n",
       "    }\n",
       "</style>\n",
       "<table border=\"1\" class=\"dataframe\">\n",
       "  <thead>\n",
       "    <tr style=\"text-align: right;\">\n",
       "      <th></th>\n",
       "      <th>name</th>\n",
       "      <th>python</th>\n",
       "    </tr>\n",
       "  </thead>\n",
       "  <tbody>\n",
       "    <tr>\n",
       "      <th>0</th>\n",
       "      <td>lucy</td>\n",
       "      <td>90</td>\n",
       "    </tr>\n",
       "    <tr>\n",
       "      <th>1</th>\n",
       "      <td>mery</td>\n",
       "      <td>87</td>\n",
       "    </tr>\n",
       "    <tr>\n",
       "      <th>2</th>\n",
       "      <td>tom</td>\n",
       "      <td>15</td>\n",
       "    </tr>\n",
       "    <tr>\n",
       "      <th>3</th>\n",
       "      <td>jack</td>\n",
       "      <td>64</td>\n",
       "    </tr>\n",
       "    <tr>\n",
       "      <th>4</th>\n",
       "      <td>rose</td>\n",
       "      <td>32</td>\n",
       "    </tr>\n",
       "    <tr>\n",
       "      <th>5</th>\n",
       "      <td>tony</td>\n",
       "      <td>59</td>\n",
       "    </tr>\n",
       "  </tbody>\n",
       "</table>\n",
       "</div>"
      ],
      "text/plain": [
       "   name  python\n",
       "0  lucy      90\n",
       "1  mery      87\n",
       "2   tom      15\n",
       "3  jack      64\n",
       "4  rose      32\n",
       "5  tony      59"
      ]
     },
     "execution_count": 135,
     "metadata": {},
     "output_type": "execute_result"
    }
   ],
   "source": [
    "df3[['name','python']]"
   ]
  },
  {
   "cell_type": "markdown",
   "id": "145c20b7-9f1e-4b81-aa9a-d3e4b51d65c7",
   "metadata": {},
   "source": [
    "### DataFrame的运算    \n",
    "1. 一个数运算、numpy运算\n",
    "2. 与Series运算\n",
    "3. DataFrame之间的运算\n"
   ]
  },
  {
   "cell_type": "code",
   "execution_count": 136,
   "id": "0ecdcae5-4328-49ac-b651-0d6d3e5eacbd",
   "metadata": {},
   "outputs": [
    {
     "data": {
      "text/html": [
       "<div>\n",
       "<style scoped>\n",
       "    .dataframe tbody tr th:only-of-type {\n",
       "        vertical-align: middle;\n",
       "    }\n",
       "\n",
       "    .dataframe tbody tr th {\n",
       "        vertical-align: top;\n",
       "    }\n",
       "\n",
       "    .dataframe thead th {\n",
       "        text-align: right;\n",
       "    }\n",
       "</style>\n",
       "<table border=\"1\" class=\"dataframe\">\n",
       "  <thead>\n",
       "    <tr style=\"text-align: right;\">\n",
       "      <th></th>\n",
       "      <th>甲</th>\n",
       "      <th>乙</th>\n",
       "      <th>丙</th>\n",
       "    </tr>\n",
       "  </thead>\n",
       "  <tbody>\n",
       "    <tr>\n",
       "      <th>A</th>\n",
       "      <td>0</td>\n",
       "      <td>3</td>\n",
       "      <td>2</td>\n",
       "    </tr>\n",
       "    <tr>\n",
       "      <th>B</th>\n",
       "      <td>7</td>\n",
       "      <td>8</td>\n",
       "      <td>4</td>\n",
       "    </tr>\n",
       "    <tr>\n",
       "      <th>C</th>\n",
       "      <td>1</td>\n",
       "      <td>1</td>\n",
       "      <td>8</td>\n",
       "    </tr>\n",
       "  </tbody>\n",
       "</table>\n",
       "</div>"
      ],
      "text/plain": [
       "   甲  乙  丙\n",
       "A  0  3  2\n",
       "B  7  8  4\n",
       "C  1  1  8"
      ]
     },
     "execution_count": 136,
     "metadata": {},
     "output_type": "execute_result"
    }
   ],
   "source": [
    "df4=DataFrame(data=np.random.randint(0,10,size=(3,3)),index=list('ABC'),columns=list('甲乙丙'))\n",
    "df4"
   ]
  },
  {
   "cell_type": "code",
   "execution_count": 137,
   "id": "78099d64-3415-4b0e-92b2-fcee3ad74f1d",
   "metadata": {},
   "outputs": [
    {
     "data": {
      "text/html": [
       "<div>\n",
       "<style scoped>\n",
       "    .dataframe tbody tr th:only-of-type {\n",
       "        vertical-align: middle;\n",
       "    }\n",
       "\n",
       "    .dataframe tbody tr th {\n",
       "        vertical-align: top;\n",
       "    }\n",
       "\n",
       "    .dataframe thead th {\n",
       "        text-align: right;\n",
       "    }\n",
       "</style>\n",
       "<table border=\"1\" class=\"dataframe\">\n",
       "  <thead>\n",
       "    <tr style=\"text-align: right;\">\n",
       "      <th></th>\n",
       "      <th>甲</th>\n",
       "      <th>乙</th>\n",
       "      <th>丙</th>\n",
       "    </tr>\n",
       "  </thead>\n",
       "  <tbody>\n",
       "    <tr>\n",
       "      <th>A</th>\n",
       "      <td>1</td>\n",
       "      <td>4</td>\n",
       "      <td>3</td>\n",
       "    </tr>\n",
       "    <tr>\n",
       "      <th>B</th>\n",
       "      <td>8</td>\n",
       "      <td>9</td>\n",
       "      <td>5</td>\n",
       "    </tr>\n",
       "    <tr>\n",
       "      <th>C</th>\n",
       "      <td>2</td>\n",
       "      <td>2</td>\n",
       "      <td>9</td>\n",
       "    </tr>\n",
       "  </tbody>\n",
       "</table>\n",
       "</div>"
      ],
      "text/plain": [
       "   甲  乙  丙\n",
       "A  1  4  3\n",
       "B  8  9  5\n",
       "C  2  2  9"
      ]
     },
     "execution_count": 137,
     "metadata": {},
     "output_type": "execute_result"
    }
   ],
   "source": [
    "#DataFrame与一个数运算，属于广播\n",
    "df4+1"
   ]
  },
  {
   "cell_type": "code",
   "execution_count": 138,
   "id": "755f2ec0-6d53-4e9a-91d9-96adc106de6e",
   "metadata": {},
   "outputs": [
    {
     "data": {
      "text/html": [
       "<div>\n",
       "<style scoped>\n",
       "    .dataframe tbody tr th:only-of-type {\n",
       "        vertical-align: middle;\n",
       "    }\n",
       "\n",
       "    .dataframe tbody tr th {\n",
       "        vertical-align: top;\n",
       "    }\n",
       "\n",
       "    .dataframe thead th {\n",
       "        text-align: right;\n",
       "    }\n",
       "</style>\n",
       "<table border=\"1\" class=\"dataframe\">\n",
       "  <thead>\n",
       "    <tr style=\"text-align: right;\">\n",
       "      <th></th>\n",
       "      <th>甲</th>\n",
       "      <th>乙</th>\n",
       "      <th>丙</th>\n",
       "    </tr>\n",
       "  </thead>\n",
       "  <tbody>\n",
       "    <tr>\n",
       "      <th>A</th>\n",
       "      <td>2</td>\n",
       "      <td>5</td>\n",
       "      <td>4</td>\n",
       "    </tr>\n",
       "    <tr>\n",
       "      <th>B</th>\n",
       "      <td>9</td>\n",
       "      <td>10</td>\n",
       "      <td>6</td>\n",
       "    </tr>\n",
       "    <tr>\n",
       "      <th>C</th>\n",
       "      <td>3</td>\n",
       "      <td>3</td>\n",
       "      <td>10</td>\n",
       "    </tr>\n",
       "  </tbody>\n",
       "</table>\n",
       "</div>"
      ],
      "text/plain": [
       "   甲   乙   丙\n",
       "A  2   5   4\n",
       "B  9  10   6\n",
       "C  3   3  10"
      ]
     },
     "execution_count": 138,
     "metadata": {},
     "output_type": "execute_result"
    }
   ],
   "source": [
    "#DF与数组运算\n",
    "n4=np.array([2,2,2])\n",
    "df4+n4"
   ]
  },
  {
   "cell_type": "code",
   "execution_count": 140,
   "id": "6ce165c8-7fa9-405f-82c1-175372cc2231",
   "metadata": {},
   "outputs": [
    {
     "data": {
      "text/html": [
       "<div>\n",
       "<style scoped>\n",
       "    .dataframe tbody tr th:only-of-type {\n",
       "        vertical-align: middle;\n",
       "    }\n",
       "\n",
       "    .dataframe tbody tr th {\n",
       "        vertical-align: top;\n",
       "    }\n",
       "\n",
       "    .dataframe thead th {\n",
       "        text-align: right;\n",
       "    }\n",
       "</style>\n",
       "<table border=\"1\" class=\"dataframe\">\n",
       "  <thead>\n",
       "    <tr style=\"text-align: right;\">\n",
       "      <th></th>\n",
       "      <th>A</th>\n",
       "      <th>B</th>\n",
       "      <th>C</th>\n",
       "      <th>丙</th>\n",
       "      <th>乙</th>\n",
       "      <th>甲</th>\n",
       "    </tr>\n",
       "  </thead>\n",
       "  <tbody>\n",
       "    <tr>\n",
       "      <th>A</th>\n",
       "      <td>NaN</td>\n",
       "      <td>NaN</td>\n",
       "      <td>NaN</td>\n",
       "      <td>NaN</td>\n",
       "      <td>NaN</td>\n",
       "      <td>NaN</td>\n",
       "    </tr>\n",
       "    <tr>\n",
       "      <th>B</th>\n",
       "      <td>NaN</td>\n",
       "      <td>NaN</td>\n",
       "      <td>NaN</td>\n",
       "      <td>NaN</td>\n",
       "      <td>NaN</td>\n",
       "      <td>NaN</td>\n",
       "    </tr>\n",
       "    <tr>\n",
       "      <th>C</th>\n",
       "      <td>NaN</td>\n",
       "      <td>NaN</td>\n",
       "      <td>NaN</td>\n",
       "      <td>NaN</td>\n",
       "      <td>NaN</td>\n",
       "      <td>NaN</td>\n",
       "    </tr>\n",
       "  </tbody>\n",
       "</table>\n",
       "</div>"
      ],
      "text/plain": [
       "    A   B   C   丙   乙   甲\n",
       "A NaN NaN NaN NaN NaN NaN\n",
       "B NaN NaN NaN NaN NaN NaN\n",
       "C NaN NaN NaN NaN NaN NaN"
      ]
     },
     "execution_count": 140,
     "metadata": {},
     "output_type": "execute_result"
    }
   ],
   "source": [
    "#DF与Series运算\n",
    "s4=Series(data=[1,1,1],index=list('ABC'))\n",
    "s4+df4"
   ]
  },
  {
   "cell_type": "code",
   "execution_count": 141,
   "id": "005ffaf4-f772-4831-bd9e-880c0149322a",
   "metadata": {},
   "outputs": [
    {
     "data": {
      "text/html": [
       "<div>\n",
       "<style scoped>\n",
       "    .dataframe tbody tr th:only-of-type {\n",
       "        vertical-align: middle;\n",
       "    }\n",
       "\n",
       "    .dataframe tbody tr th {\n",
       "        vertical-align: top;\n",
       "    }\n",
       "\n",
       "    .dataframe thead th {\n",
       "        text-align: right;\n",
       "    }\n",
       "</style>\n",
       "<table border=\"1\" class=\"dataframe\">\n",
       "  <thead>\n",
       "    <tr style=\"text-align: right;\">\n",
       "      <th></th>\n",
       "      <th>甲</th>\n",
       "      <th>乙</th>\n",
       "      <th>丙</th>\n",
       "    </tr>\n",
       "  </thead>\n",
       "  <tbody>\n",
       "    <tr>\n",
       "      <th>A</th>\n",
       "      <td>1</td>\n",
       "      <td>4</td>\n",
       "      <td>3</td>\n",
       "    </tr>\n",
       "    <tr>\n",
       "      <th>B</th>\n",
       "      <td>8</td>\n",
       "      <td>9</td>\n",
       "      <td>5</td>\n",
       "    </tr>\n",
       "    <tr>\n",
       "      <th>C</th>\n",
       "      <td>2</td>\n",
       "      <td>2</td>\n",
       "      <td>9</td>\n",
       "    </tr>\n",
       "  </tbody>\n",
       "</table>\n",
       "</div>"
      ],
      "text/plain": [
       "   甲  乙  丙\n",
       "A  1  4  3\n",
       "B  8  9  5\n",
       "C  2  2  9"
      ]
     },
     "execution_count": 141,
     "metadata": {},
     "output_type": "execute_result"
    }
   ],
   "source": [
    "#DF与Series运算\n",
    "#1.Series默认与DF列索引对齐进行运算\n",
    "#2.如果索引不对齐，则补空值\n",
    "#3.不是广播\n",
    "s4=Series(data=[1,1,1],index=list('甲乙丙'))\n",
    "s4+df4"
   ]
  },
  {
   "cell_type": "code",
   "execution_count": 143,
   "id": "1430b565-1dd3-444d-a63e-9451994702c6",
   "metadata": {},
   "outputs": [
    {
     "data": {
      "text/html": [
       "<div>\n",
       "<style scoped>\n",
       "    .dataframe tbody tr th:only-of-type {\n",
       "        vertical-align: middle;\n",
       "    }\n",
       "\n",
       "    .dataframe tbody tr th {\n",
       "        vertical-align: top;\n",
       "    }\n",
       "\n",
       "    .dataframe thead th {\n",
       "        text-align: right;\n",
       "    }\n",
       "</style>\n",
       "<table border=\"1\" class=\"dataframe\">\n",
       "  <thead>\n",
       "    <tr style=\"text-align: right;\">\n",
       "      <th></th>\n",
       "      <th>丁</th>\n",
       "      <th>丙</th>\n",
       "      <th>乙</th>\n",
       "      <th>甲</th>\n",
       "    </tr>\n",
       "  </thead>\n",
       "  <tbody>\n",
       "    <tr>\n",
       "      <th>A</th>\n",
       "      <td>NaN</td>\n",
       "      <td>NaN</td>\n",
       "      <td>4.0</td>\n",
       "      <td>1.0</td>\n",
       "    </tr>\n",
       "    <tr>\n",
       "      <th>B</th>\n",
       "      <td>NaN</td>\n",
       "      <td>NaN</td>\n",
       "      <td>9.0</td>\n",
       "      <td>8.0</td>\n",
       "    </tr>\n",
       "    <tr>\n",
       "      <th>C</th>\n",
       "      <td>NaN</td>\n",
       "      <td>NaN</td>\n",
       "      <td>2.0</td>\n",
       "      <td>2.0</td>\n",
       "    </tr>\n",
       "  </tbody>\n",
       "</table>\n",
       "</div>"
      ],
      "text/plain": [
       "    丁   丙    乙    甲\n",
       "A NaN NaN  4.0  1.0\n",
       "B NaN NaN  9.0  8.0\n",
       "C NaN NaN  2.0  2.0"
      ]
     },
     "execution_count": 143,
     "metadata": {},
     "output_type": "execute_result"
    }
   ],
   "source": [
    "#DF与Series运算\n",
    "#1.Series默认与DF列索引对齐进行运算\n",
    "#2.如果索引不对齐，则补空值\n",
    "#3.不是广播\n",
    "s4=Series(data=[1,1,1],index=list('甲乙丁'))\n",
    "s4+df4"
   ]
  },
  {
   "cell_type": "code",
   "execution_count": 147,
   "id": "b0b467fa-1191-4756-98f0-5ac180186518",
   "metadata": {},
   "outputs": [
    {
     "data": {
      "text/html": [
       "<div>\n",
       "<style scoped>\n",
       "    .dataframe tbody tr th:only-of-type {\n",
       "        vertical-align: middle;\n",
       "    }\n",
       "\n",
       "    .dataframe tbody tr th {\n",
       "        vertical-align: top;\n",
       "    }\n",
       "\n",
       "    .dataframe thead th {\n",
       "        text-align: right;\n",
       "    }\n",
       "</style>\n",
       "<table border=\"1\" class=\"dataframe\">\n",
       "  <thead>\n",
       "    <tr style=\"text-align: right;\">\n",
       "      <th></th>\n",
       "      <th>甲</th>\n",
       "      <th>乙</th>\n",
       "      <th>丙</th>\n",
       "    </tr>\n",
       "  </thead>\n",
       "  <tbody>\n",
       "    <tr>\n",
       "      <th>A</th>\n",
       "      <td>1</td>\n",
       "      <td>4</td>\n",
       "      <td>3</td>\n",
       "    </tr>\n",
       "    <tr>\n",
       "      <th>B</th>\n",
       "      <td>8</td>\n",
       "      <td>9</td>\n",
       "      <td>5</td>\n",
       "    </tr>\n",
       "    <tr>\n",
       "      <th>C</th>\n",
       "      <td>2</td>\n",
       "      <td>2</td>\n",
       "      <td>9</td>\n",
       "    </tr>\n",
       "  </tbody>\n",
       "</table>\n",
       "</div>"
      ],
      "text/plain": [
       "   甲  乙  丙\n",
       "A  1  4  3\n",
       "B  8  9  5\n",
       "C  2  2  9"
      ]
     },
     "execution_count": 147,
     "metadata": {},
     "output_type": "execute_result"
    }
   ],
   "source": [
    "#axis=0让Series与DF行索引对齐\n",
    "s4=Series(data=[1,1,1],index=list('ABC'))\n",
    "df4.add(s4,axis=0)"
   ]
  },
  {
   "cell_type": "code",
   "execution_count": 148,
   "id": "f65a9041-d14c-4d1c-a12b-0877f3dbe023",
   "metadata": {},
   "outputs": [
    {
     "data": {
      "text/html": [
       "<div>\n",
       "<style scoped>\n",
       "    .dataframe tbody tr th:only-of-type {\n",
       "        vertical-align: middle;\n",
       "    }\n",
       "\n",
       "    .dataframe tbody tr th {\n",
       "        vertical-align: top;\n",
       "    }\n",
       "\n",
       "    .dataframe thead th {\n",
       "        text-align: right;\n",
       "    }\n",
       "</style>\n",
       "<table border=\"1\" class=\"dataframe\">\n",
       "  <thead>\n",
       "    <tr style=\"text-align: right;\">\n",
       "      <th></th>\n",
       "      <th>甲</th>\n",
       "      <th>乙</th>\n",
       "      <th>丙</th>\n",
       "    </tr>\n",
       "  </thead>\n",
       "  <tbody>\n",
       "    <tr>\n",
       "      <th>A</th>\n",
       "      <td>0</td>\n",
       "      <td>3</td>\n",
       "      <td>2</td>\n",
       "    </tr>\n",
       "    <tr>\n",
       "      <th>B</th>\n",
       "      <td>7</td>\n",
       "      <td>8</td>\n",
       "      <td>4</td>\n",
       "    </tr>\n",
       "    <tr>\n",
       "      <th>C</th>\n",
       "      <td>1</td>\n",
       "      <td>1</td>\n",
       "      <td>8</td>\n",
       "    </tr>\n",
       "  </tbody>\n",
       "</table>\n",
       "</div>"
      ],
      "text/plain": [
       "   甲  乙  丙\n",
       "A  0  3  2\n",
       "B  7  8  4\n",
       "C  1  1  8"
      ]
     },
     "metadata": {},
     "output_type": "display_data"
    },
    {
     "data": {
      "text/html": [
       "<div>\n",
       "<style scoped>\n",
       "    .dataframe tbody tr th:only-of-type {\n",
       "        vertical-align: middle;\n",
       "    }\n",
       "\n",
       "    .dataframe tbody tr th {\n",
       "        vertical-align: top;\n",
       "    }\n",
       "\n",
       "    .dataframe thead th {\n",
       "        text-align: right;\n",
       "    }\n",
       "</style>\n",
       "<table border=\"1\" class=\"dataframe\">\n",
       "  <thead>\n",
       "    <tr style=\"text-align: right;\">\n",
       "      <th></th>\n",
       "      <th>甲</th>\n",
       "      <th>乙</th>\n",
       "      <th>丙</th>\n",
       "      <th>丁</th>\n",
       "    </tr>\n",
       "  </thead>\n",
       "  <tbody>\n",
       "    <tr>\n",
       "      <th>A</th>\n",
       "      <td>6</td>\n",
       "      <td>9</td>\n",
       "      <td>0</td>\n",
       "      <td>0</td>\n",
       "    </tr>\n",
       "    <tr>\n",
       "      <th>B</th>\n",
       "      <td>5</td>\n",
       "      <td>3</td>\n",
       "      <td>1</td>\n",
       "      <td>5</td>\n",
       "    </tr>\n",
       "    <tr>\n",
       "      <th>C</th>\n",
       "      <td>6</td>\n",
       "      <td>5</td>\n",
       "      <td>8</td>\n",
       "      <td>5</td>\n",
       "    </tr>\n",
       "    <tr>\n",
       "      <th>D</th>\n",
       "      <td>7</td>\n",
       "      <td>9</td>\n",
       "      <td>8</td>\n",
       "      <td>6</td>\n",
       "    </tr>\n",
       "  </tbody>\n",
       "</table>\n",
       "</div>"
      ],
      "text/plain": [
       "   甲  乙  丙  丁\n",
       "A  6  9  0  0\n",
       "B  5  3  1  5\n",
       "C  6  5  8  5\n",
       "D  7  9  8  6"
      ]
     },
     "metadata": {},
     "output_type": "display_data"
    }
   ],
   "source": [
    "#DF之间运算\n",
    "#1.行列索引同时对齐\n",
    "#2.对不齐补空\n",
    "df5=DataFrame(data=np.random.randint(0,10,size=(4,4)),index=list('ABCD'),columns=list('甲乙丙丁'))\n",
    "display(df4,df5)"
   ]
  },
  {
   "cell_type": "code",
   "execution_count": 149,
   "id": "1f074a90-b806-4ed7-a66a-45ea7ec2d34f",
   "metadata": {},
   "outputs": [
    {
     "data": {
      "text/html": [
       "<div>\n",
       "<style scoped>\n",
       "    .dataframe tbody tr th:only-of-type {\n",
       "        vertical-align: middle;\n",
       "    }\n",
       "\n",
       "    .dataframe tbody tr th {\n",
       "        vertical-align: top;\n",
       "    }\n",
       "\n",
       "    .dataframe thead th {\n",
       "        text-align: right;\n",
       "    }\n",
       "</style>\n",
       "<table border=\"1\" class=\"dataframe\">\n",
       "  <thead>\n",
       "    <tr style=\"text-align: right;\">\n",
       "      <th></th>\n",
       "      <th>丁</th>\n",
       "      <th>丙</th>\n",
       "      <th>乙</th>\n",
       "      <th>甲</th>\n",
       "    </tr>\n",
       "  </thead>\n",
       "  <tbody>\n",
       "    <tr>\n",
       "      <th>A</th>\n",
       "      <td>NaN</td>\n",
       "      <td>2.0</td>\n",
       "      <td>12.0</td>\n",
       "      <td>6.0</td>\n",
       "    </tr>\n",
       "    <tr>\n",
       "      <th>B</th>\n",
       "      <td>NaN</td>\n",
       "      <td>5.0</td>\n",
       "      <td>11.0</td>\n",
       "      <td>12.0</td>\n",
       "    </tr>\n",
       "    <tr>\n",
       "      <th>C</th>\n",
       "      <td>NaN</td>\n",
       "      <td>16.0</td>\n",
       "      <td>6.0</td>\n",
       "      <td>7.0</td>\n",
       "    </tr>\n",
       "    <tr>\n",
       "      <th>D</th>\n",
       "      <td>NaN</td>\n",
       "      <td>NaN</td>\n",
       "      <td>NaN</td>\n",
       "      <td>NaN</td>\n",
       "    </tr>\n",
       "  </tbody>\n",
       "</table>\n",
       "</div>"
      ],
      "text/plain": [
       "    丁     丙     乙     甲\n",
       "A NaN   2.0  12.0   6.0\n",
       "B NaN   5.0  11.0  12.0\n",
       "C NaN  16.0   6.0   7.0\n",
       "D NaN   NaN   NaN   NaN"
      ]
     },
     "execution_count": 149,
     "metadata": {},
     "output_type": "execute_result"
    }
   ],
   "source": [
    "df4+df5"
   ]
  },
  {
   "cell_type": "code",
   "execution_count": 151,
   "id": "9f744080-83cc-45fa-a0f6-ca100f272ea0",
   "metadata": {},
   "outputs": [
    {
     "data": {
      "text/html": [
       "<div>\n",
       "<style scoped>\n",
       "    .dataframe tbody tr th:only-of-type {\n",
       "        vertical-align: middle;\n",
       "    }\n",
       "\n",
       "    .dataframe tbody tr th {\n",
       "        vertical-align: top;\n",
       "    }\n",
       "\n",
       "    .dataframe thead th {\n",
       "        text-align: right;\n",
       "    }\n",
       "</style>\n",
       "<table border=\"1\" class=\"dataframe\">\n",
       "  <thead>\n",
       "    <tr style=\"text-align: right;\">\n",
       "      <th></th>\n",
       "      <th>丁</th>\n",
       "      <th>丙</th>\n",
       "      <th>乙</th>\n",
       "      <th>甲</th>\n",
       "    </tr>\n",
       "  </thead>\n",
       "  <tbody>\n",
       "    <tr>\n",
       "      <th>A</th>\n",
       "      <td>0.0</td>\n",
       "      <td>2.0</td>\n",
       "      <td>12.0</td>\n",
       "      <td>6.0</td>\n",
       "    </tr>\n",
       "    <tr>\n",
       "      <th>B</th>\n",
       "      <td>5.0</td>\n",
       "      <td>5.0</td>\n",
       "      <td>11.0</td>\n",
       "      <td>12.0</td>\n",
       "    </tr>\n",
       "    <tr>\n",
       "      <th>C</th>\n",
       "      <td>5.0</td>\n",
       "      <td>16.0</td>\n",
       "      <td>6.0</td>\n",
       "      <td>7.0</td>\n",
       "    </tr>\n",
       "    <tr>\n",
       "      <th>D</th>\n",
       "      <td>6.0</td>\n",
       "      <td>8.0</td>\n",
       "      <td>9.0</td>\n",
       "      <td>7.0</td>\n",
       "    </tr>\n",
       "  </tbody>\n",
       "</table>\n",
       "</div>"
      ],
      "text/plain": [
       "     丁     丙     乙     甲\n",
       "A  0.0   2.0  12.0   6.0\n",
       "B  5.0   5.0  11.0  12.0\n",
       "C  5.0  16.0   6.0   7.0\n",
       "D  6.0   8.0   9.0   7.0"
      ]
     },
     "execution_count": 151,
     "metadata": {},
     "output_type": "execute_result"
    }
   ],
   "source": [
    "df4.add(df5,fill_value=0)"
   ]
  }
 ],
 "metadata": {
  "kernelspec": {
   "display_name": "Python 3 (ipykernel)",
   "language": "python",
   "name": "python3"
  },
  "language_info": {
   "codemirror_mode": {
    "name": "ipython",
    "version": 3
   },
   "file_extension": ".py",
   "mimetype": "text/x-python",
   "name": "python",
   "nbconvert_exporter": "python",
   "pygments_lexer": "ipython3",
   "version": "3.11.5"
  }
 },
 "nbformat": 4,
 "nbformat_minor": 5
}
