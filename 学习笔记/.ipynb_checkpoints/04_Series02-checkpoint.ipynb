{
 "cells": [
  {
   "cell_type": "code",
   "execution_count": 2,
   "id": "3eba5076-fe20-4d57-b654-64f382b4c57e",
   "metadata": {},
   "outputs": [
    {
     "data": {
      "text/plain": [
       "语文    150\n",
       "数学    150\n",
       "英语    150\n",
       "理综    300\n",
       "dtype: int64"
      ]
     },
     "execution_count": 2,
     "metadata": {},
     "output_type": "execute_result"
    }
   ],
   "source": [
    "import pandas as pd\n",
    "import numpy as np\n",
    "import matplotlib.pyplot as plt\n",
    "from pandas import Series,DataFrame\n",
    "import seaborn as sns\n",
    "%matplotlib inline\n",
    "index=['语文','数学','英语','理综']\n",
    "data1=[150,150,150,300]\n",
    "s=Series(data=data1,index=index)\n",
    "s"
   ]
  },
  {
   "cell_type": "markdown",
   "id": "41bae57e-6abe-4433-9aa3-f74f351d27a2",
   "metadata": {},
   "source": [
    "**Series基本概念**  \n",
    "1、它是一个定长的有序字典  \n",
    "2、它有shape、size、index、values等属性  \n",
    "3、功能方法：head()、tail()分别查看前n个和后n个值  \n",
    "4、当索引对应的值，可能出现缺失数据显示NaN  \n",
    "5、pd.isnull()、pd.notnull()或者自带isnull()、notnull()函数都可检测缺失数据  \n",
    "6、使用bool型的列表访问数组对象  \n",
    "7、Series对象本身及其实例都有一个name属性  "
   ]
  },
  {
   "cell_type": "code",
   "execution_count": 5,
   "id": "e7c7fef2-c673-4e0c-954f-94a89c9e282d",
   "metadata": {},
   "outputs": [
    {
     "data": {
      "text/plain": [
       "(4,)"
      ]
     },
     "metadata": {},
     "output_type": "display_data"
    },
    {
     "data": {
      "text/plain": [
       "4"
      ]
     },
     "metadata": {},
     "output_type": "display_data"
    }
   ],
   "source": [
    "display(s.shape,s.size)"
   ]
  },
  {
   "cell_type": "code",
   "execution_count": 6,
   "id": "a24f5417-38a3-4694-a6eb-a458bc6f5405",
   "metadata": {},
   "outputs": [
    {
     "data": {
      "text/plain": [
       "array([150, 150, 150, 300], dtype=int64)"
      ]
     },
     "execution_count": 6,
     "metadata": {},
     "output_type": "execute_result"
    }
   ],
   "source": [
    "s.values"
   ]
  },
  {
   "cell_type": "code",
   "execution_count": 7,
   "id": "df05f8a9-ee07-40a7-a3ba-fd7fc87b1017",
   "metadata": {},
   "outputs": [
    {
     "data": {
      "text/plain": [
       "Index(['语文', '数学', '英语', '理综'], dtype='object')"
      ]
     },
     "execution_count": 7,
     "metadata": {},
     "output_type": "execute_result"
    }
   ],
   "source": [
    "s.index"
   ]
  },
  {
   "cell_type": "code",
   "execution_count": 8,
   "id": "83339ca9-6199-44fd-bfaa-7d579854b725",
   "metadata": {},
   "outputs": [
    {
     "data": {
      "text/plain": [
       "语文    150\n",
       "数学    150\n",
       "dtype: int64"
      ]
     },
     "execution_count": 8,
     "metadata": {},
     "output_type": "execute_result"
    }
   ],
   "source": [
    "s.head(2)"
   ]
  },
  {
   "cell_type": "code",
   "execution_count": 11,
   "id": "886d3637-ffab-4201-8a5b-fb06b0ffd09c",
   "metadata": {},
   "outputs": [],
   "source": [
    "dic={\n",
    "    '语文':150,\n",
    "    '数学':150,\n",
    "    '英语':150,\n",
    "    '理综':300\n",
    "}"
   ]
  },
  {
   "cell_type": "code",
   "execution_count": 14,
   "id": "e4e2774d-aa3f-4d90-903b-1023721228e2",
   "metadata": {},
   "outputs": [
    {
     "data": {
      "text/plain": [
       "语文    150\n",
       "物理    150\n",
       "数学    150\n",
       "化学    300\n",
       "dtype: int64"
      ]
     },
     "execution_count": 14,
     "metadata": {},
     "output_type": "execute_result"
    }
   ],
   "source": [
    "s=Series(data=data1,index=['语文','物理','数学','化学'])  #如果数据来源类型为list时，index与data两者没有强对应的关系；所以超出了范围也不会提示出错\n",
    "s"
   ]
  },
  {
   "cell_type": "code",
   "execution_count": 15,
   "id": "8a2c2644-6c94-4a94-a2e6-9e622f9d211c",
   "metadata": {},
   "outputs": [
    {
     "data": {
      "text/plain": [
       "语文    150.0\n",
       "物理      NaN\n",
       "数学    150.0\n",
       "化学      NaN\n",
       "dtype: float64"
      ]
     },
     "execution_count": 15,
     "metadata": {},
     "output_type": "execute_result"
    }
   ],
   "source": [
    "s=Series(data=dic,index=['语文','物理','数学','化学']) #如果data的数据类型为dict字典时，index与data就是强对应的关系，一旦索引超出范围就会提示出错\n",
    "s"
   ]
  },
  {
   "cell_type": "code",
   "execution_count": 16,
   "id": "8e3c8e21-2a64-4c1b-ade2-f9deeae304f7",
   "metadata": {},
   "outputs": [
    {
     "data": {
      "text/plain": [
       "语文    False\n",
       "物理     True\n",
       "数学    False\n",
       "化学     True\n",
       "dtype: bool"
      ]
     },
     "execution_count": 16,
     "metadata": {},
     "output_type": "execute_result"
    }
   ],
   "source": [
    "s.isnull()"
   ]
  },
  {
   "cell_type": "code",
   "execution_count": 18,
   "id": "fc7a82f1-bf78-4dc9-884e-8c06423d5822",
   "metadata": {},
   "outputs": [
    {
     "data": {
      "text/plain": [
       "物理   NaN\n",
       "化学   NaN\n",
       "dtype: float64"
      ]
     },
     "execution_count": 18,
     "metadata": {},
     "output_type": "execute_result"
    }
   ],
   "source": [
    "s[s.isnull()]"
   ]
  },
  {
   "cell_type": "code",
   "execution_count": 17,
   "id": "c619e4f8-75c1-4973-a489-0991c5180f41",
   "metadata": {},
   "outputs": [
    {
     "data": {
      "text/plain": [
       "语文     True\n",
       "物理    False\n",
       "数学     True\n",
       "化学    False\n",
       "dtype: bool"
      ]
     },
     "execution_count": 17,
     "metadata": {},
     "output_type": "execute_result"
    }
   ],
   "source": [
    "s.notnull()"
   ]
  },
  {
   "cell_type": "code",
   "execution_count": 19,
   "id": "e603ccde-8007-478f-a00f-bbf147691170",
   "metadata": {},
   "outputs": [
    {
     "data": {
      "text/plain": [
       "语文    150.0\n",
       "数学    150.0\n",
       "dtype: float64"
      ]
     },
     "execution_count": 19,
     "metadata": {},
     "output_type": "execute_result"
    }
   ],
   "source": [
    "s[s.notnull()]"
   ]
  },
  {
   "cell_type": "code",
   "execution_count": 20,
   "id": "566598dd-2ce2-4eb6-8175-ac4a9a87f790",
   "metadata": {},
   "outputs": [
    {
     "data": {
      "text/plain": [
       "True"
      ]
     },
     "execution_count": 20,
     "metadata": {},
     "output_type": "execute_result"
    }
   ],
   "source": [
    "#检查是否存在空值\n",
    "s.isnull().any()"
   ]
  },
  {
   "cell_type": "code",
   "execution_count": 22,
   "id": "454a8847-06b3-4aab-ad83-c8b62dedc455",
   "metadata": {},
   "outputs": [
    {
     "data": {
      "text/plain": [
       "语文    150.0\n",
       "物理      NaN\n",
       "数学    150.0\n",
       "化学      NaN\n",
       "Name: Score, dtype: float64"
      ]
     },
     "execution_count": 22,
     "metadata": {},
     "output_type": "execute_result"
    }
   ],
   "source": [
    "#为此series设置名称（在DataFrame中充当列名称）\n",
    "s.name='Score'\n",
    "s"
   ]
  },
  {
   "cell_type": "code",
   "execution_count": 23,
   "id": "1441d6c8-8c33-4e8e-abf2-00d97c1533e3",
   "metadata": {},
   "outputs": [
    {
     "data": {
      "text/plain": [
       "语文    150.0\n",
       "数学    150.0\n",
       "物理      NaN\n",
       "化学      NaN\n",
       "Name: Score, dtype: float64"
      ]
     },
     "execution_count": 23,
     "metadata": {},
     "output_type": "execute_result"
    }
   ],
   "source": [
    "#根据值来排序\n",
    "s.sort_values(ascending=True)"
   ]
  },
  {
   "cell_type": "code",
   "execution_count": 24,
   "id": "731ca033-40b8-4e38-9c1e-e4b71156e259",
   "metadata": {},
   "outputs": [
    {
     "data": {
      "text/plain": [
       "化学      NaN\n",
       "数学    150.0\n",
       "物理      NaN\n",
       "语文    150.0\n",
       "Name: Score, dtype: float64"
      ]
     },
     "execution_count": 24,
     "metadata": {},
     "output_type": "execute_result"
    }
   ],
   "source": [
    "#根据索引来排序\n",
    "s.sort_index()"
   ]
  },
  {
   "cell_type": "code",
   "execution_count": 25,
   "id": "331539dc-98b0-4742-ba88-d3c306132131",
   "metadata": {},
   "outputs": [
    {
     "data": {
      "text/plain": [
       "0     8\n",
       "1     1\n",
       "2     0\n",
       "3     0\n",
       "4     5\n",
       "5     6\n",
       "6     1\n",
       "7     2\n",
       "8     5\n",
       "9     7\n",
       "10    7\n",
       "11    5\n",
       "12    3\n",
       "13    9\n",
       "14    2\n",
       "15    7\n",
       "16    6\n",
       "17    7\n",
       "18    9\n",
       "19    9\n",
       "20    8\n",
       "21    5\n",
       "22    1\n",
       "23    0\n",
       "24    4\n",
       "25    6\n",
       "26    0\n",
       "27    3\n",
       "28    6\n",
       "29    5\n",
       "30    9\n",
       "31    2\n",
       "32    4\n",
       "33    6\n",
       "34    2\n",
       "35    0\n",
       "36    5\n",
       "37    5\n",
       "38    1\n",
       "39    5\n",
       "40    0\n",
       "41    1\n",
       "42    1\n",
       "43    7\n",
       "44    9\n",
       "45    7\n",
       "46    2\n",
       "47    1\n",
       "48    2\n",
       "49    4\n",
       "dtype: int32"
      ]
     },
     "execution_count": 25,
     "metadata": {},
     "output_type": "execute_result"
    }
   ],
   "source": [
    "#统计值出现的次数\n",
    "s3=Series(data=np.random.randint(0,10,size=50))\n",
    "s3"
   ]
  },
  {
   "cell_type": "code",
   "execution_count": 26,
   "id": "eec16717-64fe-4f07-bbe5-1f4cdd0c45cb",
   "metadata": {},
   "outputs": [
    {
     "data": {
      "text/plain": [
       "5    8\n",
       "1    7\n",
       "0    6\n",
       "2    6\n",
       "7    6\n",
       "6    5\n",
       "9    5\n",
       "4    3\n",
       "8    2\n",
       "3    2\n",
       "Name: count, dtype: int64"
      ]
     },
     "execution_count": 26,
     "metadata": {},
     "output_type": "execute_result"
    }
   ],
   "source": [
    "s3.value_counts()"
   ]
  },
  {
   "cell_type": "code",
   "execution_count": 31,
   "id": "0c7a0884-edf0-4296-9c6d-d02925adecb3",
   "metadata": {},
   "outputs": [
    {
     "data": {
      "text/plain": [
       "A    46\n",
       "B    17\n",
       "C    34\n",
       "D    41\n",
       "E    33\n",
       "dtype: int32"
      ]
     },
     "metadata": {},
     "output_type": "display_data"
    },
    {
     "data": {
      "text/plain": [
       "A    90\n",
       "B     1\n",
       "C    85\n",
       "D    21\n",
       "E    85\n",
       "dtype: int32"
      ]
     },
     "metadata": {},
     "output_type": "display_data"
    }
   ],
   "source": [
    "s1=Series(data=np.random.randint(0,100,size=5),index=list('ABCDE'))\n",
    "s2=Series(data=np.random.randint(0,100,size=5),index=list('ABCDE'))\n",
    "display(s1,s2)"
   ]
  },
  {
   "cell_type": "markdown",
   "id": "618790b1-66ab-4fe7-8133-cc1f98a21461",
   "metadata": {},
   "source": [
    "**Series运算**  \n",
    "1、numpy数组的运算也同样适用于Series  \n",
    "2、Series之间的运算  \n",
    "在运算中自动对齐不同索引的数据  \n",
    "如果索引不对应，则应补NaN  \n",
    "注意：要想保留所有的index，则需要使用  \n",
    "add()加  \n",
    "sub()减  \n",
    "mul()乘  \n",
    "div()除  \n",
    "3、"
   ]
  },
  {
   "cell_type": "code",
   "execution_count": 33,
   "id": "d933bf1b-be00-4d6d-b0df-40e903d30307",
   "metadata": {},
   "outputs": [
    {
     "data": {
      "text/plain": [
       "A    47\n",
       "B    18\n",
       "C    35\n",
       "D    42\n",
       "E    34\n",
       "dtype: int32"
      ]
     },
     "execution_count": 33,
     "metadata": {},
     "output_type": "execute_result"
    }
   ],
   "source": [
    "#与一个数运算，广播机制运算\n",
    "s1+1"
   ]
  },
  {
   "cell_type": "code",
   "execution_count": 34,
   "id": "a5d17529-7d73-4bb0-9c92-c4fac6dc0867",
   "metadata": {},
   "outputs": [
    {
     "data": {
      "text/plain": [
       "A    136\n",
       "B     18\n",
       "C    119\n",
       "D     62\n",
       "E    118\n",
       "dtype: int32"
      ]
     },
     "execution_count": 34,
     "metadata": {},
     "output_type": "execute_result"
    }
   ],
   "source": [
    "#Series之间的运算（索引对齐）\n",
    "s1+s2"
   ]
  },
  {
   "cell_type": "code",
   "execution_count": 35,
   "id": "dcef6764-0d37-459d-a2e4-1cc1c49f7633",
   "metadata": {},
   "outputs": [
    {
     "data": {
      "text/plain": [
       "B    24\n",
       "C    37\n",
       "D    27\n",
       "E     4\n",
       "F    76\n",
       "dtype: int32"
      ]
     },
     "execution_count": 35,
     "metadata": {},
     "output_type": "execute_result"
    }
   ],
   "source": [
    "s3=Series(data=np.random.randint(0,100,size=5),index=list('BCDEF'))\n",
    "s3"
   ]
  },
  {
   "cell_type": "code",
   "execution_count": 36,
   "id": "73a1cdd7-bcb2-4c7a-b8c9-768aae59582b",
   "metadata": {},
   "outputs": [
    {
     "data": {
      "text/plain": [
       "A     NaN\n",
       "B    41.0\n",
       "C    71.0\n",
       "D    68.0\n",
       "E    37.0\n",
       "F     NaN\n",
       "dtype: float64"
      ]
     },
     "execution_count": 36,
     "metadata": {},
     "output_type": "execute_result"
    }
   ],
   "source": [
    "#因为索引对齐，所以两个Series对象中，索引只在某一个对象出现，而另外一个对象没有的话，就会出现NaN\n",
    "s1+s3"
   ]
  },
  {
   "cell_type": "code",
   "execution_count": 37,
   "id": "730b5316-0848-4b02-99d0-5dbfe2749a29",
   "metadata": {},
   "outputs": [
    {
     "data": {
      "text/plain": [
       "A    46.0\n",
       "B    41.0\n",
       "C    71.0\n",
       "D    68.0\n",
       "E    37.0\n",
       "F    76.0\n",
       "dtype: float64"
      ]
     },
     "execution_count": 37,
     "metadata": {},
     "output_type": "execute_result"
    }
   ],
   "source": [
    "#如果要不出现上面的NaN的话，应该使用加、减、乘、除的运算函数中的fill_value= 来处理(0或1要看情况而定)\n",
    "s1.add(s3,fill_value=0)"
   ]
  },
  {
   "cell_type": "code",
   "execution_count": 38,
   "id": "e465eabc-a76c-4166-ade9-588a37d367c6",
   "metadata": {},
   "outputs": [
    {
     "data": {
      "text/plain": [
       "A    46\n",
       "B    17\n",
       "C    34\n",
       "D    41\n",
       "E    33\n",
       "dtype: int32"
      ]
     },
     "execution_count": 38,
     "metadata": {},
     "output_type": "execute_result"
    }
   ],
   "source": [
    "#Series和numpy.array运算\n",
    "s1"
   ]
  },
  {
   "cell_type": "code",
   "execution_count": 39,
   "id": "f7f2b133-1629-4f2b-99d7-66f7ae7d428d",
   "metadata": {},
   "outputs": [
    {
     "data": {
      "text/plain": [
       "array([3, 7, 1, 4, 2])"
      ]
     },
     "execution_count": 39,
     "metadata": {},
     "output_type": "execute_result"
    }
   ],
   "source": [
    "n1=np.random.randint(0,10,size=5)\n",
    "n1"
   ]
  },
  {
   "cell_type": "code",
   "execution_count": 40,
   "id": "21323a3a-0390-478e-8b54-97ca58f9fc86",
   "metadata": {},
   "outputs": [
    {
     "data": {
      "text/plain": [
       "A    49\n",
       "B    24\n",
       "C    35\n",
       "D    45\n",
       "E    35\n",
       "dtype: int32"
      ]
     },
     "execution_count": 40,
     "metadata": {},
     "output_type": "execute_result"
    }
   ],
   "source": [
    "#属于广播运算\n",
    "s1+n1"
   ]
  },
  {
   "cell_type": "code",
   "execution_count": 43,
   "id": "2cff1ed5-7350-4a00-b743-537f517afd80",
   "metadata": {},
   "outputs": [
    {
     "data": {
      "text/plain": [
       "array([[0, 2, 4, 2, 4],\n",
       "       [5, 2, 0, 0, 2]])"
      ]
     },
     "execution_count": 43,
     "metadata": {},
     "output_type": "execute_result"
    }
   ],
   "source": [
    "n2=np.random.randint(0,10,size=(2,5))\n",
    "n2"
   ]
  },
  {
   "cell_type": "code",
   "execution_count": 46,
   "id": "582aaf49-e616-477f-ae06-dadbceaf97a9",
   "metadata": {},
   "outputs": [
    {
     "data": {
      "text/plain": [
       "A    46\n",
       "B    17\n",
       "C    34\n",
       "D    41\n",
       "E    33\n",
       "dtype: int32"
      ]
     },
     "execution_count": 46,
     "metadata": {},
     "output_type": "execute_result"
    }
   ],
   "source": [
    "s1"
   ]
  },
  {
   "cell_type": "code",
   "execution_count": 48,
   "id": "12078a5c-a90e-4a7d-bc8a-785803e4b78a",
   "metadata": {},
   "outputs": [
    {
     "ename": "ValueError",
     "evalue": "Length of values (2) does not match length of index (5)",
     "output_type": "error",
     "traceback": [
      "\u001b[1;31m---------------------------------------------------------------------------\u001b[0m",
      "\u001b[1;31mValueError\u001b[0m                                Traceback (most recent call last)",
      "Cell \u001b[1;32mIn[48], line 2\u001b[0m\n\u001b[0;32m      1\u001b[0m \u001b[38;5;66;03m#Series不能直接与numpy的二维数组运算\u001b[39;00m\n\u001b[1;32m----> 2\u001b[0m \u001b[43ms1\u001b[49m\u001b[38;5;241;43m+\u001b[39;49m\u001b[43mn2\u001b[49m\n",
      "File \u001b[1;32m~\\AppData\\Local\\Programs\\Python\\Python311\\Lib\\site-packages\\pandas\\core\\ops\\common.py:76\u001b[0m, in \u001b[0;36m_unpack_zerodim_and_defer.<locals>.new_method\u001b[1;34m(self, other)\u001b[0m\n\u001b[0;32m     72\u001b[0m             \u001b[38;5;28;01mreturn\u001b[39;00m \u001b[38;5;28mNotImplemented\u001b[39m\n\u001b[0;32m     74\u001b[0m other \u001b[38;5;241m=\u001b[39m item_from_zerodim(other)\n\u001b[1;32m---> 76\u001b[0m \u001b[38;5;28;01mreturn\u001b[39;00m \u001b[43mmethod\u001b[49m\u001b[43m(\u001b[49m\u001b[38;5;28;43mself\u001b[39;49m\u001b[43m,\u001b[49m\u001b[43m \u001b[49m\u001b[43mother\u001b[49m\u001b[43m)\u001b[49m\n",
      "File \u001b[1;32m~\\AppData\\Local\\Programs\\Python\\Python311\\Lib\\site-packages\\pandas\\core\\arraylike.py:186\u001b[0m, in \u001b[0;36mOpsMixin.__add__\u001b[1;34m(self, other)\u001b[0m\n\u001b[0;32m     98\u001b[0m \u001b[38;5;129m@unpack_zerodim_and_defer\u001b[39m(\u001b[38;5;124m\"\u001b[39m\u001b[38;5;124m__add__\u001b[39m\u001b[38;5;124m\"\u001b[39m)\n\u001b[0;32m     99\u001b[0m \u001b[38;5;28;01mdef\u001b[39;00m \u001b[38;5;21m__add__\u001b[39m(\u001b[38;5;28mself\u001b[39m, other):\n\u001b[0;32m    100\u001b[0m \u001b[38;5;250m    \u001b[39m\u001b[38;5;124;03m\"\"\"\u001b[39;00m\n\u001b[0;32m    101\u001b[0m \u001b[38;5;124;03m    Get Addition of DataFrame and other, column-wise.\u001b[39;00m\n\u001b[0;32m    102\u001b[0m \n\u001b[1;32m   (...)\u001b[0m\n\u001b[0;32m    184\u001b[0m \u001b[38;5;124;03m    moose     3.0     NaN\u001b[39;00m\n\u001b[0;32m    185\u001b[0m \u001b[38;5;124;03m    \"\"\"\u001b[39;00m\n\u001b[1;32m--> 186\u001b[0m     \u001b[38;5;28;01mreturn\u001b[39;00m \u001b[38;5;28;43mself\u001b[39;49m\u001b[38;5;241;43m.\u001b[39;49m\u001b[43m_arith_method\u001b[49m\u001b[43m(\u001b[49m\u001b[43mother\u001b[49m\u001b[43m,\u001b[49m\u001b[43m \u001b[49m\u001b[43moperator\u001b[49m\u001b[38;5;241;43m.\u001b[39;49m\u001b[43madd\u001b[49m\u001b[43m)\u001b[49m\n",
      "File \u001b[1;32m~\\AppData\\Local\\Programs\\Python\\Python311\\Lib\\site-packages\\pandas\\core\\series.py:5820\u001b[0m, in \u001b[0;36mSeries._arith_method\u001b[1;34m(self, other, op)\u001b[0m\n\u001b[0;32m   5818\u001b[0m \u001b[38;5;28;01mdef\u001b[39;00m \u001b[38;5;21m_arith_method\u001b[39m(\u001b[38;5;28mself\u001b[39m, other, op):\n\u001b[0;32m   5819\u001b[0m     \u001b[38;5;28mself\u001b[39m, other \u001b[38;5;241m=\u001b[39m \u001b[38;5;28mself\u001b[39m\u001b[38;5;241m.\u001b[39m_align_for_op(other)\n\u001b[1;32m-> 5820\u001b[0m     \u001b[38;5;28;01mreturn\u001b[39;00m \u001b[43mbase\u001b[49m\u001b[38;5;241;43m.\u001b[39;49m\u001b[43mIndexOpsMixin\u001b[49m\u001b[38;5;241;43m.\u001b[39;49m\u001b[43m_arith_method\u001b[49m\u001b[43m(\u001b[49m\u001b[38;5;28;43mself\u001b[39;49m\u001b[43m,\u001b[49m\u001b[43m \u001b[49m\u001b[43mother\u001b[49m\u001b[43m,\u001b[49m\u001b[43m \u001b[49m\u001b[43mop\u001b[49m\u001b[43m)\u001b[49m\n",
      "File \u001b[1;32m~\\AppData\\Local\\Programs\\Python\\Python311\\Lib\\site-packages\\pandas\\core\\base.py:1383\u001b[0m, in \u001b[0;36mIndexOpsMixin._arith_method\u001b[1;34m(self, other, op)\u001b[0m\n\u001b[0;32m   1380\u001b[0m \u001b[38;5;28;01mwith\u001b[39;00m np\u001b[38;5;241m.\u001b[39merrstate(\u001b[38;5;28mall\u001b[39m\u001b[38;5;241m=\u001b[39m\u001b[38;5;124m\"\u001b[39m\u001b[38;5;124mignore\u001b[39m\u001b[38;5;124m\"\u001b[39m):\n\u001b[0;32m   1381\u001b[0m     result \u001b[38;5;241m=\u001b[39m ops\u001b[38;5;241m.\u001b[39marithmetic_op(lvalues, rvalues, op)\n\u001b[1;32m-> 1383\u001b[0m \u001b[38;5;28;01mreturn\u001b[39;00m \u001b[38;5;28;43mself\u001b[39;49m\u001b[38;5;241;43m.\u001b[39;49m\u001b[43m_construct_result\u001b[49m\u001b[43m(\u001b[49m\u001b[43mresult\u001b[49m\u001b[43m,\u001b[49m\u001b[43m \u001b[49m\u001b[43mname\u001b[49m\u001b[38;5;241;43m=\u001b[39;49m\u001b[43mres_name\u001b[49m\u001b[43m)\u001b[49m\n",
      "File \u001b[1;32m~\\AppData\\Local\\Programs\\Python\\Python311\\Lib\\site-packages\\pandas\\core\\series.py:5916\u001b[0m, in \u001b[0;36mSeries._construct_result\u001b[1;34m(self, result, name)\u001b[0m\n\u001b[0;32m   5913\u001b[0m \u001b[38;5;66;03m# TODO: result should always be ArrayLike, but this fails for some\u001b[39;00m\n\u001b[0;32m   5914\u001b[0m \u001b[38;5;66;03m#  JSONArray tests\u001b[39;00m\n\u001b[0;32m   5915\u001b[0m dtype \u001b[38;5;241m=\u001b[39m \u001b[38;5;28mgetattr\u001b[39m(result, \u001b[38;5;124m\"\u001b[39m\u001b[38;5;124mdtype\u001b[39m\u001b[38;5;124m\"\u001b[39m, \u001b[38;5;28;01mNone\u001b[39;00m)\n\u001b[1;32m-> 5916\u001b[0m out \u001b[38;5;241m=\u001b[39m \u001b[38;5;28;43mself\u001b[39;49m\u001b[38;5;241;43m.\u001b[39;49m\u001b[43m_constructor\u001b[49m\u001b[43m(\u001b[49m\u001b[43mresult\u001b[49m\u001b[43m,\u001b[49m\u001b[43m \u001b[49m\u001b[43mindex\u001b[49m\u001b[38;5;241;43m=\u001b[39;49m\u001b[38;5;28;43mself\u001b[39;49m\u001b[38;5;241;43m.\u001b[39;49m\u001b[43mindex\u001b[49m\u001b[43m,\u001b[49m\u001b[43m \u001b[49m\u001b[43mdtype\u001b[49m\u001b[38;5;241;43m=\u001b[39;49m\u001b[43mdtype\u001b[49m\u001b[43m,\u001b[49m\u001b[43m \u001b[49m\u001b[43mcopy\u001b[49m\u001b[38;5;241;43m=\u001b[39;49m\u001b[38;5;28;43;01mFalse\u001b[39;49;00m\u001b[43m)\u001b[49m\n\u001b[0;32m   5917\u001b[0m out \u001b[38;5;241m=\u001b[39m out\u001b[38;5;241m.\u001b[39m__finalize__(\u001b[38;5;28mself\u001b[39m)\n\u001b[0;32m   5919\u001b[0m \u001b[38;5;66;03m# Set the result's name after __finalize__ is called because __finalize__\u001b[39;00m\n\u001b[0;32m   5920\u001b[0m \u001b[38;5;66;03m#  would set it back to self.name\u001b[39;00m\n",
      "File \u001b[1;32m~\\AppData\\Local\\Programs\\Python\\Python311\\Lib\\site-packages\\pandas\\core\\series.py:503\u001b[0m, in \u001b[0;36mSeries.__init__\u001b[1;34m(self, data, index, dtype, name, copy, fastpath)\u001b[0m\n\u001b[0;32m    501\u001b[0m     index \u001b[38;5;241m=\u001b[39m default_index(\u001b[38;5;28mlen\u001b[39m(data))\n\u001b[0;32m    502\u001b[0m \u001b[38;5;28;01melif\u001b[39;00m is_list_like(data):\n\u001b[1;32m--> 503\u001b[0m     \u001b[43mcom\u001b[49m\u001b[38;5;241;43m.\u001b[39;49m\u001b[43mrequire_length_match\u001b[49m\u001b[43m(\u001b[49m\u001b[43mdata\u001b[49m\u001b[43m,\u001b[49m\u001b[43m \u001b[49m\u001b[43mindex\u001b[49m\u001b[43m)\u001b[49m\n\u001b[0;32m    505\u001b[0m \u001b[38;5;66;03m# create/copy the manager\u001b[39;00m\n\u001b[0;32m    506\u001b[0m \u001b[38;5;28;01mif\u001b[39;00m \u001b[38;5;28misinstance\u001b[39m(data, (SingleBlockManager, SingleArrayManager)):\n",
      "File \u001b[1;32m~\\AppData\\Local\\Programs\\Python\\Python311\\Lib\\site-packages\\pandas\\core\\common.py:561\u001b[0m, in \u001b[0;36mrequire_length_match\u001b[1;34m(data, index)\u001b[0m\n\u001b[0;32m    557\u001b[0m \u001b[38;5;250m\u001b[39m\u001b[38;5;124;03m\"\"\"\u001b[39;00m\n\u001b[0;32m    558\u001b[0m \u001b[38;5;124;03mCheck the length of data matches the length of the index.\u001b[39;00m\n\u001b[0;32m    559\u001b[0m \u001b[38;5;124;03m\"\"\"\u001b[39;00m\n\u001b[0;32m    560\u001b[0m \u001b[38;5;28;01mif\u001b[39;00m \u001b[38;5;28mlen\u001b[39m(data) \u001b[38;5;241m!=\u001b[39m \u001b[38;5;28mlen\u001b[39m(index):\n\u001b[1;32m--> 561\u001b[0m     \u001b[38;5;28;01mraise\u001b[39;00m \u001b[38;5;167;01mValueError\u001b[39;00m(\n\u001b[0;32m    562\u001b[0m         \u001b[38;5;124m\"\u001b[39m\u001b[38;5;124mLength of values \u001b[39m\u001b[38;5;124m\"\u001b[39m\n\u001b[0;32m    563\u001b[0m         \u001b[38;5;124mf\u001b[39m\u001b[38;5;124m\"\u001b[39m\u001b[38;5;124m(\u001b[39m\u001b[38;5;132;01m{\u001b[39;00m\u001b[38;5;28mlen\u001b[39m(data)\u001b[38;5;132;01m}\u001b[39;00m\u001b[38;5;124m) \u001b[39m\u001b[38;5;124m\"\u001b[39m\n\u001b[0;32m    564\u001b[0m         \u001b[38;5;124m\"\u001b[39m\u001b[38;5;124mdoes not match length of index \u001b[39m\u001b[38;5;124m\"\u001b[39m\n\u001b[0;32m    565\u001b[0m         \u001b[38;5;124mf\u001b[39m\u001b[38;5;124m\"\u001b[39m\u001b[38;5;124m(\u001b[39m\u001b[38;5;132;01m{\u001b[39;00m\u001b[38;5;28mlen\u001b[39m(index)\u001b[38;5;132;01m}\u001b[39;00m\u001b[38;5;124m)\u001b[39m\u001b[38;5;124m\"\u001b[39m\n\u001b[0;32m    566\u001b[0m     )\n",
      "\u001b[1;31mValueError\u001b[0m: Length of values (2) does not match length of index (5)"
     ]
    }
   ],
   "source": [
    "#Series不能直接与numpy的二维数组运算，因为两者的类型不一致\n",
    "s1+n2"
   ]
  },
  {
   "cell_type": "code",
   "execution_count": 51,
   "id": "49fba371-64a9-48d3-83c8-7507a163b507",
   "metadata": {},
   "outputs": [
    {
     "data": {
      "text/plain": [
       "array([[46, 19, 38, 43, 37],\n",
       "       [51, 19, 34, 41, 35]])"
      ]
     },
     "execution_count": 51,
     "metadata": {},
     "output_type": "execute_result"
    }
   ],
   "source": [
    "#可用s1.values先提取出Series对象中的所有值，而这些值会自动变成一个array数组的对象，这样就可以与numpy中的数组对象，类型上相一致，也就可以运算\n",
    "#运算原理：不同维度间的数组运算，python编译器会自动进行数组维度的对齐扩展（广播运算）\n",
    "s1.values+n2"
   ]
  },
  {
   "cell_type": "markdown",
   "id": "bf58a5dd-570a-4677-8a67-18696ad5e17f",
   "metadata": {},
   "source": [
    "**（2）DataFrame**  \n",
    "*1、它是一个表格型的数据结构，可以看作是“由Series组成的字典”（共同使用一个索引）。它由按一定顺序排列的多列数据组成。既有行索引，也有列索引。*    \n",
    "行索引：index  \n",
    "列索引：columns    \n",
    "值：values(numpy的二维数组)  \n"
   ]
  },
  {
   "cell_type": "code",
   "execution_count": null,
   "id": "ebcdcb81-62ff-49cd-8b52-76a4310c78e3",
   "metadata": {},
   "outputs": [],
   "source": [
    "            python             java\n",
    "index       python             java      列标签\n",
    "lucy        15                 36\n",
    "mery        65                 77\n",
    "tom         85                 55\n",
    "jack        14                 8\n",
    "tony        2                  25\n",
    "ironman     90                 65       data/values\n",
    "\n",
    "行标签"
   ]
  },
  {
   "cell_type": "markdown",
   "id": "aa28201e-2d3a-4e73-a868-b1fdfcb5d385",
   "metadata": {},
   "source": [
    "*2、DataFrame创建*  \n",
    "DataFrame(data=,columns=,index=)  \n",
    "data：数据numpy.array  \n",
    "columns：列索引  \n",
    "index：行索引  \n"
   ]
  },
  {
   "cell_type": "code",
   "execution_count": 54,
   "id": "878897e1-b6be-4666-8eeb-bfb26ffe3b1b",
   "metadata": {},
   "outputs": [
    {
     "data": {
      "text/html": [
       "<div>\n",
       "<style scoped>\n",
       "    .dataframe tbody tr th:only-of-type {\n",
       "        vertical-align: middle;\n",
       "    }\n",
       "\n",
       "    .dataframe tbody tr th {\n",
       "        vertical-align: top;\n",
       "    }\n",
       "\n",
       "    .dataframe thead th {\n",
       "        text-align: right;\n",
       "    }\n",
       "</style>\n",
       "<table border=\"1\" class=\"dataframe\">\n",
       "  <thead>\n",
       "    <tr style=\"text-align: right;\">\n",
       "      <th></th>\n",
       "      <th>python</th>\n",
       "      <th>java</th>\n",
       "    </tr>\n",
       "  </thead>\n",
       "  <tbody>\n",
       "    <tr>\n",
       "      <th>lucy</th>\n",
       "      <td>78</td>\n",
       "      <td>69</td>\n",
       "    </tr>\n",
       "    <tr>\n",
       "      <th>mery</th>\n",
       "      <td>55</td>\n",
       "      <td>63</td>\n",
       "    </tr>\n",
       "    <tr>\n",
       "      <th>tom</th>\n",
       "      <td>50</td>\n",
       "      <td>69</td>\n",
       "    </tr>\n",
       "    <tr>\n",
       "      <th>jack</th>\n",
       "      <td>78</td>\n",
       "      <td>76</td>\n",
       "    </tr>\n",
       "    <tr>\n",
       "      <th>rose</th>\n",
       "      <td>81</td>\n",
       "      <td>99</td>\n",
       "    </tr>\n",
       "    <tr>\n",
       "      <th>tony</th>\n",
       "      <td>70</td>\n",
       "      <td>89</td>\n",
       "    </tr>\n",
       "  </tbody>\n",
       "</table>\n",
       "</div>"
      ],
      "text/plain": [
       "      python  java\n",
       "lucy      78    69\n",
       "mery      55    63\n",
       "tom       50    69\n",
       "jack      78    76\n",
       "rose      81    99\n",
       "tony      70    89"
      ]
     },
     "execution_count": 54,
     "metadata": {},
     "output_type": "execute_result"
    }
   ],
   "source": [
    "#方法1：用numpy.array来创建DataFrame\n",
    "index=['lucy','mery','tom','jack','rose','tony']\n",
    "columns=['python','java']\n",
    "data=np.random.randint(50,100,size=(6,2))\n",
    "df=DataFrame(data=data,columns=columns,index=index)\n",
    "df"
   ]
  },
  {
   "cell_type": "code",
   "execution_count": 59,
   "id": "0a8ada8f-a5fa-4668-9d1f-3a768f73c5f8",
   "metadata": {},
   "outputs": [
    {
     "data": {
      "text/html": [
       "<div>\n",
       "<style scoped>\n",
       "    .dataframe tbody tr th:only-of-type {\n",
       "        vertical-align: middle;\n",
       "    }\n",
       "\n",
       "    .dataframe tbody tr th {\n",
       "        vertical-align: top;\n",
       "    }\n",
       "\n",
       "    .dataframe thead th {\n",
       "        text-align: right;\n",
       "    }\n",
       "</style>\n",
       "<table border=\"1\" class=\"dataframe\">\n",
       "  <thead>\n",
       "    <tr style=\"text-align: right;\">\n",
       "      <th></th>\n",
       "      <th>python</th>\n",
       "      <th>java</th>\n",
       "    </tr>\n",
       "  </thead>\n",
       "  <tbody>\n",
       "    <tr>\n",
       "      <th>lucy</th>\n",
       "      <td>41</td>\n",
       "      <td>0.074576</td>\n",
       "    </tr>\n",
       "    <tr>\n",
       "      <th>mery</th>\n",
       "      <td>24</td>\n",
       "      <td>0.916096</td>\n",
       "    </tr>\n",
       "    <tr>\n",
       "      <th>tom</th>\n",
       "      <td>71</td>\n",
       "      <td>0.390080</td>\n",
       "    </tr>\n",
       "    <tr>\n",
       "      <th>jack</th>\n",
       "      <td>75</td>\n",
       "      <td>0.400172</td>\n",
       "    </tr>\n",
       "    <tr>\n",
       "      <th>rose</th>\n",
       "      <td>87</td>\n",
       "      <td>0.345834</td>\n",
       "    </tr>\n",
       "    <tr>\n",
       "      <th>tony</th>\n",
       "      <td>22</td>\n",
       "      <td>0.609863</td>\n",
       "    </tr>\n",
       "  </tbody>\n",
       "</table>\n",
       "</div>"
      ],
      "text/plain": [
       "      python      java\n",
       "lucy      41  0.074576\n",
       "mery      24  0.916096\n",
       "tom       71  0.390080\n",
       "jack      75  0.400172\n",
       "rose      87  0.345834\n",
       "tony      22  0.609863"
      ]
     },
     "execution_count": 59,
     "metadata": {},
     "output_type": "execute_result"
    }
   ],
   "source": [
    "#方法2：用dict字典来创建\n",
    "dic={\n",
    "    'python':np.random.randint(0,100,size=6),\n",
    "    'java':np.random.random(size=6)\n",
    "}\n",
    "index=['lucy','mery','tom','jack','rose','tony']\n",
    "df2=DataFrame(data=dic,index=index)\n",
    "df2"
   ]
  },
  {
   "cell_type": "code",
   "execution_count": 61,
   "id": "5100b074-2dec-4f63-ad15-09c8fdcdc9eb",
   "metadata": {},
   "outputs": [
    {
     "data": {
      "text/plain": [
       "python      int32\n",
       "java      float64\n",
       "dtype: object"
      ]
     },
     "execution_count": 61,
     "metadata": {},
     "output_type": "execute_result"
    }
   ],
   "source": [
    "#说明每列中的数据类型可以不一致\n",
    "df2.dtypes"
   ]
  },
  {
   "cell_type": "code",
   "execution_count": 62,
   "id": "9decac8b-89b2-4ad5-9f96-a5e726f0e071",
   "metadata": {},
   "outputs": [
    {
     "data": {
      "text/html": [
       "<div>\n",
       "<style scoped>\n",
       "    .dataframe tbody tr th:only-of-type {\n",
       "        vertical-align: middle;\n",
       "    }\n",
       "\n",
       "    .dataframe tbody tr th {\n",
       "        vertical-align: top;\n",
       "    }\n",
       "\n",
       "    .dataframe thead th {\n",
       "        text-align: right;\n",
       "    }\n",
       "</style>\n",
       "<table border=\"1\" class=\"dataframe\">\n",
       "  <thead>\n",
       "    <tr style=\"text-align: right;\">\n",
       "      <th></th>\n",
       "      <th>python</th>\n",
       "      <th>java</th>\n",
       "      <th>name</th>\n",
       "    </tr>\n",
       "  </thead>\n",
       "  <tbody>\n",
       "    <tr>\n",
       "      <th>0</th>\n",
       "      <td>12</td>\n",
       "      <td>0.863942</td>\n",
       "      <td>lucy</td>\n",
       "    </tr>\n",
       "    <tr>\n",
       "      <th>1</th>\n",
       "      <td>91</td>\n",
       "      <td>0.544578</td>\n",
       "      <td>mery</td>\n",
       "    </tr>\n",
       "    <tr>\n",
       "      <th>2</th>\n",
       "      <td>10</td>\n",
       "      <td>0.421465</td>\n",
       "      <td>tom</td>\n",
       "    </tr>\n",
       "    <tr>\n",
       "      <th>3</th>\n",
       "      <td>1</td>\n",
       "      <td>0.083382</td>\n",
       "      <td>jack</td>\n",
       "    </tr>\n",
       "    <tr>\n",
       "      <th>4</th>\n",
       "      <td>75</td>\n",
       "      <td>0.248285</td>\n",
       "      <td>rose</td>\n",
       "    </tr>\n",
       "    <tr>\n",
       "      <th>5</th>\n",
       "      <td>39</td>\n",
       "      <td>0.755087</td>\n",
       "      <td>tony</td>\n",
       "    </tr>\n",
       "  </tbody>\n",
       "</table>\n",
       "</div>"
      ],
      "text/plain": [
       "   python      java  name\n",
       "0      12  0.863942  lucy\n",
       "1      91  0.544578  mery\n",
       "2      10  0.421465   tom\n",
       "3       1  0.083382  jack\n",
       "4      75  0.248285  rose\n",
       "5      39  0.755087  tony"
      ]
     },
     "execution_count": 62,
     "metadata": {},
     "output_type": "execute_result"
    }
   ],
   "source": [
    "#方法2：无索引名称，直接把姓名放入到列中\n",
    "dic={\n",
    "    'python':np.random.randint(0,100,size=6),\n",
    "    'java':np.random.random(size=6),\n",
    "    'name':['lucy','mery','tom','jack','rose','tony']\n",
    "}\n",
    "df2=DataFrame(data=dic)\n",
    "df2"
   ]
  },
  {
   "cell_type": "code",
   "execution_count": 75,
   "id": "2cb3f12b-5571-4d9d-b00b-145649de72ae",
   "metadata": {},
   "outputs": [
    {
     "data": {
      "text/html": [
       "<div>\n",
       "<style scoped>\n",
       "    .dataframe tbody tr th:only-of-type {\n",
       "        vertical-align: middle;\n",
       "    }\n",
       "\n",
       "    .dataframe tbody tr th {\n",
       "        vertical-align: top;\n",
       "    }\n",
       "\n",
       "    .dataframe thead th {\n",
       "        text-align: right;\n",
       "    }\n",
       "</style>\n",
       "<table border=\"1\" class=\"dataframe\">\n",
       "  <thead>\n",
       "    <tr style=\"text-align: right;\">\n",
       "      <th></th>\n",
       "      <th></th>\n",
       "      <th>注册资本</th>\n",
       "      <th>客户类别</th>\n",
       "      <th>客户地址</th>\n",
       "      <th>省份</th>\n",
       "      <th>区域</th>\n",
       "    </tr>\n",
       "    <tr>\n",
       "      <th>客户代码</th>\n",
       "      <th>客户</th>\n",
       "      <th></th>\n",
       "      <th></th>\n",
       "      <th></th>\n",
       "      <th></th>\n",
       "      <th></th>\n",
       "    </tr>\n",
       "  </thead>\n",
       "  <tbody>\n",
       "    <tr>\n",
       "      <th>100012</th>\n",
       "      <th>长城公司</th>\n",
       "      <td>280000</td>\n",
       "      <td>一般客户</td>\n",
       "      <td>河北省保定市高阳县</td>\n",
       "      <td>河北</td>\n",
       "      <td>北区</td>\n",
       "    </tr>\n",
       "    <tr>\n",
       "      <th>100026</th>\n",
       "      <th>长江公司</th>\n",
       "      <td>3610000</td>\n",
       "      <td>大客户</td>\n",
       "      <td>湖北省黄石市石灰窑区</td>\n",
       "      <td>湖北</td>\n",
       "      <td>南区</td>\n",
       "    </tr>\n",
       "    <tr>\n",
       "      <th>100086</th>\n",
       "      <th>黄河公司</th>\n",
       "      <td>42610000</td>\n",
       "      <td>大客户</td>\n",
       "      <td>河南省南阳市新野县</td>\n",
       "      <td>河南</td>\n",
       "      <td>南区</td>\n",
       "    </tr>\n",
       "    <tr>\n",
       "      <th>100118</th>\n",
       "      <th>黄山公司</th>\n",
       "      <td>2810000</td>\n",
       "      <td>大客户</td>\n",
       "      <td>安徽省芜湖市鸠江区</td>\n",
       "      <td>安徽</td>\n",
       "      <td>东区</td>\n",
       "    </tr>\n",
       "    <tr>\n",
       "      <th>100133</th>\n",
       "      <th>嵩山公司</th>\n",
       "      <td>8810000</td>\n",
       "      <td>一般客户</td>\n",
       "      <td>河南省平顶山市鲁山县</td>\n",
       "      <td>河南</td>\n",
       "      <td>南区</td>\n",
       "    </tr>\n",
       "    <tr>\n",
       "      <th>100607</th>\n",
       "      <th>庐山公司</th>\n",
       "      <td>15750000</td>\n",
       "      <td>一般客户</td>\n",
       "      <td>江西省赣州市</td>\n",
       "      <td>江西</td>\n",
       "      <td>南区</td>\n",
       "    </tr>\n",
       "    <tr>\n",
       "      <th>100671</th>\n",
       "      <th>峨眉山公司</th>\n",
       "      <td>390000</td>\n",
       "      <td>一般客户</td>\n",
       "      <td>四川省阿坝藏族羌族自治州理县</td>\n",
       "      <td>四川</td>\n",
       "      <td>北区</td>\n",
       "    </tr>\n",
       "    <tr>\n",
       "      <th>100865</th>\n",
       "      <th>泰山公司</th>\n",
       "      <td>220000</td>\n",
       "      <td>一般客户</td>\n",
       "      <td>山东省泰安市</td>\n",
       "      <td>山东</td>\n",
       "      <td>北区</td>\n",
       "    </tr>\n",
       "    <tr>\n",
       "      <th>101047</th>\n",
       "      <th>衡山公司</th>\n",
       "      <td>1190000</td>\n",
       "      <td>大客户</td>\n",
       "      <td>湖南省常德市武陵区</td>\n",
       "      <td>湖南</td>\n",
       "      <td>南区</td>\n",
       "    </tr>\n",
       "    <tr>\n",
       "      <th>101375</th>\n",
       "      <th>华山公司</th>\n",
       "      <td>240000</td>\n",
       "      <td>一般客户</td>\n",
       "      <td>陕西省宝鸡市岐山县</td>\n",
       "      <td>陕西</td>\n",
       "      <td>北区</td>\n",
       "    </tr>\n",
       "    <tr>\n",
       "      <th>101579</th>\n",
       "      <th>武夷山公司</th>\n",
       "      <td>10240000</td>\n",
       "      <td>大客户</td>\n",
       "      <td>福建省泉州市金门县</td>\n",
       "      <td>福建</td>\n",
       "      <td>南区</td>\n",
       "    </tr>\n",
       "    <tr>\n",
       "      <th>101723</th>\n",
       "      <th>长白山公司</th>\n",
       "      <td>500000</td>\n",
       "      <td>一般客户</td>\n",
       "      <td>吉林省延边朝鲜族自治州汪清县</td>\n",
       "      <td>吉林</td>\n",
       "      <td>北区</td>\n",
       "    </tr>\n",
       "    <tr>\n",
       "      <th>102458</th>\n",
       "      <th>雁荡山公司</th>\n",
       "      <td>20370000</td>\n",
       "      <td>一般客户</td>\n",
       "      <td>浙江省台州市路桥区</td>\n",
       "      <td>浙江</td>\n",
       "      <td>东区</td>\n",
       "    </tr>\n",
       "    <tr>\n",
       "      <th>102759</th>\n",
       "      <th>齐云山公司</th>\n",
       "      <td>20060000</td>\n",
       "      <td>一般客户</td>\n",
       "      <td>安徽省铜陵市狮子山区</td>\n",
       "      <td>安徽</td>\n",
       "      <td>东区</td>\n",
       "    </tr>\n",
       "    <tr>\n",
       "      <th>102849</th>\n",
       "      <th>昆仑山公司</th>\n",
       "      <td>150000</td>\n",
       "      <td>大客户</td>\n",
       "      <td>新疆维吾尔族自治区塔城地区沙湾县</td>\n",
       "      <td>新疆</td>\n",
       "      <td>北区</td>\n",
       "    </tr>\n",
       "    <tr>\n",
       "      <th>103082</th>\n",
       "      <th>九华山公司</th>\n",
       "      <td>33030000</td>\n",
       "      <td>一般客户</td>\n",
       "      <td>安徽省铜陵市狮子山区</td>\n",
       "      <td>安徽</td>\n",
       "      <td>东区</td>\n",
       "    </tr>\n",
       "    <tr>\n",
       "      <th>103103</th>\n",
       "      <th>恒山公司</th>\n",
       "      <td>440000</td>\n",
       "      <td>一般客户</td>\n",
       "      <td>山西省忻州地区</td>\n",
       "      <td>山西</td>\n",
       "      <td>北区</td>\n",
       "    </tr>\n",
       "  </tbody>\n",
       "</table>\n",
       "</div>"
      ],
      "text/plain": [
       "                  注册资本  客户类别              客户地址  省份  区域\n",
       "客户代码   客户                                             \n",
       "100012 长城公司     280000  一般客户         河北省保定市高阳县  河北  北区\n",
       "100026 长江公司    3610000   大客户        湖北省黄石市石灰窑区  湖北  南区\n",
       "100086 黄河公司   42610000   大客户         河南省南阳市新野县  河南  南区\n",
       "100118 黄山公司    2810000   大客户         安徽省芜湖市鸠江区  安徽  东区\n",
       "100133 嵩山公司    8810000  一般客户        河南省平顶山市鲁山县  河南  南区\n",
       "100607 庐山公司   15750000  一般客户            江西省赣州市  江西  南区\n",
       "100671 峨眉山公司    390000  一般客户    四川省阿坝藏族羌族自治州理县  四川  北区\n",
       "100865 泰山公司     220000  一般客户            山东省泰安市  山东  北区\n",
       "101047 衡山公司    1190000   大客户         湖南省常德市武陵区  湖南  南区\n",
       "101375 华山公司     240000  一般客户         陕西省宝鸡市岐山县  陕西  北区\n",
       "101579 武夷山公司  10240000   大客户         福建省泉州市金门县  福建  南区\n",
       "101723 长白山公司    500000  一般客户    吉林省延边朝鲜族自治州汪清县  吉林  北区\n",
       "102458 雁荡山公司  20370000  一般客户         浙江省台州市路桥区  浙江  东区\n",
       "102759 齐云山公司  20060000  一般客户        安徽省铜陵市狮子山区  安徽  东区\n",
       "102849 昆仑山公司    150000   大客户  新疆维吾尔族自治区塔城地区沙湾县  新疆  北区\n",
       "103082 九华山公司  33030000  一般客户        安徽省铜陵市狮子山区  安徽  东区\n",
       "103103 恒山公司     440000  一般客户           山西省忻州地区  山西  北区"
      ]
     },
     "execution_count": 75,
     "metadata": {},
     "output_type": "execute_result"
    }
   ],
   "source": [
    "#方法3：从文件中读取数据来创建DataFrame\n",
    "#前提条件：需要安装openpyxl库才行\n",
    "#header  指定哪些行作为列标签，None为无\n",
    "#index_col  指定哪些列作为行标签，None为无\n",
    "pd.read_excel('rl.xlsx',sheet_name='客户信息',header=0,index_col=[0,1])\n"
   ]
  },
  {
   "cell_type": "code",
   "execution_count": 78,
   "id": "196f77e4-559e-47f0-a7a6-fcbdfabd1303",
   "metadata": {},
   "outputs": [
    {
     "data": {
      "text/plain": [
       "lucy    77\n",
       "mery    23\n",
       "tom     89\n",
       "jack    39\n",
       "rose    27\n",
       "Name: python, dtype: int32"
      ]
     },
     "execution_count": 78,
     "metadata": {},
     "output_type": "execute_result"
    }
   ],
   "source": [
    "#方法4：用Series数据来创建DataFrame\n",
    "python=Series(data=np.random.randint(0,100,size=5),index=['lucy','mery','tom','jack','rose'],name='python')\n",
    "python"
   ]
  },
  {
   "cell_type": "code",
   "execution_count": 83,
   "id": "c6ebe2de-2b62-4334-970f-6734a8732859",
   "metadata": {},
   "outputs": [
    {
     "data": {
      "text/html": [
       "<div>\n",
       "<style scoped>\n",
       "    .dataframe tbody tr th:only-of-type {\n",
       "        vertical-align: middle;\n",
       "    }\n",
       "\n",
       "    .dataframe tbody tr th {\n",
       "        vertical-align: top;\n",
       "    }\n",
       "\n",
       "    .dataframe thead th {\n",
       "        text-align: right;\n",
       "    }\n",
       "</style>\n",
       "<table border=\"1\" class=\"dataframe\">\n",
       "  <thead>\n",
       "    <tr style=\"text-align: right;\">\n",
       "      <th></th>\n",
       "      <th>python</th>\n",
       "    </tr>\n",
       "  </thead>\n",
       "  <tbody>\n",
       "    <tr>\n",
       "      <th>lucy</th>\n",
       "      <td>77</td>\n",
       "    </tr>\n",
       "    <tr>\n",
       "      <th>mery</th>\n",
       "      <td>23</td>\n",
       "    </tr>\n",
       "    <tr>\n",
       "      <th>tom</th>\n",
       "      <td>89</td>\n",
       "    </tr>\n",
       "    <tr>\n",
       "      <th>jack</th>\n",
       "      <td>39</td>\n",
       "    </tr>\n",
       "    <tr>\n",
       "      <th>rose</th>\n",
       "      <td>27</td>\n",
       "    </tr>\n",
       "  </tbody>\n",
       "</table>\n",
       "</div>"
      ],
      "text/plain": [
       "      python\n",
       "lucy      77\n",
       "mery      23\n",
       "tom       89\n",
       "jack      39\n",
       "rose      27"
      ]
     },
     "execution_count": 83,
     "metadata": {},
     "output_type": "execute_result"
    }
   ],
   "source": [
    "#注意：Series中的name是作为DataFrame列中的字段名称\n",
    "df=DataFrame(data=python)\n",
    "df"
   ]
  },
  {
   "cell_type": "code",
   "execution_count": 82,
   "id": "6814b3e8-ccbf-4b77-afe7-19139aa3b94a",
   "metadata": {},
   "outputs": [
    {
     "data": {
      "text/plain": [
       "lucy    69\n",
       "mery    62\n",
       "tom     66\n",
       "jack    82\n",
       "rose    82\n",
       "Name: python, dtype: int32"
      ]
     },
     "execution_count": 82,
     "metadata": {},
     "output_type": "execute_result"
    }
   ],
   "source": [
    "#python2=Series(data=np.random.randint(50,100,size=5),index=['lucy','mery','tom','jack','rose'],name='C++')"
   ]
  },
  {
   "cell_type": "code",
   "execution_count": 87,
   "id": "6bd1d60a-1ebf-4f6d-90b7-4c2ed78a627c",
   "metadata": {},
   "outputs": [
    {
     "data": {
      "text/html": [
       "<div>\n",
       "<style scoped>\n",
       "    .dataframe tbody tr th:only-of-type {\n",
       "        vertical-align: middle;\n",
       "    }\n",
       "\n",
       "    .dataframe tbody tr th {\n",
       "        vertical-align: top;\n",
       "    }\n",
       "\n",
       "    .dataframe thead th {\n",
       "        text-align: right;\n",
       "    }\n",
       "</style>\n",
       "<table border=\"1\" class=\"dataframe\">\n",
       "  <thead>\n",
       "    <tr style=\"text-align: right;\">\n",
       "      <th></th>\n",
       "      <th>python</th>\n",
       "    </tr>\n",
       "  </thead>\n",
       "  <tbody>\n",
       "    <tr>\n",
       "      <th>0</th>\n",
       "      <td>1</td>\n",
       "    </tr>\n",
       "    <tr>\n",
       "      <th>1</th>\n",
       "      <td>2</td>\n",
       "    </tr>\n",
       "    <tr>\n",
       "      <th>2</th>\n",
       "      <td>3</td>\n",
       "    </tr>\n",
       "  </tbody>\n",
       "</table>\n",
       "</div>"
      ],
      "text/plain": [
       "   python\n",
       "0       1\n",
       "1       2\n",
       "2       3"
      ]
     },
     "execution_count": 87,
     "metadata": {},
     "output_type": "execute_result"
    }
   ],
   "source": [
    "#支持拓展添加\n",
    "df2=DataFrame()\n",
    "df2['python']=[1,2,3]\n",
    "df2"
   ]
  },
  {
   "cell_type": "code",
   "execution_count": 89,
   "id": "51fb554a-5555-4de7-829f-49a6704c8ba7",
   "metadata": {},
   "outputs": [
    {
     "data": {
      "text/html": [
       "<div>\n",
       "<style scoped>\n",
       "    .dataframe tbody tr th:only-of-type {\n",
       "        vertical-align: middle;\n",
       "    }\n",
       "\n",
       "    .dataframe tbody tr th {\n",
       "        vertical-align: top;\n",
       "    }\n",
       "\n",
       "    .dataframe thead th {\n",
       "        text-align: right;\n",
       "    }\n",
       "</style>\n",
       "<table border=\"1\" class=\"dataframe\">\n",
       "  <thead>\n",
       "    <tr style=\"text-align: right;\">\n",
       "      <th></th>\n",
       "      <th>python</th>\n",
       "      <th>C++</th>\n",
       "    </tr>\n",
       "  </thead>\n",
       "  <tbody>\n",
       "    <tr>\n",
       "      <th>0</th>\n",
       "      <td>1</td>\n",
       "      <td>11</td>\n",
       "    </tr>\n",
       "    <tr>\n",
       "      <th>1</th>\n",
       "      <td>2</td>\n",
       "      <td>22</td>\n",
       "    </tr>\n",
       "    <tr>\n",
       "      <th>2</th>\n",
       "      <td>3</td>\n",
       "      <td>33</td>\n",
       "    </tr>\n",
       "  </tbody>\n",
       "</table>\n",
       "</div>"
      ],
      "text/plain": [
       "   python  C++\n",
       "0       1   11\n",
       "1       2   22\n",
       "2       3   33"
      ]
     },
     "execution_count": 89,
     "metadata": {},
     "output_type": "execute_result"
    }
   ],
   "source": [
    "df2['C++']=[11,22,33]\n",
    "df2"
   ]
  }
 ],
 "metadata": {
  "kernelspec": {
   "display_name": "Python 3 (ipykernel)",
   "language": "python",
   "name": "python3"
  },
  "language_info": {
   "codemirror_mode": {
    "name": "ipython",
    "version": 3
   },
   "file_extension": ".py",
   "mimetype": "text/x-python",
   "name": "python",
   "nbconvert_exporter": "python",
   "pygments_lexer": "ipython3",
   "version": "3.11.5"
  }
 },
 "nbformat": 4,
 "nbformat_minor": 5
}
