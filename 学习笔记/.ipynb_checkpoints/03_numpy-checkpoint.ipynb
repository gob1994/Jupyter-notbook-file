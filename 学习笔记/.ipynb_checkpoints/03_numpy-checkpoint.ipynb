{
 "cells": [
  {
   "cell_type": "markdown",
   "id": "a8bdfa1f-8c1d-46b5-92ba-04362c5ef10a",
   "metadata": {},
   "source": [
    "**导入numpy库，查看numpy版本**"
   ]
  },
  {
   "cell_type": "code",
   "execution_count": 2,
   "id": "0956dd3d-412f-4256-b120-0f74e0e7b62d",
   "metadata": {},
   "outputs": [
    {
     "data": {
      "text/plain": [
       "'1.25.2'"
      ]
     },
     "execution_count": 2,
     "metadata": {},
     "output_type": "execute_result"
    }
   ],
   "source": [
    "import numpy as np\n",
    "np.__version__"
   ]
  },
  {
   "cell_type": "markdown",
   "id": "499b82d0-487f-47ee-9acc-744cae573d81",
   "metadata": {},
   "source": [
    "**一、创建Array**\n",
    "---"
   ]
  },
  {
   "cell_type": "code",
   "execution_count": null,
   "id": "8cafce0f-cabf-4ce3-ab28-d0f104beed27",
   "metadata": {},
   "outputs": [],
   "source": []
  },
  {
   "cell_type": "markdown",
   "id": "119a3f57-0461-43d6-853b-41d9d75a4e97",
   "metadata": {},
   "source": [
    "**（1）Array与list区别**  \n",
    "    list：有序，数据类型可以不同（链表结构）  \n",
    "    Array：有序，数据类型必须相同（顺序表结构）\n",
    "\n",
    "**（2）链表与顺序表区别**  \n",
    "链表：  存储结构是非线性，逻辑结构是线性\n",
    "顺序表：存储结构是线性，逻辑结构也是线性  \n",
    "栈：  \n",
    "队列：  \n",
    "\n",
    "**（3）用list来创建Array数组**  \n"
   ]
  },
  {
   "cell_type": "code",
   "execution_count": 7,
   "id": "1951c77e-7b26-4121-99a4-a78471c713a6",
   "metadata": {},
   "outputs": [
    {
     "data": {
      "text/plain": [
       "array([1, 2, 3, 4, 5])"
      ]
     },
     "metadata": {},
     "output_type": "display_data"
    },
    {
     "data": {
      "text/plain": [
       "array([1.  , 2.  , 3.14, 2.68])"
      ]
     },
     "metadata": {},
     "output_type": "display_data"
    }
   ],
   "source": [
    "l1=[1,2,3,4,5]  #list列表\n",
    "l2=[1,2,3.14,2.68] #注意：此列表的数据类型不相同\n",
    "n1=np.array(l1) #创建数组\n",
    "n2=np.array(l2) #注意：创建数组时，系统会自动做强制性数据类型转换，优先级别：str>float>int\n",
    "#n1 #显示数组，或者用display或者print\n",
    "#n2 #注意：输出显示的数据类型\n",
    "display(n1,n2)"
   ]
  },
  {
   "cell_type": "markdown",
   "id": "59559950-ef88-4a6d-b67f-c6252f6258e8",
   "metadata": {},
   "source": [
    "**(4)用numpy自带函数创建Array数组**  \n",
    "1、数组一般用来做矩阵运算 \n",
    "加、减运算是按对应位置运算\n",
    "乘法是按A矩阵中的第一行与B矩阵中的第一列进行对应元素位置进行先乘法后加法，把加法的结果作为AB两矩阵运算后的第一元素的结果；其它的元素按此方法进行  \n",
    "\n",
    "2、np.ones(shape=(),dtype=None,order='C')  \n",
    "order='C'是与内存保存有关的参数，只要保持默认或者不写就可以了  \n",
    "生成一个用1来填充各元素的数组  \n",
    "3、np.zeros(shape=(),dtype=None,order='C')    \n",
    "生成一个用0来填充各元素的数组  \n",
    "4、np.full(shape=(),dtype=None,fill_value=值)  \n",
    "生成一个用fill_value来指定一个填充各元素的值的数组  \n",
    "5、np.eye(N,M=None,k=0,dtype=float)  \n",
    "生成一个对角线为1，其它位置为0的数组  \n",
    "6、np.linspace(start=,stop=,num=,endpoint=True,retstep=False,dtype=)  \n",
    "生成一个等差数组，元素个数由用户指定   \n",
    "7、np.arange([start,]stop,[step,]dtype=)  \n",
    "生成一个等差数组，元素个数由开始值和结束值以及步长来决定  \n",
    "8、np.random.randint(low,high=None,size=None,dtype='I')   \n",
    "生成一个随机整数数组，元素个数size参数来决定  \n",
    "9、np.random.randn(d0,d1,...,dn)标准正态分布  \n",
    "\n",
    "10、np.random.normal()普通正态分布  \n",
    "\n",
    "11、np.random.random(size=)   \n",
    "生成一个只有0-1的随机数，左闭右开  "
   ]
  },
  {
   "cell_type": "code",
   "execution_count": 10,
   "id": "6a05dd99-5c20-4782-a541-c563702cc2b4",
   "metadata": {},
   "outputs": [
    {
     "data": {
      "text/plain": [
       "array([[1., 1., 1.],\n",
       "       [1., 1., 1.]])"
      ]
     },
     "execution_count": 10,
     "metadata": {},
     "output_type": "execute_result"
    }
   ],
   "source": [
    "np.ones(shape=(2,3))  #默认数据类型是float，创建二维数组"
   ]
  },
  {
   "cell_type": "code",
   "execution_count": 11,
   "id": "43889b80-75c1-42f9-a94d-1fbde5d7d777",
   "metadata": {},
   "outputs": [
    {
     "data": {
      "text/plain": [
       "array([[1, 1, 1],\n",
       "       [1, 1, 1]])"
      ]
     },
     "execution_count": 11,
     "metadata": {},
     "output_type": "execute_result"
    }
   ],
   "source": [
    "np.ones(shape=(2,3),dtype=np.int_)  #dtype是指定数据类型,可以是numpy自带的数据类型，也可以是python类型"
   ]
  },
  {
   "cell_type": "code",
   "execution_count": 12,
   "id": "cd56ff1b-ee6a-4de0-9919-7d462cfcdf4d",
   "metadata": {},
   "outputs": [
    {
     "data": {
      "text/plain": [
       "array([[[1., 1.],\n",
       "        [1., 1.],\n",
       "        [1., 1.],\n",
       "        [1., 1.]],\n",
       "\n",
       "       [[1., 1.],\n",
       "        [1., 1.],\n",
       "        [1., 1.],\n",
       "        [1., 1.]],\n",
       "\n",
       "       [[1., 1.],\n",
       "        [1., 1.],\n",
       "        [1., 1.],\n",
       "        [1., 1.]]])"
      ]
     },
     "execution_count": 12,
     "metadata": {},
     "output_type": "execute_result"
    }
   ],
   "source": [
    "np.ones(shape=(3,4,2))   #创建三维数组。图片是三维；动画视频是四维"
   ]
  },
  {
   "cell_type": "code",
   "execution_count": 13,
   "id": "33e51059-7eec-4119-a703-3923c458e310",
   "metadata": {},
   "outputs": [
    {
     "data": {
      "text/plain": [
       "array([[0., 0., 0.],\n",
       "       [0., 0., 0.]])"
      ]
     },
     "execution_count": 13,
     "metadata": {},
     "output_type": "execute_result"
    }
   ],
   "source": [
    "np.zeros(shape=(2,3))"
   ]
  },
  {
   "cell_type": "code",
   "execution_count": 14,
   "id": "31863223-dbb2-4a54-b703-0f8fc7eee6a0",
   "metadata": {},
   "outputs": [
    {
     "data": {
      "text/plain": [
       "array([['A', 'A', 'A'],\n",
       "       ['A', 'A', 'A'],\n",
       "       ['A', 'A', 'A']], dtype='<U1')"
      ]
     },
     "execution_count": 14,
     "metadata": {},
     "output_type": "execute_result"
    }
   ],
   "source": [
    "np.full(shape=(3,3),fill_value='A')"
   ]
  },
  {
   "cell_type": "code",
   "execution_count": 15,
   "id": "4c9c0891-b3ba-48ac-9cb5-99f3b65cef0a",
   "metadata": {},
   "outputs": [
    {
     "data": {
      "text/plain": [
       "array([[1., 0., 0.],\n",
       "       [0., 1., 0.],\n",
       "       [0., 0., 1.]])"
      ]
     },
     "execution_count": 15,
     "metadata": {},
     "output_type": "execute_result"
    }
   ],
   "source": [
    "np.eye(3)"
   ]
  },
  {
   "cell_type": "code",
   "execution_count": 19,
   "id": "ddb8bc0a-617f-4d72-9695-794f318fb0d1",
   "metadata": {},
   "outputs": [
    {
     "data": {
      "text/plain": [
       "array([[1., 0., 0.],\n",
       "       [0., 1., 0.],\n",
       "       [0., 0., 1.]])"
      ]
     },
     "execution_count": 19,
     "metadata": {},
     "output_type": "execute_result"
    }
   ],
   "source": [
    "np.eye(N=3,M=3)"
   ]
  },
  {
   "cell_type": "code",
   "execution_count": 20,
   "id": "074be3d5-0f0a-4ce5-9eda-9406a181b4bb",
   "metadata": {},
   "outputs": [
    {
     "data": {
      "text/plain": [
       "array([[0., 1., 0.],\n",
       "       [0., 0., 1.],\n",
       "       [0., 0., 0.]])"
      ]
     },
     "execution_count": 20,
     "metadata": {},
     "output_type": "execute_result"
    }
   ],
   "source": [
    "np.eye(N=3,M=3,k=1)  #k为小写字母K，K为正值时向右偏移"
   ]
  },
  {
   "cell_type": "code",
   "execution_count": 21,
   "id": "9a9f54ad-24a1-421a-9704-b502a3768905",
   "metadata": {},
   "outputs": [
    {
     "data": {
      "text/plain": [
       "array([[0., 0., 0.],\n",
       "       [1., 0., 0.],\n",
       "       [0., 1., 0.]])"
      ]
     },
     "execution_count": 21,
     "metadata": {},
     "output_type": "execute_result"
    }
   ],
   "source": [
    "np.eye(N=3,M=3,k=-1)  #K为负值是向左偏移"
   ]
  },
  {
   "cell_type": "code",
   "execution_count": 22,
   "id": "e56066d7-8ff7-48ee-a276-5d18a7e4d240",
   "metadata": {},
   "outputs": [
    {
     "data": {
      "text/plain": [
       "array([ 0.        ,  1.11111111,  2.22222222,  3.33333333,  4.44444444,\n",
       "        5.55555556,  6.66666667,  7.77777778,  8.88888889, 10.        ])"
      ]
     },
     "execution_count": 22,
     "metadata": {},
     "output_type": "execute_result"
    }
   ],
   "source": [
    "np.linspace(0,10,num=10)"
   ]
  },
  {
   "cell_type": "code",
   "execution_count": 23,
   "id": "7bf36c16-e22a-480e-ad18-299718d441c1",
   "metadata": {},
   "outputs": [
    {
     "data": {
      "text/plain": [
       "array([0., 1., 2., 3., 4., 5., 6., 7., 8., 9.])"
      ]
     },
     "execution_count": 23,
     "metadata": {},
     "output_type": "execute_result"
    }
   ],
   "source": [
    "np.linspace(0,10,num=10,endpoint=False)"
   ]
  },
  {
   "cell_type": "code",
   "execution_count": 24,
   "id": "8ad93723-70c0-4065-a2ad-273b3d0b5a3a",
   "metadata": {},
   "outputs": [
    {
     "data": {
      "text/plain": [
       "array([0, 2, 4, 6, 8])"
      ]
     },
     "execution_count": 24,
     "metadata": {},
     "output_type": "execute_result"
    }
   ],
   "source": [
    "np.arange(0,10,step=2)"
   ]
  },
  {
   "cell_type": "code",
   "execution_count": 25,
   "id": "296fec0a-29d2-4153-bb48-d93a32cdcf05",
   "metadata": {},
   "outputs": [
    {
     "data": {
      "text/plain": [
       "array([[4, 4, 3],\n",
       "       [8, 3, 3]])"
      ]
     },
     "execution_count": 25,
     "metadata": {},
     "output_type": "execute_result"
    }
   ],
   "source": [
    "np.random.randint(1,10,size=(2,3))"
   ]
  },
  {
   "cell_type": "code",
   "execution_count": 33,
   "id": "103629d8-080a-4d75-82b5-d2b743bc5548",
   "metadata": {},
   "outputs": [
    {
     "data": {
      "text/plain": [
       "array([ 6.87075217e-01,  1.16240196e+00,  4.41964036e-01,  2.19706062e-01,\n",
       "        5.23043901e-02,  7.42259109e-02,  3.12465318e+00, -7.46148760e-01,\n",
       "        1.35608323e-01, -9.46727131e-01,  7.84282008e-01, -2.12803666e-01,\n",
       "        7.10581505e-01, -6.06829695e-01,  1.00970439e-01,  1.38519777e+00,\n",
       "       -8.34200853e-01, -9.18995801e-01,  1.04297665e+00,  1.97897094e-03,\n",
       "        1.76305915e+00, -8.12840623e-02, -1.07809279e-01,  1.63924436e-03,\n",
       "       -1.42240188e-02,  2.18764152e-01,  1.43238185e+00, -8.61096957e-02,\n",
       "       -4.56019559e-01,  1.37050436e-01,  1.11214908e+00, -6.96447167e-01,\n",
       "       -1.39419262e+00, -7.01556719e-01, -2.82179594e-01, -6.52885860e-01,\n",
       "        1.40081329e+00,  8.16724995e-01,  4.60380987e-01,  5.71613977e-01,\n",
       "       -1.50153546e+00,  7.92179462e-01,  1.13926419e+00, -1.49392923e-01,\n",
       "       -8.48277231e-02,  4.57716999e-01,  8.82798825e-01,  7.93378418e-01,\n",
       "        5.01155519e-01, -8.14669529e-01, -4.22191016e-01,  1.60797431e+00,\n",
       "        1.77107632e-02, -6.56924877e-01, -6.09510168e-01,  1.60032712e-01,\n",
       "       -2.59260992e-01, -4.70732130e-01,  1.61712725e+00, -7.51198014e-01,\n",
       "        3.03518544e+00,  2.59665629e-01, -1.91922077e+00,  9.23136108e-02,\n",
       "        8.24003602e-01,  4.13629531e-01,  8.47881597e-02,  9.08966923e-01,\n",
       "       -8.02865575e-01, -2.64436596e-01, -6.28333437e-01,  1.33702730e+00,\n",
       "        7.84366457e-01, -4.80144550e-01,  2.59789025e-01,  3.60577828e-01,\n",
       "       -1.07746948e+00,  5.29349559e-01,  2.66474383e-01,  6.43305519e-02,\n",
       "       -7.14621296e-01,  5.89587818e-01, -1.75571259e-01, -1.50821405e+00,\n",
       "       -1.31005336e+00,  6.01243893e-02,  4.06925884e-01,  1.39371123e+00,\n",
       "        6.34189849e-02,  1.93692081e-01, -6.34253997e-01, -2.20896789e-01,\n",
       "       -8.90513974e-01,  8.38199910e-01, -1.12325349e+00, -3.71948889e-01,\n",
       "       -2.46297204e+00, -7.36074104e-01, -1.27587321e+00, -4.50606403e-03])"
      ]
     },
     "execution_count": 33,
     "metadata": {},
     "output_type": "execute_result"
    }
   ],
   "source": [
    "data=np.random.randn(100)\n",
    "data"
   ]
  },
  {
   "cell_type": "code",
   "execution_count": 34,
   "id": "6826591a-a5a4-4c24-9673-4bf64efabfeb",
   "metadata": {},
   "outputs": [
    {
     "name": "stderr",
     "output_type": "stream",
     "text": [
      "C:\\Users\\Administrator\\AppData\\Local\\Programs\\Python\\Python311\\Lib\\site-packages\\seaborn\\_oldcore.py:1498: FutureWarning: is_categorical_dtype is deprecated and will be removed in a future version. Use isinstance(dtype, CategoricalDtype) instead\n",
      "  if pd.api.types.is_categorical_dtype(vector):\n",
      "C:\\Users\\Administrator\\AppData\\Local\\Programs\\Python\\Python311\\Lib\\site-packages\\seaborn\\_oldcore.py:1119: FutureWarning: use_inf_as_na option is deprecated and will be removed in a future version. Convert inf values to NaN before operating instead.\n",
      "  with pd.option_context('mode.use_inf_as_na', True):\n",
      "C:\\Users\\Administrator\\AppData\\Local\\Programs\\Python\\Python311\\Lib\\site-packages\\seaborn\\axisgrid.py:118: UserWarning: The figure layout has changed to tight\n",
      "  self._figure.tight_layout(*args, **kwargs)\n"
     ]
    },
    {
     "data": {
      "text/plain": [
       "<seaborn.axisgrid.FacetGrid at 0x15fad920250>"
      ]
     },
     "execution_count": 34,
     "metadata": {},
     "output_type": "execute_result"
    },
    {
     "data": {
      "image/png": "[encoded data removed]",
      "text/plain": [
       "<Figure size 500x500 with 1 Axes>"
      ]
     },
     "metadata": {},
     "output_type": "display_data"
    }
   ],
   "source": [
    "import seaborn as sns\n",
    "%matplotlib inline\n",
    "sns.displot(data)"
   ]
  },
  {
   "cell_type": "code",
   "execution_count": 38,
   "id": "96964899-f205-43ba-a9ba-f900d05c0dc0",
   "metadata": {},
   "outputs": [
    {
     "name": "stderr",
     "output_type": "stream",
     "text": [
      "C:\\Users\\Administrator\\AppData\\Local\\Programs\\Python\\Python311\\Lib\\site-packages\\seaborn\\_oldcore.py:1498: FutureWarning: is_categorical_dtype is deprecated and will be removed in a future version. Use isinstance(dtype, CategoricalDtype) instead\n",
      "  if pd.api.types.is_categorical_dtype(vector):\n",
      "C:\\Users\\Administrator\\AppData\\Local\\Programs\\Python\\Python311\\Lib\\site-packages\\seaborn\\_oldcore.py:1119: FutureWarning: use_inf_as_na option is deprecated and will be removed in a future version. Convert inf values to NaN before operating instead.\n",
      "  with pd.option_context('mode.use_inf_as_na', True):\n",
      "C:\\Users\\Administrator\\AppData\\Local\\Programs\\Python\\Python311\\Lib\\site-packages\\seaborn\\axisgrid.py:118: UserWarning: The figure layout has changed to tight\n",
      "  self._figure.tight_layout(*args, **kwargs)\n"
     ]
    },
    {
     "data": {
      "text/plain": [
       "<seaborn.axisgrid.FacetGrid at 0x15fad160250>"
      ]
     },
     "execution_count": 38,
     "metadata": {},
     "output_type": "execute_result"
    },
    {
     "data": {
      "image/png": "[encoded data removed]",
      "text/plain": [
       "<Figure size 500x500 with 1 Axes>"
      ]
     },
     "metadata": {},
     "output_type": "display_data"
    }
   ],
   "source": [
    "data2=np.random.normal(size=100)\n",
    "sns.displot(data2)"
   ]
  },
  {
   "cell_type": "code",
   "execution_count": 39,
   "id": "19a5d4a9-fdd6-47bd-9f62-f6071b364bb6",
   "metadata": {},
   "outputs": [
    {
     "name": "stderr",
     "output_type": "stream",
     "text": [
      "C:\\Users\\Administrator\\AppData\\Local\\Programs\\Python\\Python311\\Lib\\site-packages\\seaborn\\_oldcore.py:1498: FutureWarning: is_categorical_dtype is deprecated and will be removed in a future version. Use isinstance(dtype, CategoricalDtype) instead\n",
      "  if pd.api.types.is_categorical_dtype(vector):\n",
      "C:\\Users\\Administrator\\AppData\\Local\\Programs\\Python\\Python311\\Lib\\site-packages\\seaborn\\_oldcore.py:1119: FutureWarning: use_inf_as_na option is deprecated and will be removed in a future version. Convert inf values to NaN before operating instead.\n",
      "  with pd.option_context('mode.use_inf_as_na', True):\n",
      "C:\\Users\\Administrator\\AppData\\Local\\Programs\\Python\\Python311\\Lib\\site-packages\\seaborn\\axisgrid.py:118: UserWarning: The figure layout has changed to tight\n",
      "  self._figure.tight_layout(*args, **kwargs)\n"
     ]
    },
    {
     "data": {
      "text/plain": [
       "<seaborn.axisgrid.FacetGrid at 0x15fad9fb350>"
      ]
     },
     "execution_count": 39,
     "metadata": {},
     "output_type": "execute_result"
    },
    {
     "data": {
      "image/png": "[encoded data removed]",
      "text/plain": [
       "<Figure size 500x500 with 1 Axes>"
      ]
     },
     "metadata": {},
     "output_type": "display_data"
    }
   ],
   "source": [
    "data2=np.random.normal(loc=175,scale=1,size=100) #loc是期望值（最中间的参考值）；scale是方差值\n",
    "sns.displot(data2)"
   ]
  },
  {
   "cell_type": "code",
   "execution_count": 40,
   "id": "05846b1f-2a6f-4a72-b560-d3efdd999d1e",
   "metadata": {},
   "outputs": [
    {
     "data": {
      "text/plain": [
       "array([[0.36765873, 0.86991628, 0.97496787, 0.12792601],\n",
       "       [0.94010068, 0.84627672, 0.91395933, 0.79419022],\n",
       "       [0.68446097, 0.52859887, 0.20875214, 0.68069919]])"
      ]
     },
     "execution_count": 40,
     "metadata": {},
     "output_type": "execute_result"
    }
   ],
   "source": [
    "np.random.random(size=(3,4))"
   ]
  },
  {
   "cell_type": "code",
   "execution_count": 41,
   "id": "4076c52a-0281-43b3-b513-787a64e89841",
   "metadata": {},
   "outputs": [
    {
     "data": {
      "text/plain": [
       "array([[-0.08241929, -0.93022412, -0.57203209,  0.73906149],\n",
       "       [ 0.22732022, -0.26745705,  0.65106112,  0.0521578 ],\n",
       "       [ 0.44463981,  0.64386102, -0.12030398, -0.07302421]])"
      ]
     },
     "execution_count": 41,
     "metadata": {},
     "output_type": "execute_result"
    }
   ],
   "source": [
    "np.random.random(size=(3,4))*2-1  #生成一个区间为1至-1的随机数"
   ]
  },
  {
   "cell_type": "markdown",
   "id": "8d61100d-86ea-4f67-9490-f3960b474b79",
   "metadata": {},
   "source": [
    "**二、Array数组属性**  \n",
    "---"
   ]
  },
  {
   "cell_type": "markdown",
   "id": "b3604389-5b03-4cbd-86f8-c504fd6e5b51",
   "metadata": {},
   "source": [
    "**（1）4个属性**    \n",
    "1、ndim：维度  \n",
    "2、shape：形状（各维度的长度）  \n",
    "3、size：总长度  \n",
    "4、dtype：元素类型 \n",
    "\n",
    "**（2）操作例子**  "
   ]
  },
  {
   "cell_type": "code",
   "execution_count": 45,
   "id": "8b81dd67-d15e-471b-a8e0-639607291805",
   "metadata": {},
   "outputs": [
    {
     "data": {
      "text/plain": [
       "array([[4, 9, 7, 6],\n",
       "       [3, 5, 3, 8],\n",
       "       [3, 5, 0, 4]])"
      ]
     },
     "execution_count": 45,
     "metadata": {},
     "output_type": "execute_result"
    }
   ],
   "source": [
    "array=np.random.randint(0,10,size=(3,4))\n",
    "array"
   ]
  },
  {
   "cell_type": "code",
   "execution_count": 53,
   "id": "4cb2e7bf-1c4e-49f4-a2fd-0daba01b5d57",
   "metadata": {},
   "outputs": [
    {
     "data": {
      "text/plain": [
       "2"
      ]
     },
     "metadata": {},
     "output_type": "display_data"
    },
    {
     "data": {
      "text/plain": [
       "(3, 4)"
      ]
     },
     "metadata": {},
     "output_type": "display_data"
    },
    {
     "data": {
      "text/plain": [
       "12"
      ]
     },
     "metadata": {},
     "output_type": "display_data"
    },
    {
     "data": {
      "text/plain": [
       "dtype('int32')"
      ]
     },
     "metadata": {},
     "output_type": "display_data"
    }
   ],
   "source": [
    "display(array.ndim,array.shape,array.size,array.dtype)"
   ]
  },
  {
   "cell_type": "markdown",
   "id": "9fe3509e-269a-4a2f-8936-a9595366edb5",
   "metadata": {},
   "source": [
    "**三、Array数组基本操作**  \n",
    "---"
   ]
  },
  {
   "cell_type": "markdown",
   "id": "4ff874c9-5447-4d36-8674-0f25666fcf0d",
   "metadata": {},
   "source": [
    "**（1）索引**  \n",
    "一维与列表完全一致，多维时同理  "
   ]
  },
  {
   "cell_type": "code",
   "execution_count": 56,
   "id": "9d1a9a1b-81d0-4228-8e4f-78b1fb38fa62",
   "metadata": {},
   "outputs": [
    {
     "data": {
      "text/plain": [
       "'A'"
      ]
     },
     "execution_count": 56,
     "metadata": {},
     "output_type": "execute_result"
    }
   ],
   "source": [
    "l1=list('ABCDE')\n",
    "l1[0]"
   ]
  },
  {
   "cell_type": "code",
   "execution_count": 58,
   "id": "fad1b7a3-2f30-4de5-be16-daeee3bfa6bc",
   "metadata": {},
   "outputs": [
    {
     "data": {
      "text/plain": [
       "'A'"
      ]
     },
     "execution_count": 58,
     "metadata": {},
     "output_type": "execute_result"
    }
   ],
   "source": [
    "#创建一维数组\n",
    "n1=np.array(l1)\n",
    "n1[0]"
   ]
  },
  {
   "cell_type": "code",
   "execution_count": 60,
   "id": "3d2aaebb-11d6-4196-bd06-1aa0b0b17a35",
   "metadata": {},
   "outputs": [
    {
     "data": {
      "text/plain": [
       "array([[ 3, 12, 33, 99, 85],\n",
       "       [93, 39, 31, 38, 18],\n",
       "       [90, 70, 92, 59, 78],\n",
       "       [76, 72, 16, 71, 51],\n",
       "       [29, 53, 99, 75, 88]])"
      ]
     },
     "execution_count": 60,
     "metadata": {},
     "output_type": "execute_result"
    }
   ],
   "source": [
    "#定义二维数组\n",
    "n2=np.random.randint(0,100,size=(5,5))\n",
    "n2"
   ]
  },
  {
   "cell_type": "code",
   "execution_count": null,
   "id": "5aacc6b1-8828-4575-9014-57f91f6272f2",
   "metadata": {},
   "outputs": [],
   "source": [
    "#只读  可以用间接访问\n",
    "#赋值  必须用直接访问"
   ]
  },
  {
   "cell_type": "code",
   "execution_count": 61,
   "id": "510e508c-af1f-49dc-a877-80db3d4060cb",
   "metadata": {},
   "outputs": [
    {
     "data": {
      "text/plain": [
       "33"
      ]
     },
     "execution_count": 61,
     "metadata": {},
     "output_type": "execute_result"
    }
   ],
   "source": [
    "#python列表访问方式，属于间接访问方式\n",
    "n2[0][2]"
   ]
  },
  {
   "cell_type": "code",
   "execution_count": 62,
   "id": "0907c13a-291d-485f-986b-7ddedbc0e8d2",
   "metadata": {},
   "outputs": [
    {
     "data": {
      "text/plain": [
       "59"
      ]
     },
     "execution_count": 62,
     "metadata": {},
     "output_type": "execute_result"
    }
   ],
   "source": [
    "#numpy的访问方法，属于直接访问方式\n",
    "n2[2,3]"
   ]
  },
  {
   "cell_type": "code",
   "execution_count": 63,
   "id": "f180deb0-5c44-4b95-84c8-f722781351d1",
   "metadata": {},
   "outputs": [
    {
     "data": {
      "text/plain": [
       "array([93, 39, 31, 38, 18])"
      ]
     },
     "execution_count": 63,
     "metadata": {},
     "output_type": "execute_result"
    }
   ],
   "source": [
    "#行访问\n",
    "n2[1]"
   ]
  },
  {
   "cell_type": "code",
   "execution_count": 64,
   "id": "7f38647b-974f-476d-8a93-84277af66db9",
   "metadata": {},
   "outputs": [
    {
     "data": {
      "text/plain": [
       "array([12, 39, 70, 72, 53])"
      ]
     },
     "execution_count": 64,
     "metadata": {},
     "output_type": "execute_result"
    }
   ],
   "source": [
    "#列访问\n",
    "n2[:,1]"
   ]
  },
  {
   "cell_type": "code",
   "execution_count": 65,
   "id": "d9bc7ea2-c81a-4bae-b198-147cccbedcf9",
   "metadata": {},
   "outputs": [
    {
     "data": {
      "text/plain": [
       "array([[93, 39, 31, 38, 18],\n",
       "       [90, 70, 92, 59, 78]])"
      ]
     },
     "execution_count": 65,
     "metadata": {},
     "output_type": "execute_result"
    }
   ],
   "source": [
    "#用区间下标号方式访问多个元素\n",
    "n2[1:3]"
   ]
  },
  {
   "cell_type": "code",
   "execution_count": 66,
   "id": "d67475db-f736-49cc-ba9b-d76fe6f1f46e",
   "metadata": {},
   "outputs": [
    {
     "data": {
      "text/plain": [
       "array([[39, 31],\n",
       "       [70, 92]])"
      ]
     },
     "execution_count": 66,
     "metadata": {},
     "output_type": "execute_result"
    }
   ],
   "source": [
    "#用区间下标号方式访问多个元素\n",
    "n2[1:3,1:3]"
   ]
  },
  {
   "cell_type": "code",
   "execution_count": 70,
   "id": "e58efc98-3356-481b-9090-e139d78866e4",
   "metadata": {},
   "outputs": [
    {
     "data": {
      "text/plain": [
       "array(['B', 'D', 'C', 'B'], dtype='<U1')"
      ]
     },
     "execution_count": 70,
     "metadata": {},
     "output_type": "execute_result"
    }
   ],
   "source": [
    "#用列表方式访问一维数组多个元素\n",
    "n3=np.array(['A','B','C','D','E'])\n",
    "index=[1,3,2,1]\n",
    "n3[index]"
   ]
  },
  {
   "cell_type": "code",
   "execution_count": 74,
   "id": "cd28bb27-48a8-4710-9a4a-3b463f2d957b",
   "metadata": {},
   "outputs": [
    {
     "data": {
      "text/plain": [
       "array([[ 3, 12, 33, 99, 85],\n",
       "       [93, 39, 31, 38, 18],\n",
       "       [90, 70, 92, 59, 78],\n",
       "       [76, 72, 16, 71, 51],\n",
       "       [29, 53, 99, 75, 88]])"
      ]
     },
     "execution_count": 74,
     "metadata": {},
     "output_type": "execute_result"
    }
   ],
   "source": [
    "n2"
   ]
  },
  {
   "cell_type": "code",
   "execution_count": 88,
   "id": "41ac93c4-4a5d-45c4-a201-0fcb7496303c",
   "metadata": {},
   "outputs": [
    {
     "data": {
      "text/plain": [
       "array([[39, 38],\n",
       "       [70, 59]])"
      ]
     },
     "execution_count": 88,
     "metadata": {},
     "output_type": "execute_result"
    }
   ],
   "source": [
    "#用列表方式访问二维数组多个元素，但只能用python的数组方式访问“名称[][]”，而非numpy方式访问\n",
    "n2[[1,2]][:,[1,3]]"
   ]
  },
  {
   "cell_type": "code",
   "execution_count": 91,
   "id": "4634b707-5f60-485e-9e47-901d89119832",
   "metadata": {},
   "outputs": [
    {
     "data": {
      "text/plain": [
       "array(['A', 'C'], dtype='<U1')"
      ]
     },
     "execution_count": 91,
     "metadata": {},
     "output_type": "execute_result"
    }
   ],
   "source": [
    "#用布尔列表作为下标来访问数组元素，只有True才读取，False不读取\n",
    "index2=[True,False,True,False,False]  #长度一定要与读取的数组长度一致才行（二维的也要一致）\n",
    "n3[index2]"
   ]
  },
  {
   "cell_type": "markdown",
   "id": "b3082823-ab58-4f93-abe4-d9e69edfb558",
   "metadata": {},
   "source": [
    "**总结：**  \n",
    "1、numpy可以保持与python列表的访问方法，但是要注意高维数组的访问可能存在的潜在风险  \n",
    "2、多维数组直接方法元素：以列表的方式表示索引[d0_loc,d1_loc,....,dn_loc]  \n",
    "3、多维数组的行访问：n[row_index]，访问多行：n[[row_index1,row_index2,...]]  \n",
    "4、多维数组的列访问：n[col_index]，访问多列：n[[col_index1,col_index2,...]]  \n",
    "5、布尔列表访问：  \n",
    "    行访问：n[boollist]  \n",
    "    列访问：n[:,boollist]  \n",
    "    【注意】boollist的长度必须与访问的数组维度的长度一致才行\n"
   ]
  },
  {
   "cell_type": "markdown",
   "id": "3c280aa7-e4c3-4621-9ea4-bbc46f067d83",
   "metadata": {},
   "source": [
    "**（2）切片**  \n",
    "一维与列表完全一致，多维时同理  \n",
    "将数据反转，例如[1,2,3,4]--->[4,3,2,1]"
   ]
  },
  {
   "cell_type": "code",
   "execution_count": 92,
   "id": "f4859437-50f2-4891-802c-dc6f169797ae",
   "metadata": {},
   "outputs": [
    {
     "data": {
      "text/plain": [
       "array(['B', 'C', 'D'], dtype='<U1')"
      ]
     },
     "execution_count": 92,
     "metadata": {},
     "output_type": "execute_result"
    }
   ],
   "source": [
    "#一维数组可以切片\n",
    "n1[1:4]"
   ]
  },
  {
   "cell_type": "code",
   "execution_count": 93,
   "id": "c0416dc1-1c3b-4a9d-a1ad-5311cf42b328",
   "metadata": {},
   "outputs": [
    {
     "data": {
      "text/plain": [
       "{'python': 199, 'java': 200, 'c': 30}"
      ]
     },
     "execution_count": 93,
     "metadata": {},
     "output_type": "execute_result"
    }
   ],
   "source": [
    "dic={\n",
    "    'python':199,\n",
    "    'java':200,\n",
    "    'c':30\n",
    "}\n",
    "dic"
   ]
  },
  {
   "cell_type": "code",
   "execution_count": 95,
   "id": "cf2c6d96-d8a6-4846-a9c8-03d8819c335c",
   "metadata": {
    "scrolled": true
   },
   "outputs": [
    {
     "ename": "TypeError",
     "evalue": "unhashable type: 'slice'",
     "output_type": "error",
     "traceback": [
      "\u001b[1;31m---------------------------------------------------------------------------\u001b[0m",
      "\u001b[1;31mTypeError\u001b[0m                                 Traceback (most recent call last)",
      "Cell \u001b[1;32mIn[95], line 1\u001b[0m\n\u001b[1;32m----> 1\u001b[0m \u001b[43mdic\u001b[49m\u001b[43m[\u001b[49m\u001b[38;5;124;43m'\u001b[39;49m\u001b[38;5;124;43mjava\u001b[39;49m\u001b[38;5;124;43m'\u001b[39;49m\u001b[43m:\u001b[49m\u001b[38;5;124;43m'\u001b[39;49m\u001b[38;5;124;43mc\u001b[39;49m\u001b[38;5;124;43m'\u001b[39;49m\u001b[43m]\u001b[49m\n",
      "\u001b[1;31mTypeError\u001b[0m: unhashable type: 'slice'"
     ]
    }
   ],
   "source": [
    "#字典不能切片\n",
    "dic['java':'c']"
   ]
  },
  {
   "cell_type": "code",
   "execution_count": 96,
   "id": "4f9ae4d1-6da5-4e49-ae6d-2757a73d166c",
   "metadata": {},
   "outputs": [
    {
     "data": {
      "text/plain": [
       "array([[12, 33],\n",
       "       [39, 31]])"
      ]
     },
     "execution_count": 96,
     "metadata": {},
     "output_type": "execute_result"
    }
   ],
   "source": [
    "#二维数组可以切片\n",
    "n2[0:2,1:3]"
   ]
  },
  {
   "cell_type": "code",
   "execution_count": 97,
   "id": "0a1a30aa-97b9-4771-83ea-aeaa28062072",
   "metadata": {},
   "outputs": [
    {
     "data": {
      "text/plain": [
       "array([10, 24,  6, 10, 82, 28, 90, 59, 17, 50])"
      ]
     },
     "execution_count": 97,
     "metadata": {},
     "output_type": "execute_result"
    }
   ],
   "source": [
    "n4=np.random.randint(0,100,size=10)\n",
    "n4"
   ]
  },
  {
   "cell_type": "code",
   "execution_count": 99,
   "id": "63c24f87-e896-43aa-bafc-3f448bb585ad",
   "metadata": {},
   "outputs": [
    {
     "data": {
      "text/plain": [
       "array([10,  6, 82, 90, 17])"
      ]
     },
     "execution_count": 99,
     "metadata": {},
     "output_type": "execute_result"
    }
   ],
   "source": [
    "n4[::2]  #“  ::  ”的意思是指定切片的步长。eg ::2意思是每隔2个元素切片一个"
   ]
  },
  {
   "cell_type": "code",
   "execution_count": 100,
   "id": "990483aa-f6e0-4528-96cc-3df39def7009",
   "metadata": {},
   "outputs": [
    {
     "data": {
      "text/plain": [
       "array([50, 17, 59, 90, 28, 82, 10,  6, 24, 10])"
      ]
     },
     "execution_count": 100,
     "metadata": {},
     "output_type": "execute_result"
    }
   ],
   "source": [
    "n4[::-1]  #负数表示倒着切片<自右至左>，如果是-1即表示倒序排列了"
   ]
  },
  {
   "cell_type": "code",
   "execution_count": 110,
   "id": "c98ad3fd-8766-4d5b-afdc-d2ef6037eb26",
   "metadata": {},
   "outputs": [
    {
     "data": {
      "text/plain": [
       "array([[[5, 6, 2],\n",
       "        [0, 9, 8],\n",
       "        [2, 6, 9],\n",
       "        [2, 1, 2]],\n",
       "\n",
       "       [[5, 2, 5],\n",
       "        [0, 6, 5],\n",
       "        [3, 0, 2],\n",
       "        [2, 7, 3]],\n",
       "\n",
       "       [[5, 8, 9],\n",
       "        [0, 6, 6],\n",
       "        [7, 0, 6],\n",
       "        [8, 8, 4]]])"
      ]
     },
     "execution_count": 110,
     "metadata": {},
     "output_type": "execute_result"
    }
   ],
   "source": [
    "n5=np.random.randint(0,10,size=(3,4,3))\n",
    "n5"
   ]
  },
  {
   "cell_type": "code",
   "execution_count": 111,
   "id": "698e9120-7c06-44ab-b91a-c9afa9351ba2",
   "metadata": {},
   "outputs": [
    {
     "data": {
      "text/plain": [
       "array([[[5, 8, 9],\n",
       "        [0, 6, 6],\n",
       "        [7, 0, 6],\n",
       "        [8, 8, 4]],\n",
       "\n",
       "       [[5, 2, 5],\n",
       "        [0, 6, 5],\n",
       "        [3, 0, 2],\n",
       "        [2, 7, 3]],\n",
       "\n",
       "       [[5, 6, 2],\n",
       "        [0, 9, 8],\n",
       "        [2, 6, 9],\n",
       "        [2, 1, 2]]])"
      ]
     },
     "execution_count": 111,
     "metadata": {},
     "output_type": "execute_result"
    }
   ],
   "source": [
    "#意思是对第一维的行数据倒序排列\n",
    "n5[::-1]"
   ]
  },
  {
   "cell_type": "code",
   "execution_count": 113,
   "id": "9347281f-96f8-412f-86ae-427d1177ffb2",
   "metadata": {},
   "outputs": [
    {
     "data": {
      "text/plain": [
       "array([[[2, 1, 2],\n",
       "        [2, 6, 9],\n",
       "        [0, 9, 8],\n",
       "        [5, 6, 2]],\n",
       "\n",
       "       [[2, 7, 3],\n",
       "        [3, 0, 2],\n",
       "        [0, 6, 5],\n",
       "        [5, 2, 5]],\n",
       "\n",
       "       [[8, 8, 4],\n",
       "        [7, 0, 6],\n",
       "        [0, 6, 6],\n",
       "        [5, 8, 9]]])"
      ]
     },
     "execution_count": 113,
     "metadata": {},
     "output_type": "execute_result"
    }
   ],
   "source": [
    "#意思是对第二维的行数据倒序排列\n",
    "n5[:,::-1]"
   ]
  }
 ],
 "metadata": {
  "kernelspec": {
   "display_name": "Python 3 (ipykernel)",
   "language": "python",
   "name": "python3"
  },
  "language_info": {
   "codemirror_mode": {
    "name": "ipython",
    "version": 3
   },
   "file_extension": ".py",
   "mimetype": "text/x-python",
   "name": "python",
   "nbconvert_exporter": "python",
   "pygments_lexer": "ipython3",
   "version": "3.11.5"
  }
 },
 "nbformat": 4,
 "nbformat_minor": 5
}
