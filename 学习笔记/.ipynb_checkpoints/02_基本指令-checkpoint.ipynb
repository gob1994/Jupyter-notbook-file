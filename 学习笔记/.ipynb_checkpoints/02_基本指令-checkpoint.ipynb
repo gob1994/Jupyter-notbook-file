{
 "cells": [
  {
   "cell_type": "markdown",
   "id": "026d9fe0-5e69-4e6f-b8be-2712f1cd3e5c",
   "metadata": {},
   "source": [
    "***Ipython部分***   \n",
    "---"
   ]
  },
  {
   "cell_type": "markdown",
   "id": "0d27b4a4-5baa-4ce1-9056-d1510428178c",
   "metadata": {},
   "source": [
    "**一、查看帮助提示**\n",
    "---"
   ]
  },
  {
   "cell_type": "code",
   "execution_count": 2,
   "id": "fc2b6b3d-7555-4766-8511-e0ba3ab833d6",
   "metadata": {},
   "outputs": [
    {
     "name": "stdout",
     "output_type": "stream",
     "text": [
      "Help on built-in function len in module builtins:\n",
      "\n",
      "len(obj, /)\n",
      "    Return the number of items in a container.\n",
      "\n"
     ]
    },
    {
     "data": {
      "text/plain": [
       "\u001b[1;31mSignature:\u001b[0m \u001b[0mlen\u001b[0m\u001b[1;33m(\u001b[0m\u001b[0mobj\u001b[0m\u001b[1;33m,\u001b[0m \u001b[1;33m/\u001b[0m\u001b[1;33m)\u001b[0m\u001b[1;33m\u001b[0m\u001b[1;33m\u001b[0m\u001b[0m\n",
       "\u001b[1;31mDocstring:\u001b[0m Return the number of items in a container.\n",
       "\u001b[1;31mType:\u001b[0m      builtin_function_or_method"
      ]
     },
     "metadata": {},
     "output_type": "display_data"
    }
   ],
   "source": [
    "help(len)"
   ]
  },
  {
   "cell_type": "code",
   "execution_count": 3,
   "id": "1b066c37-67c6-4c95-9578-c7290612e24e",
   "metadata": {},
   "outputs": [
    {
     "data": {
      "text/plain": [
       "\u001b[1;31mSignature:\u001b[0m \u001b[0mlen\u001b[0m\u001b[1;33m(\u001b[0m\u001b[0mobj\u001b[0m\u001b[1;33m,\u001b[0m \u001b[1;33m/\u001b[0m\u001b[1;33m)\u001b[0m\u001b[1;33m\u001b[0m\u001b[1;33m\u001b[0m\u001b[0m\n",
       "\u001b[1;31mDocstring:\u001b[0m Return the number of items in a container.\n",
       "\u001b[1;31mType:\u001b[0m      builtin_function_or_method"
      ]
     },
     "metadata": {},
     "output_type": "display_data"
    }
   ],
   "source": [
    "len?"
   ]
  },
  {
   "cell_type": "markdown",
   "id": "583ce9e4-ee40-4161-b2bf-4c3771e204ca",
   "metadata": {},
   "source": [
    "**1、len函数名称后面加shift+tab来显示提升**  \n",
    "**2、Tab自动补全功能**"
   ]
  },
  {
   "cell_type": "markdown",
   "id": "c5630365-66d6-466e-9101-4d9d70fcfc57",
   "metadata": {},
   "source": [
    "**二、魔法命令**\n",
    "---"
   ]
  },
  {
   "cell_type": "markdown",
   "id": "e1686a0c-0085-44a8-8315-dd3ccc51dfcc",
   "metadata": {},
   "source": [
    "%run *.py     运行外部python文件（默认当前目录，最好加上绝对路径）\n",
    "%who\n",
    "%whos\n",
    "%who_ls（查看变量信息，以列表形式查看）\n",
    "%time statement(查看运行时间。注意：statement代指的是需要检测的语句或者函数名称)\n",
    "%timeit statement(查看多次运行平均时间。注意：statement代指的是需要检测的语句或者函数名称)\n",
    "%%time statement (同时查看多个语句的执行耗费时间。一般适用于耗时长)\n",
    "%%timeit statement (同时查看多个语句的执行耗费时间的平均值。一般适用于耗时短)\n",
    "\n",
    "计量数据时\n",
    "1、不稳定的数据应该是取均值+标准方差\n",
    "2、稳定的数据不需要\n",
    "\n",
    "%pwd （查看当前文档路径）\n",
    "%lsmagic（查看所有魔法指令的帮助）"
   ]
  },
  {
   "cell_type": "code",
   "execution_count": 10,
   "id": "3754cb1d-70a9-415c-bff8-92568a22e217",
   "metadata": {},
   "outputs": [
    {
     "name": "stdout",
     "output_type": "stream",
     "text": [
      "3.85 µs ± 12.1 ns per loop (mean ± std. dev. of 7 runs, 100,000 loops each)\n"
     ]
    }
   ],
   "source": [
    "def abc(num):\n",
    "    r=0\n",
    "    for x in range(num):\n",
    "        r+=x\n",
    "    return r\n",
    "%timeit abc(100)"
   ]
  },
  {
   "cell_type": "code",
   "execution_count": 13,
   "id": "4ba26910-d615-41f4-ab6c-eadc8eee2ab9",
   "metadata": {},
   "outputs": [
    {
     "name": "stdout",
     "output_type": "stream",
     "text": [
      "48.3 µs ± 80.5 ns per loop (mean ± std. dev. of 7 runs, 10,000 loops each)\n"
     ]
    }
   ],
   "source": [
    "%%timeit\n",
    "abc(100)\n",
    "abc(1000)"
   ]
  },
  {
   "cell_type": "markdown",
   "id": "26c2eb3d-2ddd-4126-8e16-372f14a19c1a",
   "metadata": {},
   "source": [
    "**三、输入输出** \n",
    "---"
   ]
  },
  {
   "cell_type": "markdown",
   "id": "d66c1535-003f-407c-a923-92d4da741dfc",
   "metadata": {},
   "source": [
    "**1、下面的print不是输出，而是打印显示**"
   ]
  },
  {
   "cell_type": "code",
   "execution_count": 15,
   "id": "d8b77b09-81e4-4b51-9229-60172f272eb2",
   "metadata": {},
   "outputs": [
    {
     "name": "stdout",
     "output_type": "stream",
     "text": [
      "10\n"
     ]
    }
   ],
   "source": [
    "a=10\n",
    "print(a)"
   ]
  },
  {
   "cell_type": "markdown",
   "id": "364bf873-f373-447e-8b7e-c121a042373c",
   "metadata": {},
   "source": [
    "**2、没有print而是直接用变量名称来运行显示的内容才是“输出”**"
   ]
  },
  {
   "cell_type": "code",
   "execution_count": 23,
   "id": "1c0460d3-6575-48bb-af20-90d9226596cc",
   "metadata": {},
   "outputs": [
    {
     "data": {
      "text/plain": [
       "10"
      ]
     },
     "execution_count": 23,
     "metadata": {},
     "output_type": "execute_result"
    }
   ],
   "source": [
    "a"
   ]
  },
  {
   "cell_type": "markdown",
   "id": "7b24653a-4211-4262-9fe4-1f44ddcf23e6",
   "metadata": {},
   "source": [
    "**3、使用下划线表示输出**  \n",
    "\"_\" 表示上一个输出  \n",
    "\"_23\" 表示带有23的行号的那一行"
   ]
  },
  {
   "cell_type": "code",
   "execution_count": 24,
   "id": "10395708-b255-44d3-a59c-add5af6f73fd",
   "metadata": {},
   "outputs": [
    {
     "data": {
      "text/plain": [
       "10"
      ]
     },
     "execution_count": 24,
     "metadata": {},
     "output_type": "execute_result"
    }
   ],
   "source": [
    "_"
   ]
  },
  {
   "cell_type": "code",
   "execution_count": 27,
   "id": "78af297e-7050-477a-9d01-49aad5c8ae26",
   "metadata": {},
   "outputs": [
    {
     "data": {
      "text/plain": [
       "10"
      ]
     },
     "execution_count": 27,
     "metadata": {},
     "output_type": "execute_result"
    }
   ],
   "source": [
    "_23  #注意：23指的是一定要是属于输出的那行的行号才行"
   ]
  }
 ],
 "metadata": {
  "kernelspec": {
   "display_name": "Python 3 (ipykernel)",
   "language": "python",
   "name": "python3"
  },
  "language_info": {
   "codemirror_mode": {
    "name": "ipython",
    "version": 3
   },
   "file_extension": ".py",
   "mimetype": "text/x-python",
   "name": "python",
   "nbconvert_exporter": "python",
   "pygments_lexer": "ipython3",
   "version": "3.11.5"
  }
 },
 "nbformat": 4,
 "nbformat_minor": 5
}
