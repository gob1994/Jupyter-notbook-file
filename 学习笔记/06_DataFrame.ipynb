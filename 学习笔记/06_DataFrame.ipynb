{
 "cells": [
  {
   "cell_type": "code",
   "execution_count": 1,
   "id": "658b0c6c-c081-4822-9daf-8139e8104b75",
   "metadata": {},
   "outputs": [
    {
     "data": {
      "text/html": [
       "<div>\n",
       "<style scoped>\n",
       "    .dataframe tbody tr th:only-of-type {\n",
       "        vertical-align: middle;\n",
       "    }\n",
       "\n",
       "    .dataframe tbody tr th {\n",
       "        vertical-align: top;\n",
       "    }\n",
       "\n",
       "    .dataframe thead th {\n",
       "        text-align: right;\n",
       "    }\n",
       "</style>\n",
       "<table border=\"1\" class=\"dataframe\">\n",
       "  <thead>\n",
       "    <tr style=\"text-align: right;\">\n",
       "      <th></th>\n",
       "      <th>A</th>\n",
       "      <th>B</th>\n",
       "      <th>C</th>\n",
       "    </tr>\n",
       "  </thead>\n",
       "  <tbody>\n",
       "    <tr>\n",
       "      <th>0</th>\n",
       "      <td>8</td>\n",
       "      <td>4</td>\n",
       "      <td>8</td>\n",
       "    </tr>\n",
       "    <tr>\n",
       "      <th>1</th>\n",
       "      <td>6</td>\n",
       "      <td>1</td>\n",
       "      <td>1</td>\n",
       "    </tr>\n",
       "    <tr>\n",
       "      <th>2</th>\n",
       "      <td>8</td>\n",
       "      <td>6</td>\n",
       "      <td>7</td>\n",
       "    </tr>\n",
       "  </tbody>\n",
       "</table>\n",
       "</div>"
      ],
      "text/plain": [
       "   A  B  C\n",
       "0  8  4  8\n",
       "1  6  1  1\n",
       "2  8  6  7"
      ]
     },
     "execution_count": 1,
     "metadata": {},
     "output_type": "execute_result"
    }
   ],
   "source": [
    "import pandas as pd\n",
    "import numpy as np\n",
    "from pandas import Series,DataFrame\n",
    "df=DataFrame(data=np.random.randint(1,10,size=(3,3)),columns=list('ABC'))\n",
    "df"
   ]
  },
  {
   "cell_type": "code",
   "execution_count": 2,
   "id": "92994e5c-0aef-4dd1-8f25-a5fbb66e6e45",
   "metadata": {},
   "outputs": [
    {
     "data": {
      "text/plain": [
       "[0, 1, 2, 3, 4]"
      ]
     },
     "execution_count": 2,
     "metadata": {},
     "output_type": "execute_result"
    }
   ],
   "source": [
    "#自动根据list的循环方法\n",
    "[i for i in range(5)]"
   ]
  },
  {
   "cell_type": "code",
   "execution_count": 3,
   "id": "ce49f6c9-9cc8-4103-bb37-7ad0fe7ca80a",
   "metadata": {},
   "outputs": [
    {
     "data": {
      "text/plain": [
       "['eric', 100, True]"
      ]
     },
     "execution_count": 3,
     "metadata": {},
     "output_type": "execute_result"
    }
   ],
   "source": [
    "#循环自动构建list列表的方法\n",
    "l2=['eric',100,True]\n",
    "[l2[i] for i in range(3)]"
   ]
  },
  {
   "cell_type": "code",
   "execution_count": 4,
   "id": "db4c7909-172c-4dfc-aa8f-6e925a96f68a",
   "metadata": {},
   "outputs": [
    {
     "data": {
      "text/plain": [
       "['a', 'b', 'c', '1', '2', '3']"
      ]
     },
     "execution_count": 4,
     "metadata": {},
     "output_type": "execute_result"
    }
   ],
   "source": [
    "#利用字符串来构建list列表，但局限在每个字符为一个对象\n",
    "list('abc123')"
   ]
  },
  {
   "cell_type": "code",
   "execution_count": 5,
   "id": "6915c10b-6fdc-4df6-a6a5-00837bcb9546",
   "metadata": {},
   "outputs": [
    {
     "data": {
      "text/plain": [
       "{0: ['A0', 'B0', 'C0'],\n",
       " 1: ['A1', 'B1', 'C1'],\n",
       " 2: ['A2', 'B2', 'C2'],\n",
       " 3: ['A3', 'B3', 'C3'],\n",
       " 4: ['A4', 'B4', 'C4']}"
      ]
     },
     "execution_count": 5,
     "metadata": {},
     "output_type": "execute_result"
    }
   ],
   "source": [
    "{k:['{}{}'.format(i,k) for i in list('ABC')] for k in range(5)}"
   ]
  },
  {
   "cell_type": "code",
   "execution_count": 6,
   "id": "f88131dc-862f-43cf-9fd0-aef428888479",
   "metadata": {},
   "outputs": [
    {
     "data": {
      "text/plain": [
       "{0: ['A0', 'B0', 'C0'],\n",
       " 1: ['A1', 'B1', 'C1'],\n",
       " 2: ['A2', 'B2', 'C2'],\n",
       " 3: ['A3', 'B3', 'C3'],\n",
       " 4: ['A4', 'B4', 'C4']}"
      ]
     },
     "execution_count": 6,
     "metadata": {},
     "output_type": "execute_result"
    }
   ],
   "source": [
    "{k:['%s%s'%(i,k) for i in list('ABC')] for k in range(5)}"
   ]
  },
  {
   "cell_type": "code",
   "execution_count": 7,
   "id": "2f3345d1-3433-47da-b8a1-7f9a24e985cf",
   "metadata": {},
   "outputs": [
    {
     "data": {
      "text/plain": [
       "{0: ['a0', 'b0', 'c0'],\n",
       " 1: ['a1', 'b1', 'c1'],\n",
       " 2: ['a2', 'b2', 'c2'],\n",
       " 3: ['a3', 'b3', 'c3'],\n",
       " 4: ['a4', 'b4', 'c4']}"
      ]
     },
     "execution_count": 7,
     "metadata": {},
     "output_type": "execute_result"
    }
   ],
   "source": [
    "{k:['%s%s'%(i,k) for i in list('abc')] for k in range(5)}"
   ]
  }
 ],
 "metadata": {
  "kernelspec": {
   "display_name": "Python 3 (ipykernel)",
   "language": "python",
   "name": "python3"
  },
  "language_info": {
   "codemirror_mode": {
    "name": "ipython",
    "version": 3
   },
   "file_extension": ".py",
   "mimetype": "text/x-python",
   "name": "python",
   "nbconvert_exporter": "python",
   "pygments_lexer": "ipython3",
   "version": "3.11.5"
  }
 },
 "nbformat": 4,
 "nbformat_minor": 5
}
