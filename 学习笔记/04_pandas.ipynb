{
 "cells": [
  {
   "cell_type": "markdown",
   "id": "634a0ccf-a199-4421-a996-79b27d015553",
   "metadata": {},
   "source": [
    "***Pandas数据结构***\n",
    "---"
   ]
  },
  {
   "cell_type": "markdown",
   "id": "d7a28d50-dbb1-4f80-ab3d-83bfadb76b31",
   "metadata": {},
   "source": [
    "**（1）数据分析三剑客（导入库）**"
   ]
  },
  {
   "cell_type": "code",
   "execution_count": 3,
   "id": "86f26df7-39b6-44eb-812a-81cf696efe7a",
   "metadata": {},
   "outputs": [],
   "source": [
    "#提供数据分析业务处理的函数和类型\n",
    "import pandas as pd\n",
    "#提供数据分析的运算基础\n",
    "import numpy as np\n",
    "#提供数据分析可视化的函数\n",
    "import matplotlib.pyplot as plt\n",
    "#简化调用Series,DataFrame功能的引入\n",
    "from pandas import Series,DataFrame\n",
    "#指定绘图位置为当前文本文档（实现把图表绘制显示在此界面）\n",
    "%matplotlib inline"
   ]
  },
  {
   "cell_type": "markdown",
   "id": "b6114825-3de9-45e1-86ce-aa6d544b68e3",
   "metadata": {},
   "source": [
    "**（2）Series一维对象**  \n",
    "这是类似一维数组的对象，由下面两个部分组成：  \n",
    "value：一组数据（array类型）  \n",
    "index：相关的数据索引标签"
   ]
  },
  {
   "cell_type": "markdown",
   "id": "9a4e12d2-1ab9-461a-9f4c-9d02c490f761",
   "metadata": {},
   "source": [
    "Series(有序，类似数组，一维)\n",
    "（index     data     key）  \n",
    "隐式索引  data     index\n",
    "0         15       lucy\n",
    "1         65       mery\n",
    "2         85       tom\n",
    "3         14       jack\n",
    "4         2        tony\n",
    "5         90       ironman\n"
   ]
  },
  {
   "cell_type": "markdown",
   "id": "65df00d2-f89a-418b-8a01-44fa3ec3d1ba",
   "metadata": {},
   "source": [
    "**总结：**  \n",
    "1、能键值对访问（类似字典）  \n",
    "2、能索引访问  \n",
    "3、有序一维"
   ]
  },
  {
   "cell_type": "markdown",
   "id": "19014ea0-322e-4953-9e16-2d98c64cd58f",
   "metadata": {},
   "source": [
    "**（3）创建Series对象方法**  \n",
    "1、由list列表或numpy数组创建  \n",
    " Series(data=,index=)"
   ]
  },
  {
   "cell_type": "code",
   "execution_count": 4,
   "id": "227068d0-55f2-4252-8e03-e6565a03d4e7",
   "metadata": {},
   "outputs": [],
   "source": [
    "#<1>用list列表来创建Series对象\n",
    "data1=[1,2,3,4,5]"
   ]
  },
  {
   "cell_type": "code",
   "execution_count": 8,
   "id": "6c8a60a6-d24d-4521-9520-0630966c2a4e",
   "metadata": {},
   "outputs": [
    {
     "data": {
      "text/plain": [
       "array([1, 2, 3, 4, 5])"
      ]
     },
     "execution_count": 8,
     "metadata": {},
     "output_type": "execute_result"
    }
   ],
   "source": [
    "#注意：这是numpy中的数组，虽然它与Series的显示结果相同，但类型不同；所以他俩的属性和增删改查的方法也就不同\n",
    "np.array(data1)"
   ]
  },
  {
   "cell_type": "code",
   "execution_count": 12,
   "id": "9931309a-66a1-424c-9fad-35da6d941026",
   "metadata": {},
   "outputs": [
    {
     "data": {
      "text/plain": [
       "0    1\n",
       "1    2\n",
       "2    3\n",
       "3    4\n",
       "4    5\n",
       "dtype: int64"
      ]
     },
     "execution_count": 12,
     "metadata": {},
     "output_type": "execute_result"
    }
   ],
   "source": [
    "#如果没有显式指定index，则以隐式索引来填充index\n",
    "#s1与data1两者内容存取是属于副本关系，即非共享，是两个独立的内存存储空间；一旦修改其中一个值，另外一个副本的对应值不变\n",
    "s1=Series(data=data1)\n",
    "s1"
   ]
  },
  {
   "cell_type": "code",
   "execution_count": 9,
   "id": "9b1fbf7c-0d38-4cee-ba86-8fd52a72b1c5",
   "metadata": {},
   "outputs": [
    {
     "data": {
      "text/plain": [
       "array([4, 6, 5, 9, 1])"
      ]
     },
     "execution_count": 9,
     "metadata": {},
     "output_type": "execute_result"
    }
   ],
   "source": [
    "#<2>用numpy列表来创建Series对象\n",
    "data2=np.random.randint(0,10,size=5)\n",
    "data2"
   ]
  },
  {
   "cell_type": "code",
   "execution_count": 11,
   "id": "54ae48ab-e591-40c1-bfd8-e03914a3eaa9",
   "metadata": {},
   "outputs": [
    {
     "data": {
      "text/plain": [
       "0    4\n",
       "1    6\n",
       "2    5\n",
       "3    9\n",
       "4    1\n",
       "dtype: int32"
      ]
     },
     "execution_count": 11,
     "metadata": {},
     "output_type": "execute_result"
    }
   ],
   "source": [
    "#s2与data2两个对象的内容存取是属于引用关系。也就是共享一个内存存储空间，内容是联动\n",
    "s2=Series(data=data2)\n",
    "s2"
   ]
  },
  {
   "cell_type": "code",
   "execution_count": 14,
   "id": "bf6b18e4-0b69-4c7e-87ae-685a8fc9b72d",
   "metadata": {},
   "outputs": [
    {
     "data": {
      "text/plain": [
       "lucy    89\n",
       "mery    97\n",
       "tom     70\n",
       "jack    94\n",
       "tony    20\n",
       "Name: Score, dtype: int32"
      ]
     },
     "execution_count": 14,
     "metadata": {},
     "output_type": "execute_result"
    }
   ],
   "source": [
    "#index索引其实用来充当Series中的行标签；让数据更有意义和数据分析业务表达更适配\n",
    "index=['lucy','mery','tom','jack','tony']\n",
    "data=np.random.randint(0,100,size=5)\n",
    "s3=Series(data=data,index=index,name='Score')  #Series对象只能是一维数组，不能是多维数组；如果要处理高维，可以用DataFrame\n",
    "s3"
   ]
  },
  {
   "cell_type": "code",
   "execution_count": null,
   "id": "8f1cfbf3-7fa2-474e-8a81-9c519727650f",
   "metadata": {},
   "outputs": [],
   "source": [
    "#<3>由字典创建"
   ]
  },
  {
   "cell_type": "code",
   "execution_count": 16,
   "id": "3608cf6e-c2b1-4a14-b8ff-78c03b2d1607",
   "metadata": {},
   "outputs": [],
   "source": [
    "dic={\n",
    "    'lucy':60,\n",
    "    'mery':80,\n",
    "    'tom':76,\n",
    "    'tony':92\n",
    "}"
   ]
  },
  {
   "cell_type": "code",
   "execution_count": 18,
   "id": "dca59f56-ea4e-4a16-b83c-f363502dc2fc",
   "metadata": {},
   "outputs": [
    {
     "data": {
      "text/plain": [
       "lucy    60\n",
       "mery    80\n",
       "tom     76\n",
       "tony    92\n",
       "dtype: int64"
      ]
     },
     "execution_count": 18,
     "metadata": {},
     "output_type": "execute_result"
    }
   ],
   "source": [
    "#字典中的key值会自动设置为索引\n",
    "Series(data=dic)"
   ]
  },
  {
   "cell_type": "code",
   "execution_count": 19,
   "id": "6c73a414-2165-4fb1-b5eb-fc573791241d",
   "metadata": {},
   "outputs": [
    {
     "data": {
      "text/plain": [
       "lucy     60.0\n",
       "mery     80.0\n",
       "nokey     NaN\n",
       "dtype: float64"
      ]
     },
     "execution_count": 19,
     "metadata": {},
     "output_type": "execute_result"
    }
   ],
   "source": [
    "#如果显示指定的index，index的优先级别会高于字典的键\n",
    "Series(data=dic,index=['lucy','mery','nokey'])"
   ]
  },
  {
   "cell_type": "markdown",
   "id": "2d324a28-b232-42ad-b3ec-94dd43ba449b",
   "metadata": {},
   "source": [
    "**（4）Series的索引和切片**  \n",
    "1、显式索引  \n",
    " 使用index中的元素作为索引值  \n",
    " 使用.loc[]（推荐）  \n",
    " 注意：此时是闭区间  "
   ]
  },
  {
   "cell_type": "code",
   "execution_count": 4,
   "id": "71b36059-76a6-436e-a865-405bf8147c24",
   "metadata": {},
   "outputs": [
    {
     "data": {
      "text/plain": [
       "A    39\n",
       "B    12\n",
       "C    35\n",
       "D    91\n",
       "E    94\n",
       "dtype: int32"
      ]
     },
     "execution_count": 4,
     "metadata": {},
     "output_type": "execute_result"
    }
   ],
   "source": [
    "data =np.random.randint(0,100,size=5)\n",
    "index=list('ABCDE')\n",
    "s=Series(data=data,index=index)\n",
    "s"
   ]
  },
  {
   "cell_type": "code",
   "execution_count": 21,
   "id": "649c01ae-a218-4798-bc82-14e77ffdddbd",
   "metadata": {},
   "outputs": [
    {
     "data": {
      "text/plain": [
       "16"
      ]
     },
     "execution_count": 21,
     "metadata": {},
     "output_type": "execute_result"
    }
   ],
   "source": [
    "#<1>字典访问\n",
    "s['B']"
   ]
  },
  {
   "cell_type": "code",
   "execution_count": 22,
   "id": "9c3324b8-85a6-45b5-ac1e-e11753ee314b",
   "metadata": {},
   "outputs": [
    {
     "data": {
      "text/plain": [
       "16"
      ]
     },
     "execution_count": 22,
     "metadata": {},
     "output_type": "execute_result"
    }
   ],
   "source": [
    "#<2>属性访问\n",
    "s.B"
   ]
  },
  {
   "cell_type": "code",
   "execution_count": 23,
   "id": "e1684c0d-9754-4c15-bb8b-94e9a4f1a4a2",
   "metadata": {},
   "outputs": [
    {
     "data": {
      "text/plain": [
       "55"
      ]
     },
     "execution_count": 23,
     "metadata": {},
     "output_type": "execute_result"
    }
   ],
   "source": [
    "#<3>Series访问【推荐】\n",
    "s.loc['A']"
   ]
  },
  {
   "cell_type": "code",
   "execution_count": 27,
   "id": "6fa644dc-a17c-4c8d-8a37-5777ecb7d819",
   "metadata": {},
   "outputs": [
    {
     "data": {
      "text/plain": [
       "A    55\n",
       "B    16\n",
       "dtype: int32"
      ]
     },
     "execution_count": 27,
     "metadata": {},
     "output_type": "execute_result"
    }
   ],
   "source": [
    "#<4>多元素访问。注意：这个返回的值类型属于子Series对象\n",
    "#s[['A','B']]\n",
    "s.loc[['A','B']]"
   ]
  },
  {
   "cell_type": "code",
   "execution_count": 28,
   "id": "18c761e6-6f76-4e2c-84e0-39e96a8ec001",
   "metadata": {},
   "outputs": [
    {
     "data": {
      "text/plain": [
       "A    55\n",
       "C    54\n",
       "dtype: int32"
      ]
     },
     "execution_count": 28,
     "metadata": {},
     "output_type": "execute_result"
    }
   ],
   "source": [
    "#<5>布尔列表访问。\n",
    "#s[[True,False,True,False,False]]\n",
    "s.loc[[True,False,True,False,False]]"
   ]
  },
  {
   "cell_type": "code",
   "execution_count": 29,
   "id": "f01cbd00-48e5-476b-b919-7f34209095db",
   "metadata": {},
   "outputs": [
    {
     "data": {
      "text/plain": [
       "array([55, 16, 54, 81, 13])"
      ]
     },
     "execution_count": 29,
     "metadata": {},
     "output_type": "execute_result"
    }
   ],
   "source": [
    "#使用values属性（获取Series中所有data的值）\n",
    "s.values"
   ]
  },
  {
   "cell_type": "code",
   "execution_count": 30,
   "id": "a114ae10-1ded-4593-b29d-629e8733b3fc",
   "metadata": {},
   "outputs": [
    {
     "data": {
      "text/plain": [
       "array([False, False, False,  True, False])"
      ]
     },
     "execution_count": 30,
     "metadata": {},
     "output_type": "execute_result"
    }
   ],
   "source": [
    "#找出所有data值大于60及以上的人\n",
    "s.values >60"
   ]
  },
  {
   "cell_type": "code",
   "execution_count": 32,
   "id": "6b4b92b0-eed6-4521-a224-edb26dc13be1",
   "metadata": {},
   "outputs": [
    {
     "data": {
      "text/plain": [
       "D    81\n",
       "dtype: int32"
      ]
     },
     "execution_count": 32,
     "metadata": {},
     "output_type": "execute_result"
    }
   ],
   "source": [
    "#使用了bool值来读取Series对象的信息内容\n",
    "s[s.values >60]"
   ]
  },
  {
   "cell_type": "code",
   "execution_count": 34,
   "id": "cb424ad2-617d-4cd0-82af-c5ec897bcc05",
   "metadata": {},
   "outputs": [
    {
     "data": {
      "text/plain": [
       "A    55\n",
       "C    54\n",
       "D    81\n",
       "dtype: int32"
      ]
     },
     "execution_count": 34,
     "metadata": {},
     "output_type": "execute_result"
    }
   ],
   "source": [
    "#找出有哪些data的值大于平均数值的人\n",
    "s[s.values >s.values.mean()]"
   ]
  },
  {
   "cell_type": "markdown",
   "id": "ae97b71c-f1fe-47ed-b774-009b89828c36",
   "metadata": {},
   "source": [
    "2、隐式索引  \n",
    " 使用整数作为索引值  \n",
    " 使用.iloc[]（推荐）  \n",
    " 注意：此时是半开区间  "
   ]
  },
  {
   "cell_type": "code",
   "execution_count": 5,
   "id": "b77ce80f-e2e5-40c8-a9a6-ef4f8c5b59d0",
   "metadata": {},
   "outputs": [
    {
     "data": {
      "text/plain": [
       "39"
      ]
     },
     "execution_count": 5,
     "metadata": {},
     "output_type": "execute_result"
    }
   ],
   "source": [
    "#访问方法1：数值访问方式（下标--索引）\n",
    "s[0]"
   ]
  },
  {
   "cell_type": "code",
   "execution_count": 6,
   "id": "03934951-4072-47c2-9fcf-003275b0ef73",
   "metadata": {},
   "outputs": [
    {
     "data": {
      "text/plain": [
       "39"
      ]
     },
     "execution_count": 6,
     "metadata": {},
     "output_type": "execute_result"
    }
   ],
   "source": [
    "#访问方法2：隐式访问iloc【推荐此方法】\n",
    "s.iloc[0]"
   ]
  },
  {
   "cell_type": "code",
   "execution_count": 11,
   "id": "c884ab7a-4dc2-47cb-92c6-977ea547e86e",
   "metadata": {},
   "outputs": [
    {
     "data": {
      "text/plain": [
       "A    39\n",
       "B    12\n",
       "C    35\n",
       "B    12\n",
       "dtype: int32"
      ]
     },
     "execution_count": 11,
     "metadata": {},
     "output_type": "execute_result"
    }
   ],
   "source": [
    "#多元素访问(隐式iloc)\n",
    "s.iloc[[0,1,2,1]]"
   ]
  },
  {
   "cell_type": "markdown",
   "id": "a4f50a4b-f689-45f9-a53f-58a5ac11e063",
   "metadata": {},
   "source": [
    "3、Series切片  \n",
    "  显式索引切片（左闭右闭）  \n",
    "  隐式索引切片（左闭右开）  "
   ]
  },
  {
   "cell_type": "code",
   "execution_count": 13,
   "id": "6eb3ee20-7f9e-4635-810e-26300749f5b8",
   "metadata": {},
   "outputs": [
    {
     "data": {
      "text/plain": [
       "0    59\n",
       "1    35\n",
       "2    10\n",
       "3    53\n",
       "4    44\n",
       "dtype: int32"
      ]
     },
     "execution_count": 13,
     "metadata": {},
     "output_type": "execute_result"
    }
   ],
   "source": [
    "s1=Series(data=np.random.randint(0,100,size=5))\n",
    "s1"
   ]
  },
  {
   "cell_type": "code",
   "execution_count": 14,
   "id": "64a20569-1054-4581-87b1-81d273bbabcb",
   "metadata": {},
   "outputs": [
    {
     "data": {
      "text/plain": [
       "A    39\n",
       "B    12\n",
       "C    35\n",
       "dtype: int32"
      ]
     },
     "execution_count": 14,
     "metadata": {},
     "output_type": "execute_result"
    }
   ],
   "source": [
    "#显式索引切片（闭区间）<一般字符索引为闭区间；而数字索引为左闭右开>\n",
    "s.loc['A':'C']"
   ]
  },
  {
   "cell_type": "code",
   "execution_count": 15,
   "id": "dee3cf14-f513-4469-8eaa-a4a2f79cb2f0",
   "metadata": {},
   "outputs": [
    {
     "data": {
      "text/plain": [
       "0    59\n",
       "1    35\n",
       "2    10\n",
       "dtype: int32"
      ]
     },
     "execution_count": 15,
     "metadata": {},
     "output_type": "execute_result"
    }
   ],
   "source": [
    "#loc默认传递的是显式索引，注意切片区间的表示问题\n",
    "s1.loc[0:2]"
   ]
  },
  {
   "cell_type": "code",
   "execution_count": 18,
   "id": "c646c502-7503-4a42-987b-1e531008cd4a",
   "metadata": {},
   "outputs": [
    {
     "data": {
      "text/plain": [
       "A    39\n",
       "B    12\n",
       "dtype: int32"
      ]
     },
     "execution_count": 18,
     "metadata": {},
     "output_type": "execute_result"
    }
   ],
   "source": [
    "#隐式索引切片（左闭右开）。注意：隐式索引指的只能用数字索引值（因为这是python系统自动于隐藏方式给的索引，所以叫隐式索引）\n",
    "s.iloc[0:2]"
   ]
  },
  {
   "cell_type": "code",
   "execution_count": 19,
   "id": "dcf623d8-430d-4daa-8e71-42588e8aaeb4",
   "metadata": {},
   "outputs": [
    {
     "data": {
      "text/plain": [
       "E    94\n",
       "D    91\n",
       "C    35\n",
       "B    12\n",
       "A    39\n",
       "dtype: int32"
      ]
     },
     "execution_count": 19,
     "metadata": {},
     "output_type": "execute_result"
    }
   ],
   "source": [
    "#倒序输出\n",
    "s.iloc[::-1]"
   ]
  },
  {
   "cell_type": "code",
   "execution_count": 20,
   "id": "c4b733db-3c00-4910-a88e-828cbc3b2795",
   "metadata": {},
   "outputs": [
    {
     "data": {
      "text/plain": [
       "B    12\n",
       "dtype: int32"
      ]
     },
     "execution_count": 20,
     "metadata": {},
     "output_type": "execute_result"
    }
   ],
   "source": [
    "#注意：列表访问，可以返回一整条信息<包括：索引-行标签和值>（而非只有一个值信息），其实返回的是一个子Series对象\n",
    "s[[1]]"
   ]
  },
  {
   "cell_type": "code",
   "execution_count": 21,
   "id": "0541c51a-3201-4c24-8a8c-1dd16bb2b456",
   "metadata": {},
   "outputs": [
    {
     "data": {
      "text/plain": [
       "C    35\n",
       "dtype: int32"
      ]
     },
     "execution_count": 21,
     "metadata": {},
     "output_type": "execute_result"
    }
   ],
   "source": [
    "s.loc[['C']]"
   ]
  }
 ],
 "metadata": {
  "kernelspec": {
   "display_name": "Python 3 (ipykernel)",
   "language": "python",
   "name": "python3"
  },
  "language_info": {
   "codemirror_mode": {
    "name": "ipython",
    "version": 3
   },
   "file_extension": ".py",
   "mimetype": "text/x-python",
   "name": "python",
   "nbconvert_exporter": "python",
   "pygments_lexer": "ipython3",
   "version": "3.11.5"
  }
 },
 "nbformat": 4,
 "nbformat_minor": 5
}
