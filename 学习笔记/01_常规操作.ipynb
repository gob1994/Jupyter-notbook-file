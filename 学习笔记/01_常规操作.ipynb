{
 "cells": [
  {
   "cell_type": "markdown",
   "id": "a59e323a-76fe-4edc-b1e0-dadd1f1870de",
   "metadata": {},
   "source": [
    "##启动jupyter notebook\n",
    "cmd-->jupyter notebook"
   ]
  },
  {
   "cell_type": "markdown",
   "id": "0df53414-c9c5-4537-91de-58010b3396fc",
   "metadata": {},
   "source": [
    "数据分析三个需求\n",
    "1、数据运算\n",
    "2、添加文字描述\n",
    "3、可视化的图表展示"
   ]
  },
  {
   "cell_type": "code",
   "execution_count": null,
   "id": "dee3f26b-be70-4982-9ef2-4f9177c60dc3",
   "metadata": {},
   "outputs": [],
   "source": [
    "cell\n",
    "单元格的两种状态\n",
    "1、编辑状态   ENTER、单击\n",
    "2、选中状态   ESC、单击左边空白处\n",
    "\n",
    "单元格操作\n",
    "1、新增单元格\n",
    "    B（下方）\n",
    "    A（上方）\n",
    "2、删除单元格\n",
    "    DD\n",
    "3、复制、粘贴、剪切单元格\n",
    "    C 复制\n",
    "    V 粘贴\n",
    "    X 剪切\n",
    "4、撤销\n",
    "    Z"
   ]
  },
  {
   "cell_type": "code",
   "execution_count": null,
   "id": "5b888753-86e7-401e-b05e-7a4e63badfd9",
   "metadata": {},
   "outputs": [],
   "source": [
    "单元格的两种模式（Typora<markdown语法应用软件>）\n",
    "    1、code  可以执行python代码（Y）\n",
    "    2、markdown  可以执行markdown语法格式的文本（M）\n",
    "\n",
    "单元格代码运行\n",
    "    Ctrl+Enter（shift+enter<运行当前单元格，并选中下方单元格>，alt+enter运行当前单元格，并在下方新增单元格）\n",
    "        Markdown模式下，进入预览状态\n",
    "        code模式下，进入运行状态"
   ]
  },
  {
   "cell_type": "markdown",
   "id": "e72348dd-392e-4608-afec-a7e0de459fae",
   "metadata": {},
   "source": [
    "**import pandas as pd** \n",
    "---\n"
   ]
  },
  {
   "cell_type": "markdown",
   "id": "833c2963-7913-46b7-a074-0504d1e97b28",
   "metadata": {},
   "source": [
    " #大标题"
   ]
  }
 ],
 "metadata": {
  "kernelspec": {
   "display_name": "Python 3 (ipykernel)",
   "language": "python",
   "name": "python3"
  },
  "language_info": {
   "codemirror_mode": {
    "name": "ipython",
    "version": 3
   },
   "file_extension": ".py",
   "mimetype": "text/x-python",
   "name": "python",
   "nbconvert_exporter": "python",
   "pygments_lexer": "ipython3",
   "version": "3.11.5"
  }
 },
 "nbformat": 4,
 "nbformat_minor": 5
}
