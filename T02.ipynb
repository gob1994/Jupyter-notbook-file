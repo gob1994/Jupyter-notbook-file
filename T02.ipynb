{
 "cells": [
  {
   "cell_type": "code",
   "execution_count": 1,
   "id": "eaaaff4b-0b1a-478f-b3d4-46a4cf77b6de",
   "metadata": {},
   "outputs": [],
   "source": [
    "import pandas as pd\n",
    "import numpy as np"
   ]
  },
  {
   "cell_type": "markdown",
   "id": "94405068-2297-4326-8af6-421b829b97f4",
   "metadata": {
    "jp-MarkdownHeadingCollapsed": true
   },
   "source": [
    "<div style='background:blue; width:200px; height:100px; font-size:50px; font-family:庞门正道真贵楷体; line-height:100px; text-align:center; vertical-align:middle'>大标题</div>"
   ]
  },
  {
   "cell_type": "markdown",
   "id": "dd0ef300-44f0-429b-84fa-1debc2e98c1d",
   "metadata": {
    "jp-MarkdownHeadingCollapsed": true
   },
   "source": [
    "<div style='background:blue; width:200px; font-size:50px; line-height:100px; text-align:center; vertical-align:middle'>大标题</div>"
   ]
  }
 ],
 "metadata": {
  "kernelspec": {
   "display_name": "Python 3 (ipykernel)",
   "language": "python",
   "name": "python3"
  },
  "language_info": {
   "codemirror_mode": {
    "name": "ipython",
    "version": 3
   },
   "file_extension": ".py",
   "mimetype": "text/x-python",
   "name": "python",
   "nbconvert_exporter": "python",
   "pygments_lexer": "ipython3",
   "version": "3.11.5"
  }
 },
 "nbformat": 4,
 "nbformat_minor": 5
}
